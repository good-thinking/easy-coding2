{
  "nbformat": 4,
  "nbformat_minor": 0,
  "metadata": {
    "colab": {
      "provenance": [],
      "authorship_tag": "ABX9TyOddY0r5S9nHhaXB6ga+t14",
      "include_colab_link": true
    },
    "kernelspec": {
      "name": "python3",
      "display_name": "Python 3"
    },
    "language_info": {
      "name": "python"
    }
  },
  "cells": [
    {
      "cell_type": "markdown",
      "metadata": {
        "id": "view-in-github",
        "colab_type": "text"
      },
      "source": [
        "<a href=\"https://colab.research.google.com/github/good-thinking/easy-coding2/blob/main/%EA%B5%AC%EA%B0%95%EC%A1%B0.ipynb\" target=\"_parent\"><img src=\"https://colab.research.google.com/assets/colab-badge.svg\" alt=\"Open In Colab\"/></a>"
      ]
    },
    {
      "cell_type": "markdown",
      "source": [
        "# 소년범죄자 수의 감소와 지능형 범죄자 수 증가"
      ],
      "metadata": {
        "id": "Aq6ojYksOQxd"
      }
    },
    {
      "cell_type": "code",
      "source": [
        "from google.colab import drive\n",
        "drive.mount('/content/drive')"
      ],
      "metadata": {
        "colab": {
          "base_uri": "https://localhost:8080/"
        },
        "id": "6Mw9YBT0OjtA",
        "outputId": "8b70be56-685d-4b62-96c9-a55d756b279a"
      },
      "execution_count": 1,
      "outputs": [
        {
          "output_type": "stream",
          "name": "stdout",
          "text": [
            "Mounted at /content/drive\n"
          ]
        }
      ]
    },
    {
      "cell_type": "code",
      "source": [
        "import pandas as pd\n",
        "import seaborn as sns\n",
        "import numpy as np\n",
        "from sklearn.model_selection import train_test_split\n",
        "from sklearn.compose import ColumnTransformer\n",
        "from sklearn.preprocessing import OneHotEncoder\n",
        "from sklearn.preprocessing import StandardScaler\n",
        "\n",
        "from sklearn.linear_model import LinearRegression \n",
        "from sklearn.metrics import mean_squared_error \n",
        "from math import sqrt\n",
        "import matplotlib.pyplot as plt\n",
        "from pandas.errors import InvalidIndexError\n",
        "\n",
        "from sklearn.linear_model import Ridge\n",
        "from sklearn.linear_model import Lasso\n",
        "from sklearn.linear_model import ElasticNet"
      ],
      "metadata": {
        "id": "3bzCZlVdO-CA"
      },
      "execution_count": 50,
      "outputs": []
    },
    {
      "cell_type": "code",
      "source": [
        "def read_file(file_address) :\n",
        "  print(\"-------------- file read ---------------\")\n",
        "  df = pd.read_csv(file_address, encoding = \"cp949\")\n",
        "  df = pd.DataFrame(df)\n",
        "  return df"
      ],
      "metadata": {
        "id": "4WP9bEuOPCXf"
      },
      "execution_count": 3,
      "outputs": []
    },
    {
      "cell_type": "code",
      "source": [
        "def normalization(df, column_number):\n",
        "  print(\"-------------- normalization ---------------\")\n",
        "  df[df.columns[column_number]] = np.log1p(df[df.columns[column_number]])\n",
        "  sns.distplot(df[df.columns[column_number]])\n",
        "  return df"
      ],
      "metadata": {
        "id": "MLLYs7zgPG2i"
      },
      "execution_count": 4,
      "outputs": []
    },
    {
      "cell_type": "code",
      "source": [
        "def data_IQR(df,column_number) :\n",
        "  print(\"-------------- Data_IQR ---------------\")\n",
        "  q1 = df[df.columns[column_number]].quantile(q=0.25)\n",
        "  q3 = df[df.columns[column_number]].quantile(q=0.75)\n",
        "  IQR = q3-q1\n",
        "  data_IQR2 = df[(df[df.columns[column_number]] < q3 + IQR * 1.5) & \n",
        "                 (df[df.columns[column_number]] > q1 - IQR * 1.5)]\n",
        "  sns.distplot(df[df.columns[column_number]])\n",
        "  return data_IQR2"
      ],
      "metadata": {
        "id": "fpZJVYiMPI-S"
      },
      "execution_count": 5,
      "outputs": []
    },
    {
      "cell_type": "code",
      "source": [
        "from typing_extensions import dataclass_transform\n",
        "def before_making_model(df, x_list, column_number):\n",
        "  num = x_list\n",
        "  X = df[num]\n",
        "  Y = df[df.columns[column_number]]\n",
        "  X_train, X_test, Y_train, Y_test = train_test_split(X, Y, test_size=0.3, random_state=0)\n",
        "  ct = ColumnTransformer([('scling', StandardScaler(), num)])\n",
        "  ct.fit(X_train)\n",
        "  X_train = ct.transform(X_train)\n",
        "  X_test = ct.transform(X_test)\n",
        "  return [X_train, X_test, Y_train, Y_test]"
      ],
      "metadata": {
        "id": "i3eH05fePLz9"
      },
      "execution_count": 28,
      "outputs": []
    },
    {
      "cell_type": "code",
      "source": [
        "def print_columns(df):\n",
        "  column = pd.DataFrame(df.columns)\n",
        "  print(column)\n"
      ],
      "metadata": {
        "id": "MpaGtkIgPN9i"
      },
      "execution_count": 7,
      "outputs": []
    },
    {
      "cell_type": "code",
      "source": [
        "def linearRegress(train_test_data,columns):\n",
        "  print(\"----------LinearRegression value-----------\")\n",
        "  X_train, X_test, Y_train, Y_test = train_test_data\n",
        "  #X_train = train_test_data[0]\n",
        "  #X_test = train_test_data[1]\n",
        "  #Y_train = train_test_data[2]\n",
        "  #Y_test = train_test_data[3]\n",
        "\n",
        "  lr = LinearRegression().fit(X_train, Y_train) \n",
        "  Y_pred = lr.predict(X_test)\n",
        "  print(\"predict value\\n\",Y_pred)\n",
        "  print(\"train R2 : {:.3f}\".format(lr.score(X_train, Y_train)))\n",
        "  print(\"test R2 : {:.3f}\".format(lr.score(X_test, Y_test))) \n",
        "  rmse = sqrt(mean_squared_error(Y_test, Y_pred)) \n",
        "  print(\"RMSE : {:.3f}\". format(rmse)) \n",
        "  print(\"--------------------------\")\n",
        "  print(columns)\n",
        "  print(\"절편\", np.round(lr.intercept_, 3))\n",
        "  print(\"가중치(beta)\", np.round(lr.coef_, 3))\n",
        "  return [Y_pred, Y_test]"
      ],
      "metadata": {
        "id": "wrviUKosPPyB"
      },
      "execution_count": 45,
      "outputs": []
    },
    {
      "cell_type": "code",
      "source": [
        "def Ridge_function(train_test_data):\n",
        "  X_train, X_test, Y_train, Y_test = train_test_data\n",
        "  lr_ridge = Ridge(random_state = 0).fit(X_train, Y_train)\n",
        "  Y_pred = lr_ridge.predict(X_test)\n",
        "  rmse = sqrt(mean_squared_error(Y_test, Y_pred))\n",
        "  print(\"ridge R2 : {:.3f}\".format(lr_ridge.score(X_train, Y_train)))\n",
        "  print(\"RMSE : {:.3f}\".format(rmse))\n",
        "  return [Y_pred, Y_test]\n"
      ],
      "metadata": {
        "id": "9iRJMjsSYuxa"
      },
      "execution_count": 56,
      "outputs": []
    },
    {
      "cell_type": "code",
      "source": [
        "def Lasso_function(train_test_data):\n",
        "  X_train, X_test, Y_train, Y_test = train_test_data\n",
        "  lr_lasso = Lasso(random_state = 0, alpha = 0.01, max_iter = 1000).fit(X_train, Y_train)\n",
        "  Y_pred = lr_lasso.predict(X_test)\n",
        "\n",
        "  rmse = sqrt(mean_squared_error(Y_test, Y_pred))\n",
        "  print(\"lasso R2 : {:.3f}\".format(lr_lasso.score(X_train, Y_train)))\n",
        "  print(\"RMSE : {:.3f}\".format(rmse))\n",
        "  return [Y_pred, Y_test]"
      ],
      "metadata": {
        "id": "zTuaEQXcagWC"
      },
      "execution_count": 64,
      "outputs": []
    },
    {
      "cell_type": "code",
      "source": [
        "def Elastic_function(train_test_data):\n",
        "  X_train, X_test, Y_train, Y_test = train_test_data\n",
        "  lr_ela = ElasticNet(alpha = 0.01).fit(X_train, Y_train)\n",
        "  Y_pred = lr_ela.predict(X_test)\n",
        "\n",
        "  rmse = sqrt(mean_squared_error(Y_test, Y_pred))\n",
        "  print(\"ela R2 : {:.3f}\".format(lr_ela.score(X_train, Y_train)))\n",
        "  print(\"RMSE : {:.3f}\".format(rmse))\n",
        "  return [Y_pred, Y_test]"
      ],
      "metadata": {
        "id": "vahUx5_Ea7TJ"
      },
      "execution_count": 67,
      "outputs": []
    },
    {
      "cell_type": "code",
      "source": [
        "def Reset_index(Y_test,column_number):\n",
        "  Y_test_df = (pd.DataFrame(Y_test)).reset_index()\n",
        "  Y_test_df = pd.DataFrame(Y_test_df[df.columns[column_number]])\n",
        "  return Y_test_df\n"
      ],
      "metadata": {
        "id": "_lALXv4MPSRu"
      },
      "execution_count": 9,
      "outputs": []
    },
    {
      "cell_type": "code",
      "source": [
        "def plot_picture(Y_pred,Y_test):\n",
        "  print(\"----------- plot grow----------- \")\n",
        "  %matplotlib Inline\n",
        "  plt.plot(Y_pred)\n",
        "  plt.plot(Y_test)"
      ],
      "metadata": {
        "id": "xT2B13rPPUUy"
      },
      "execution_count": 10,
      "outputs": []
    },
    {
      "cell_type": "code",
      "source": [
        "df = read_file(\"/content/drive/MyDrive/파이썬/총합데이터.csv\")\n",
        "df = normalization(df, 5)\n",
        "df = data_IQR(df,5)\n",
        "train_test_data = before_making_model(df,[df.columns[2],df.columns[3],df.columns[4], df.columns[6]],5)\n",
        "\n",
        "Y_value = linearRegress(train_test_data, df.columns)\n",
        "Y_test = Reset_index(Y_value[1],5)\n",
        "plot_picture(Y_value[0],Y_test)\n",
        "\n",
        "Y_value2 = Ridge_function(train_test_data)\n",
        "Y_test = Reset_index(Y_value2[1],5)\n",
        "plot_picture(Y_value2[0],Y_test)\n",
        "\n",
        "Y_value3 = Lasso_function(train_test_data)\n",
        "Y_test = Reset_index(Y_value3[1],5)\n",
        "plot_picture(Y_value3[0],Y_test)\n",
        "\n",
        "Y_value4 = Elastic_function(train_test_data)\n",
        "Y_test = Reset_index(Y_value4[1],5)\n",
        "plot_picture(Y_value4[0],Y_test)"
      ],
      "metadata": {
        "colab": {
          "base_uri": "https://localhost:8080/",
          "height": 942
        },
        "id": "GwfoD97rPVwN",
        "outputId": "47b690fe-2939-4838-bff4-38370a40fed6"
      },
      "execution_count": 68,
      "outputs": [
        {
          "output_type": "stream",
          "name": "stdout",
          "text": [
            "-------------- file read ---------------\n",
            "-------------- normalization ---------------\n",
            "-------------- Data_IQR ---------------\n",
            "----------LinearRegression value-----------\n",
            "predict value\n",
            " [2.69968882 2.69537222 2.67685396 2.66356519 2.63720303 2.66734652\n",
            " 2.67529824 2.69005778 2.65074097 2.67381009 2.69141663 2.66091628\n",
            " 2.657501   2.66406011 2.65368856 2.6716621  2.67486292 2.67636183\n",
            " 2.65236673 2.65871539 2.6501332  2.65600339 2.6578112  2.67200504\n",
            " 2.66054371 2.67178194 2.65041888 2.66481727 2.66314964 2.64932462\n",
            " 2.64756309 2.66272271 2.64872489 2.64670487 2.64952096 2.67542807\n",
            " 2.67416913 2.67988598 2.63268783 2.66349211 2.67619804 2.65743676\n",
            " 2.64768825 2.65214561]\n",
            "train R2 : 0.013\n",
            "test R2 : 0.039\n",
            "RMSE : 0.122\n",
            "--------------------------\n",
            "Index(['시점', '행정구역별', '경찰공무원 1인당 담당주민수<br>(A÷B)', '전체인구(A) (명)', '1인당 지역총소득',\n",
            "       '소년 천명당 소년범죄발생건수<br>(A÷B×1000) (건)', '인구 천명당 사설학원수<br>(A÷B×1000) (개)'],\n",
            "      dtype='object')\n",
            "절편 2.661\n",
            "가중치(beta) [ 0.013  0.001 -0.003 -0.004]\n",
            "----------- plot grow----------- \n",
            "ridge R2 : 0.013\n",
            "RMSE : 0.122\n",
            "----------- plot grow----------- \n",
            "lasso R2 : 0.004\n",
            "RMSE : 0.125\n",
            "----------- plot grow----------- \n",
            "ela R2 : 0.009\n",
            "RMSE : 0.124\n",
            "----------- plot grow----------- \n"
          ]
        },
        {
          "output_type": "stream",
          "name": "stderr",
          "text": [
            "/usr/local/lib/python3.8/dist-packages/seaborn/distributions.py:2619: FutureWarning: `distplot` is a deprecated function and will be removed in a future version. Please adapt your code to use either `displot` (a figure-level function with similar flexibility) or `histplot` (an axes-level function for histograms).\n",
            "  warnings.warn(msg, FutureWarning)\n",
            "/usr/local/lib/python3.8/dist-packages/seaborn/distributions.py:2619: FutureWarning: `distplot` is a deprecated function and will be removed in a future version. Please adapt your code to use either `displot` (a figure-level function with similar flexibility) or `histplot` (an axes-level function for histograms).\n",
            "  warnings.warn(msg, FutureWarning)\n"
          ]
        },
        {
          "output_type": "display_data",
          "data": {
            "text/plain": [
              "<Figure size 432x288 with 1 Axes>"
            ],
            "image/png": "[encoded data removed]"
          },
          "metadata": {
            "needs_background": "light"
          }
        }
      ]
    },
    {
      "cell_type": "code",
      "source": [
        "df"
      ],
      "metadata": {
        "colab": {
          "base_uri": "https://localhost:8080/",
          "height": 424
        },
        "id": "n3FyRJYAVjf4",
        "outputId": "5e574b4f-3c80-418e-9ffc-a73404e660ad"
      },
      "execution_count": 48,
      "outputs": [
        {
          "output_type": "execute_result",
          "data": {
            "text/plain": [
              "       시점    행정구역별  경찰공무원 1인당 담당주민수<br>(A÷B)  전체인구(A) (명)  1인당 지역총소득  \\\n",
              "0    2013       전국                     491.9     51141463      30038   \n",
              "1    2013    서울특별시                     396.7     10143645      39570   \n",
              "3    2013    대구광역시                     495.6      2501588      21992   \n",
              "4    2013    인천광역시                     550.1      2879782      25483   \n",
              "5    2013    광주광역시                     494.6      1472910      22992   \n",
              "..    ...      ...                       ...          ...        ...   \n",
              "151  2021     전라북도                     347.8      1786855      31157   \n",
              "152  2021     전라남도                     320.1      1832803      38857   \n",
              "153  2021     경상북도                     382.6      2626609      38000   \n",
              "154  2021     경상남도                     454.6      3314183      32968   \n",
              "155  2021  제주특별자치도                     327.7       676759      31999   \n",
              "\n",
              "     소년 천명당 소년범죄발생건수<br>(A÷B×1000) (건)  인구 천명당 사설학원수<br>(A÷B×1000) (개)  \n",
              "0                             2.747271                             1.5  \n",
              "1                             2.815409                             1.3  \n",
              "3                             2.895912                             1.5  \n",
              "4                             2.890372                             1.1  \n",
              "5                             2.873565                             2.3  \n",
              "..                                 ...                             ...  \n",
              "151                           2.595255                             2.2  \n",
              "152                           2.701361                             1.5  \n",
              "153                           2.484907                             1.4  \n",
              "154                           2.433613                             1.8  \n",
              "155                           2.517696                             1.6  \n",
              "\n",
              "[146 rows x 7 columns]"
            ],
            "text/html": [
              "\n",
              "  <div id=\"df-b988af7e-930d-4a51-a1ad-c1d36255d84c\">\n",
              "    <div class=\"colab-df-container\">\n",
              "      <div>\n",
              "<style scoped>\n",
              "    .dataframe tbody tr th:only-of-type {\n",
              "        vertical-align: middle;\n",
              "    }\n",
              "\n",
              "    .dataframe tbody tr th {\n",
              "        vertical-align: top;\n",
              "    }\n",
              "\n",
              "    .dataframe thead th {\n",
              "        text-align: right;\n",
              "    }\n",
              "</style>\n",
              "<table border=\"1\" class=\"dataframe\">\n",
              "  <thead>\n",
              "    <tr style=\"text-align: right;\">\n",
              "      <th></th>\n",
              "      <th>시점</th>\n",
              "      <th>행정구역별</th>\n",
              "      <th>경찰공무원 1인당 담당주민수&lt;br&gt;(A÷B)</th>\n",
              "      <th>전체인구(A) (명)</th>\n",
              "      <th>1인당 지역총소득</th>\n",
              "      <th>소년 천명당 소년범죄발생건수&lt;br&gt;(A÷B×1000) (건)</th>\n",
              "      <th>인구 천명당 사설학원수&lt;br&gt;(A÷B×1000) (개)</th>\n",
              "    </tr>\n",
              "  </thead>\n",
              "  <tbody>\n",
              "    <tr>\n",
              "      <th>0</th>\n",
              "      <td>2013</td>\n",
              "      <td>전국</td>\n",
              "      <td>491.9</td>\n",
              "      <td>51141463</td>\n",
              "      <td>30038</td>\n",
              "      <td>2.747271</td>\n",
              "      <td>1.5</td>\n",
              "    </tr>\n",
              "    <tr>\n",
              "      <th>1</th>\n",
              "      <td>2013</td>\n",
              "      <td>서울특별시</td>\n",
              "      <td>396.7</td>\n",
              "      <td>10143645</td>\n",
              "      <td>39570</td>\n",
              "      <td>2.815409</td>\n",
              "      <td>1.3</td>\n",
              "    </tr>\n",
              "    <tr>\n",
              "      <th>3</th>\n",
              "      <td>2013</td>\n",
              "      <td>대구광역시</td>\n",
              "      <td>495.6</td>\n",
              "      <td>2501588</td>\n",
              "      <td>21992</td>\n",
              "      <td>2.895912</td>\n",
              "      <td>1.5</td>\n",
              "    </tr>\n",
              "    <tr>\n",
              "      <th>4</th>\n",
              "      <td>2013</td>\n",
              "      <td>인천광역시</td>\n",
              "      <td>550.1</td>\n",
              "      <td>2879782</td>\n",
              "      <td>25483</td>\n",
              "      <td>2.890372</td>\n",
              "      <td>1.1</td>\n",
              "    </tr>\n",
              "    <tr>\n",
              "      <th>5</th>\n",
              "      <td>2013</td>\n",
              "      <td>광주광역시</td>\n",
              "      <td>494.6</td>\n",
              "      <td>1472910</td>\n",
              "      <td>22992</td>\n",
              "      <td>2.873565</td>\n",
              "      <td>2.3</td>\n",
              "    </tr>\n",
              "    <tr>\n",
              "      <th>...</th>\n",
              "      <td>...</td>\n",
              "      <td>...</td>\n",
              "      <td>...</td>\n",
              "      <td>...</td>\n",
              "      <td>...</td>\n",
              "      <td>...</td>\n",
              "      <td>...</td>\n",
              "    </tr>\n",
              "    <tr>\n",
              "      <th>151</th>\n",
              "      <td>2021</td>\n",
              "      <td>전라북도</td>\n",
              "      <td>347.8</td>\n",
              "      <td>1786855</td>\n",
              "      <td>31157</td>\n",
              "      <td>2.595255</td>\n",
              "      <td>2.2</td>\n",
              "    </tr>\n",
              "    <tr>\n",
              "      <th>152</th>\n",
              "      <td>2021</td>\n",
              "      <td>전라남도</td>\n",
              "      <td>320.1</td>\n",
              "      <td>1832803</td>\n",
              "      <td>38857</td>\n",
              "      <td>2.701361</td>\n",
              "      <td>1.5</td>\n",
              "    </tr>\n",
              "    <tr>\n",
              "      <th>153</th>\n",
              "      <td>2021</td>\n",
              "      <td>경상북도</td>\n",
              "      <td>382.6</td>\n",
              "      <td>2626609</td>\n",
              "      <td>38000</td>\n",
              "      <td>2.484907</td>\n",
              "      <td>1.4</td>\n",
              "    </tr>\n",
              "    <tr>\n",
              "      <th>154</th>\n",
              "      <td>2021</td>\n",
              "      <td>경상남도</td>\n",
              "      <td>454.6</td>\n",
              "      <td>3314183</td>\n",
              "      <td>32968</td>\n",
              "      <td>2.433613</td>\n",
              "      <td>1.8</td>\n",
              "    </tr>\n",
              "    <tr>\n",
              "      <th>155</th>\n",
              "      <td>2021</td>\n",
              "      <td>제주특별자치도</td>\n",
              "      <td>327.7</td>\n",
              "      <td>676759</td>\n",
              "      <td>31999</td>\n",
              "      <td>2.517696</td>\n",
              "      <td>1.6</td>\n",
              "    </tr>\n",
              "  </tbody>\n",
              "</table>\n",
              "<p>146 rows × 7 columns</p>\n",
              "</div>\n",
              "      <button class=\"colab-df-convert\" onclick=\"convertToInteractive('df-b988af7e-930d-4a51-a1ad-c1d36255d84c')\"\n",
              "              title=\"Convert this dataframe to an interactive table.\"\n",
              "              style=\"display:none;\">\n",
              "        \n",
              "  <svg xmlns=\"http://www.w3.org/2000/svg\" height=\"24px\"viewBox=\"0 0 24 24\"\n",
              "       width=\"24px\">\n",
              "    <path d=\"M0 0h24v24H0V0z\" fill=\"none\"/>\n",
              "    <path d=\"M18.56 5.44l.94 2.06.94-2.06 2.06-.94-2.06-.94-.94-2.06-.94 2.06-2.06.94zm-11 1L8.5 8.5l.94-2.06 2.06-.94-2.06-.94L8.5 2.5l-.94 2.06-2.06.94zm10 10l.94 2.06.94-2.06 2.06-.94-2.06-.94-.94-2.06-.94 2.06-2.06.94z\"/><path d=\"M17.41 7.96l-1.37-1.37c-.4-.4-.92-.59-1.43-.59-.52 0-1.04.2-1.43.59L10.3 9.45l-7.72 7.72c-.78.78-.78 2.05 0 2.83L4 21.41c.39.39.9.59 1.41.59.51 0 1.02-.2 1.41-.59l7.78-7.78 2.81-2.81c.8-.78.8-2.07 0-2.86zM5.41 20L4 18.59l7.72-7.72 1.47 1.35L5.41 20z\"/>\n",
              "  </svg>\n",
              "      </button>\n",
              "      \n",
              "  <style>\n",
              "    .colab-df-container {\n",
              "      display:flex;\n",
              "      flex-wrap:wrap;\n",
              "      gap: 12px;\n",
              "    }\n",
              "\n",
              "    .colab-df-convert {\n",
              "      background-color: #E8F0FE;\n",
              "      border: none;\n",
              "      border-radius: 50%;\n",
              "      cursor: pointer;\n",
              "      display: none;\n",
              "      fill: #1967D2;\n",
              "      height: 32px;\n",
              "      padding: 0 0 0 0;\n",
              "      width: 32px;\n",
              "    }\n",
              "\n",
              "    .colab-df-convert:hover {\n",
              "      background-color: #E2EBFA;\n",
              "      box-shadow: 0px 1px 2px rgba(60, 64, 67, 0.3), 0px 1px 3px 1px rgba(60, 64, 67, 0.15);\n",
              "      fill: #174EA6;\n",
              "    }\n",
              "\n",
              "    [theme=dark] .colab-df-convert {\n",
              "      background-color: #3B4455;\n",
              "      fill: #D2E3FC;\n",
              "    }\n",
              "\n",
              "    [theme=dark] .colab-df-convert:hover {\n",
              "      background-color: #434B5C;\n",
              "      box-shadow: 0px 1px 3px 1px rgba(0, 0, 0, 0.15);\n",
              "      filter: drop-shadow(0px 1px 2px rgba(0, 0, 0, 0.3));\n",
              "      fill: #FFFFFF;\n",
              "    }\n",
              "  </style>\n",
              "\n",
              "      <script>\n",
              "        const buttonEl =\n",
              "          document.querySelector('#df-b988af7e-930d-4a51-a1ad-c1d36255d84c button.colab-df-convert');\n",
              "        buttonEl.style.display =\n",
              "          google.colab.kernel.accessAllowed ? 'block' : 'none';\n",
              "\n",
              "        async function convertToInteractive(key) {\n",
              "          const element = document.querySelector('#df-b988af7e-930d-4a51-a1ad-c1d36255d84c');\n",
              "          const dataTable =\n",
              "            await google.colab.kernel.invokeFunction('convertToInteractive',\n",
              "                                                     [key], {});\n",
              "          if (!dataTable) return;\n",
              "\n",
              "          const docLinkHtml = 'Like what you see? Visit the ' +\n",
              "            '<a target=\"_blank\" href=https://colab.research.google.com/notebooks/data_table.ipynb>data table notebook</a>'\n",
              "            + ' to learn more about interactive tables.';\n",
              "          element.innerHTML = '';\n",
              "          dataTable['output_type'] = 'display_data';\n",
              "          await google.colab.output.renderOutput(dataTable, element);\n",
              "          const docLink = document.createElement('div');\n",
              "          docLink.innerHTML = docLinkHtml;\n",
              "          element.appendChild(docLink);\n",
              "        }\n",
              "      </script>\n",
              "    </div>\n",
              "  </div>\n",
              "  "
            ]
          },
          "metadata": {},
          "execution_count": 48
        }
      ]
    }
  ]
}