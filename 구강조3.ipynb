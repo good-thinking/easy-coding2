{
  "nbformat": 4,
  "nbformat_minor": 0,
  "metadata": {
    "colab": {
      "provenance": [],
      "mount_file_id": "1FjORGmAlBcKOSTal9ire_-jDLPoN2GW-",
      "authorship_tag": "ABX9TyONNAmV8n18L7Y7xc9gj15J",
      "include_colab_link": true
    },
    "kernelspec": {
      "name": "python3",
      "display_name": "Python 3"
    },
    "language_info": {
      "name": "python"
    }
  },
  "cells": [
    {
      "cell_type": "markdown",
      "metadata": {
        "id": "view-in-github",
        "colab_type": "text"
      },
      "source": [
        "<a href=\"https://colab.research.google.com/github/good-thinking/easy-coding2/blob/main/%EA%B5%AC%EA%B0%95%EC%A1%B03.ipynb\" target=\"_parent\"><img src=\"https://colab.research.google.com/assets/colab-badge.svg\" alt=\"Open In Colab\"/></a>"
      ]
    },
    {
      "cell_type": "markdown",
      "source": [
        "# 소년범죄자 수의 감소와 지능형 범죄자 수 증가"
      ],
      "metadata": {
        "id": "Aq6ojYksOQxd"
      }
    },
    {
      "cell_type": "code",
      "source": [
        "from google.colab import drive\n",
        "drive.mount('/content/drive')"
      ],
      "metadata": {
        "colab": {
          "base_uri": "https://localhost:8080/"
        },
        "id": "6Mw9YBT0OjtA",
        "outputId": "8b70be56-685d-4b62-96c9-a55d756b279a"
      },
      "execution_count": null,
      "outputs": [
        {
          "output_type": "stream",
          "name": "stdout",
          "text": [
            "Mounted at /content/drive\n"
          ]
        }
      ]
    },
    {
      "cell_type": "code",
      "source": [
        "import pandas as pd\n",
        "import seaborn as sns\n",
        "import numpy as np\n",
        "from sklearn.model_selection import train_test_split\n",
        "from sklearn.compose import ColumnTransformer\n",
        "from sklearn.preprocessing import OneHotEncoder\n",
        "from sklearn.preprocessing import StandardScaler\n",
        "\n",
        "from sklearn.linear_model import LinearRegression \n",
        "from sklearn.metrics import mean_squared_error \n",
        "from math import sqrt\n",
        "import matplotlib.pyplot as plt\n",
        "from pandas.errors import InvalidIndexError\n",
        "\n",
        "from sklearn.linear_model import Ridge\n",
        "from sklearn.linear_model import Lasso\n",
        "from sklearn.linear_model import ElasticNet\n",
        "\n",
        "from sklearn.neighbors import KNeighborsRegressor\n",
        "from sklearn.tree import DecisionTreeRegressor\n",
        "from sklearn.svm import SVR\n",
        "\n",
        "from sklearn.linear_model import BayesianRidge\n",
        "from sklearn.naive_bayes import GaussianNB\n"
      ],
      "metadata": {
        "id": "3bzCZlVdO-CA"
      },
      "execution_count": 98,
      "outputs": []
    },
    {
      "cell_type": "code",
      "source": [
        "def read_file(file_address) :\n",
        "  print(\"-------------- file read ---------------\")\n",
        "  df = pd.read_csv(file_address, encoding = \"cp949\")\n",
        "  df = pd.DataFrame(df)\n",
        "  return df"
      ],
      "metadata": {
        "id": "4WP9bEuOPCXf"
      },
      "execution_count": 3,
      "outputs": []
    },
    {
      "cell_type": "code",
      "source": [
        "def normalization(df, column_number):\n",
        "  print(\"-------------- normalization ---------------\")\n",
        "  df[df.columns[column_number]] = np.log1p(df[df.columns[column_number]])\n",
        "  sns.distplot(df[df.columns[column_number]])\n",
        "  return df"
      ],
      "metadata": {
        "id": "MLLYs7zgPG2i"
      },
      "execution_count": 4,
      "outputs": []
    },
    {
      "cell_type": "code",
      "source": [
        "def data_IQR(df,column_number) :\n",
        "  print(\"-------------- Data_IQR ---------------\")\n",
        "  q1 = df[df.columns[column_number]].quantile(q=0.25)\n",
        "  q3 = df[df.columns[column_number]].quantile(q=0.75)\n",
        "  IQR = q3-q1\n",
        "  data_IQR2 = df[(df[df.columns[column_number]] < q3 + IQR * 1.5) & \n",
        "                 (df[df.columns[column_number]] > q1 - IQR * 1.5)]\n",
        "  sns.distplot(df[df.columns[column_number]])\n",
        "  return data_IQR2"
      ],
      "metadata": {
        "id": "fpZJVYiMPI-S"
      },
      "execution_count": 5,
      "outputs": []
    },
    {
      "cell_type": "code",
      "source": [
        "from typing_extensions import dataclass_transform\n",
        "def before_making_model(df, x_list, column_number):\n",
        "  num = x_list\n",
        "  X = df[num]\n",
        "  Y = df[df.columns[column_number]]\n",
        "  X_train, X_test, Y_train, Y_test = train_test_split(X, Y, test_size=0.3, random_state=0)\n",
        "  ct = ColumnTransformer([('scling', StandardScaler(), num)])\n",
        "  ct.fit(X_train)\n",
        "  X_train = ct.transform(X_train)\n",
        "  X_test = ct.transform(X_test)\n",
        "  return [X_train, X_test, Y_train, Y_test]"
      ],
      "metadata": {
        "id": "i3eH05fePLz9"
      },
      "execution_count": 6,
      "outputs": []
    },
    {
      "cell_type": "code",
      "source": [
        "def print_columns(df):\n",
        "  column = pd.DataFrame(df.columns)\n",
        "  print(column)\n"
      ],
      "metadata": {
        "id": "MpaGtkIgPN9i"
      },
      "execution_count": 7,
      "outputs": []
    },
    {
      "cell_type": "code",
      "source": [
        "def linearRegress(train_test_data,columns):\n",
        "  print(\"----------LinearRegression value-----------\")\n",
        "  X_train, X_test, Y_train, Y_test = train_test_data\n",
        "  #X_train = train_test_data[0]\n",
        "  #X_test = train_test_data[1]\n",
        "  #Y_train = train_test_data[2]\n",
        "  #Y_test = train_test_data[3]\n",
        "\n",
        "  lr = LinearRegression().fit(X_train, Y_train) \n",
        "  Y_pred = lr.predict(X_test)\n",
        "  print(\"predict value\\n\",Y_pred)\n",
        "  print(\"[linear]\")\n",
        "  print(\"train R2 : {:.3f}\".format(lr.score(X_train, Y_train)))\n",
        "  print(\"test R2 : {:.3f}\".format(lr.score(X_test, Y_test))) \n",
        "  rmse = sqrt(mean_squared_error(Y_test, Y_pred)) \n",
        "  print(\"RMSE : {:.3f}\". format(rmse)) \n",
        "  print(columns)\n",
        "  print(\"절편\", np.round(lr.intercept_, 3))\n",
        "  print(\"가중치(beta)\", np.round(lr.coef_, 3))\n",
        "  return [Y_pred, Y_test]"
      ],
      "metadata": {
        "id": "wrviUKosPPyB"
      },
      "execution_count": 73,
      "outputs": []
    },
    {
      "cell_type": "code",
      "source": [
        "def Ridge_function(train_test_data):\n",
        "  X_train, X_test, Y_train, Y_test = train_test_data\n",
        "  lr_ridge = Ridge(random_state = 0).fit(X_train, Y_train)\n",
        "  Y_pred = lr_ridge.predict(X_test)\n",
        "  rmse = sqrt(mean_squared_error(Y_test, Y_pred))\n",
        "  print(\"[ridge]\")\n",
        "  print(\"ridge R2 : {:.3f}\".format(lr_ridge.score(X_train, Y_train)))\n",
        "  print(\"RMSE : {:.3f}\".format(rmse))\n",
        "  print(\"절편\", np.round(lr_ridge.intercept_, 3))\n",
        "  print(\"가중치(beta)\", np.round(lr_ridge.coef_, 3))\n",
        "  return [Y_pred, Y_test]\n"
      ],
      "metadata": {
        "id": "9iRJMjsSYuxa"
      },
      "execution_count": 106,
      "outputs": []
    },
    {
      "cell_type": "code",
      "source": [
        "def Lasso_function(train_test_data):\n",
        "  X_train, X_test, Y_train, Y_test = train_test_data\n",
        "  lr_lasso = Lasso(random_state = 0, alpha = 0.01, max_iter = 1000).fit(X_train, Y_train)\n",
        "  Y_pred = lr_lasso.predict(X_test)\n",
        "\n",
        "  rmse = sqrt(mean_squared_error(Y_test, Y_pred))\n",
        "  print(\"[lasso]\")\n",
        "  print(\"lasso R2 : {:.3f}\".format(lr_lasso.score(X_train, Y_train)))\n",
        "  print(\"RMSE : {:.3f}\".format(rmse))\n",
        "  print(\"절편\", np.round(lr_lasso.intercept_, 3))\n",
        "  print(\"가중치(beta)\", np.round(lr_lasso.coef_, 3))\n",
        "  return [Y_pred, Y_test]"
      ],
      "metadata": {
        "id": "zTuaEQXcagWC"
      },
      "execution_count": 108,
      "outputs": []
    },
    {
      "cell_type": "code",
      "source": [
        "def Elastic_function(train_test_data):\n",
        "  X_train, X_test, Y_train, Y_test = train_test_data\n",
        "  lr_ela = ElasticNet(alpha = 0.01).fit(X_train, Y_train)\n",
        "  Y_pred = lr_ela.predict(X_test)\n",
        "\n",
        "  rmse = sqrt(mean_squared_error(Y_test, Y_pred))\n",
        "  print(\"[elastic]\")\n",
        "  print(\"ela R2 : {:.3f}\".format(lr_ela.score(X_train, Y_train)))\n",
        "  print(\"RMSE : {:.3f}\".format(rmse))\n",
        "  print(\"절편\", np.round(lr_ela.intercept_, 3))\n",
        "  print(\"가중치(beta)\", np.round(lr_ela.coef_, 3))\n",
        "  return [Y_pred, Y_test]"
      ],
      "metadata": {
        "id": "vahUx5_Ea7TJ"
      },
      "execution_count": 109,
      "outputs": []
    },
    {
      "cell_type": "code",
      "source": [
        "def Reset_index(Y_test,column_number):\n",
        "  Y_test_df = (pd.DataFrame(Y_test)).reset_index()\n",
        "  Y_test_df = pd.DataFrame(Y_test_df[df.columns[column_number]])\n",
        "  return Y_test_df\n"
      ],
      "metadata": {
        "id": "_lALXv4MPSRu"
      },
      "execution_count": 12,
      "outputs": []
    },
    {
      "cell_type": "code",
      "source": [
        "def plot_picture(Y_pred,Y_test):\n",
        "  print(\"----------- plot grow----------- \")\n",
        "  %matplotlib Inline\n",
        "  plt.plot(Y_pred)\n",
        "  plt.plot(Y_test)"
      ],
      "metadata": {
        "id": "xT2B13rPPUUy"
      },
      "execution_count": 13,
      "outputs": []
    },
    {
      "cell_type": "code",
      "source": [
        "def knn_reg_function(train_test_data, column_number):\n",
        "  X_train, X_test, Y_train, Y_test = train_test_data\n",
        "  knn_reg = KNeighborsRegressor(n_neighbors=9, p =2)\n",
        "  knn_reg.fit(X_train, Y_train)\n",
        "  Y_pred = knn_reg.predict(X_test)\n",
        "  print(\"[knn neighbors]\")\n",
        "  print(\"accuracy: {:.3f}\".format(knn_reg.score(X_train, Y_train)))\n",
        "  rmse = sqrt(mean_squared_error(Y_test, Y_pred))\n",
        "  print(\"RMSE: {:.3f}\".format(rmse))\n",
        "  return [Y_pred, Y_test]\n"
      ],
      "metadata": {
        "id": "0bBlTu-qhu2r"
      },
      "execution_count": 114,
      "outputs": []
    },
    {
      "cell_type": "code",
      "source": [
        "def decision_tree(train_test_data, column_number):\n",
        "  X_train, X_test, Y_train, Y_test = train_test_data\n",
        "  DT_model_reg = DecisionTreeRegressor(random_state = 0, max_depth = 5)\n",
        "  DT_model_reg.fit(X_train, Y_train)\n",
        "  Y_pred = DT_model_reg.predict(X_test)\n",
        "  print(\"[decision_tree]\")\n",
        "  print(\"accuracy : {:.3f}\".format(DT_model_reg.score(X_train, Y_train)))\n",
        "  rmse = sqrt(mean_squared_error(Y_test, Y_pred))\n",
        "  print(\"rmse :  {:.3f}\".format(rmse))\n",
        "  return [Y_pred, Y_test]"
      ],
      "metadata": {
        "id": "O6Sfp2Wv2P0_"
      },
      "execution_count": 82,
      "outputs": []
    },
    {
      "cell_type": "code",
      "source": [
        "def SVR_function(train_test_data, column_number):\n",
        "  X_train, X_test, Y_train, Y_test = train_test_data\n",
        "  SVR_model = SVR(C=1, kernel = \"linear\", epsilon = 0.1)\n",
        "  SVR_model.fit(X_train, Y_train)\n",
        "  Y_pred = SVR_model.predict(X_test)\n",
        "  print(\"[SVM : Support Vector Machine]\")\n",
        "  print(\"accuracy : {:.3f}\".format(SVR_model.score(X_train, Y_train)))\n",
        "  rmse = sqrt(mean_squared_error(Y_test, Y_pred))\n",
        "  print(\"RMSE : {:.3f}\".format(rmse))\n",
        "  print(SVR_model.coef_)\n",
        "  return [Y_pred, Y_test]"
      ],
      "metadata": {
        "id": "i3NQmW8Y3mGK"
      },
      "execution_count": 91,
      "outputs": []
    },
    {
      "cell_type": "code",
      "source": [
        "def Naive_Bayes(train_test_data, column_number):\n",
        "  X_train, X_test, Y_train, Y_test = train_test_data\n",
        "  NB_model = GaussianNB(var_smoothing = 0)\n",
        "  NB_model.fit(X_train, Y_train)\n",
        "  Y_pred = NB_model.predict(X_test)\n",
        "  print(\"[Naive Bayes]\")\n",
        "  print(\"accuracy : {:.3f}\".format(NB_model.score(X_train, Y_train)))\n",
        "  print(classification_report(Y_test, Y_pred))\n",
        "  return [Y_pred, Y_test]"
      ],
      "metadata": {
        "id": "lsOt43-15Gg1"
      },
      "execution_count": 100,
      "outputs": []
    },
    {
      "cell_type": "code",
      "source": [
        "df = read_file(\"/content/drive/MyDrive/파이썬/data_revised.csv\")\n",
        "#df = normalization(df, 2)\n",
        "df = data_IQR(df,2)\n",
        "train_test_data = before_making_model(df,[df.columns[3],df.columns[4],df.columns[5], df.columns[6]],2)\n",
        "\n",
        "Y_value = linearRegress(train_test_data, df.columns)\n",
        "Y_test = Reset_index(Y_value[1],2)\n",
        "plot_picture(Y_value[0],Y_test)\n",
        "\n",
        "Y_value2 = Ridge_function(train_test_data)\n",
        "Y_test = Reset_index(Y_value2[1],2)\n",
        "plot_picture(Y_value2[0],Y_test)\n",
        "\n",
        "Y_value3 = Lasso_function(train_test_data)\n",
        "Y_test = Reset_index(Y_value3[1],2)\n",
        "plot_picture(Y_value3[0],Y_test)\n",
        "\n",
        "Y_value4 = Elastic_function(train_test_data)\n",
        "Y_test = Reset_index(Y_value4[1],2)\n",
        "plot_picture(Y_value4[0],Y_test)\n",
        "\n",
        "Y_value5 = knn_reg_function(train_test_data, df.columns)\n",
        "Y_test = Reset_index(Y_value5[1],2)\n",
        "plot_picture(Y_value5[0],Y_test)\n",
        "\n",
        "Y_value6 = decision_tree(train_test_data, df.columns)\n",
        "Y_test = Reset_index(Y_value6[1],2)\n",
        "plot_picture(Y_value6[0],Y_test)\n",
        "\n",
        "Y_value7 = SVR_function(train_test_data, df.columns)\n",
        "Y_test = Reset_index(Y_value7[1],2)\n",
        "plot_picture(Y_value6[0],Y_test)\n",
        "\n",
        "#Y_value8 = Naive_Bayes(train_test_data, df.columns)\n",
        "#Y_test = Reset_index(Y_value8[1],2)\n",
        "#plot_picture(Y_value6[0],Y_test)"
      ],
      "metadata": {
        "colab": {
          "base_uri": "https://localhost:8080/",
          "height": 1000
        },
        "id": "GwfoD97rPVwN",
        "outputId": "054bc50d-3ec1-4d65-a87a-d13219c9c931"
      },
      "execution_count": 115,
      "outputs": [
        {
          "output_type": "stream",
          "name": "stdout",
          "text": [
            "-------------- file read ---------------\n",
            "-------------- Data_IQR ---------------\n",
            "----------LinearRegression value-----------\n",
            "predict value\n",
            " [13.82643071 13.40585771 13.29690529 13.55174873 13.21136146 13.36302183\n",
            " 13.13756862 13.50179978 13.12822635 13.52285309 13.37946439 13.16033436\n",
            " 13.21793767 13.40861757 13.39956029 13.25447068 13.23072272 13.25814979\n",
            " 13.10969498 13.56869761 13.35580666 13.16702294 13.54392582 13.18192069\n",
            " 13.15726194 13.28359228 13.22809135 13.09097563 13.34441544 13.43465785\n",
            " 13.6962247  13.18379958 13.25157561 13.46855315 13.19175256 13.59022852\n",
            " 13.18041581 13.4341458  13.21249831 13.32160826 13.39657894 13.19838982\n",
            " 13.37523519 13.15496772]\n",
            "[linear]\n",
            "train R2 : 0.010\n",
            "test R2 : 0.039\n",
            "RMSE : 1.543\n",
            "Index(['ID', 'Year', 'Y', 'X1', 'X2', 'X3', 'X4'], dtype='object')\n",
            "절편 13.38\n",
            "가중치(beta) [ 0.16   0.022  0.013 -0.052]\n",
            "----------- plot grow----------- \n",
            "[ridge]\n",
            "ridge R2 : 0.010\n",
            "RMSE : 1.543\n",
            "절편 13.38\n",
            "가중치(beta) [ 0.158  0.022  0.013 -0.051]\n",
            "----------- plot grow----------- \n",
            "[lasso]\n",
            "lasso R2 : 0.010\n",
            "RMSE : 1.540\n",
            "절편 13.38\n",
            "가중치(beta) [ 0.15   0.015  0.003 -0.043]\n",
            "----------- plot grow----------- \n",
            "[elastic]\n",
            "ela R2 : 0.010\n",
            "RMSE : 1.542\n",
            "절편 13.38\n",
            "가중치(beta) [ 0.154  0.018  0.008 -0.047]\n",
            "----------- plot grow----------- \n",
            "[knn neighbors]\n",
            "accuracy: 0.360\n",
            "RMSE: 1.528\n",
            "----------- plot grow----------- \n"
          ]
        },
        {
          "output_type": "stream",
          "name": "stderr",
          "text": [
            "/usr/local/lib/python3.8/dist-packages/seaborn/distributions.py:2619: FutureWarning: `distplot` is a deprecated function and will be removed in a future version. Please adapt your code to use either `displot` (a figure-level function with similar flexibility) or `histplot` (an axes-level function for histograms).\n",
            "  warnings.warn(msg, FutureWarning)\n"
          ]
        },
        {
          "output_type": "stream",
          "name": "stdout",
          "text": [
            "[decision_tree]\n",
            "accuracy : 0.805\n",
            "rmse :  1.517\n",
            "----------- plot grow----------- \n",
            "[SVM : Support Vector Machine]\n",
            "accuracy : -0.024\n",
            "RMSE : 1.483\n",
            "[[ 0.40190517  0.12143983 -0.06513773 -0.01358667]]\n",
            "----------- plot grow----------- \n"
          ]
        },
        {
          "output_type": "display_data",
          "data": {
            "text/plain": [
              "<Figure size 432x288 with 1 Axes>"
            ],
            "image/png": "[encoded data removed]"
          },
          "metadata": {
            "needs_background": "light"
          }
        }
      ]
    }
  ]
}