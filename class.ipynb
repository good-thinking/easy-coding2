{
  "nbformat": 4,
  "nbformat_minor": 0,
  "metadata": {
    "colab": {
      "provenance": [],
      "mount_file_id": "1cvEwlrJ4h5GQfRTvMIFuJc5zMHRT9Nqt",
      "authorship_tag": "ABX9TyOhYMMTl8/iKMgxaJCw6Bnb",
      "include_colab_link": true
    },
    "kernelspec": {
      "name": "python3",
      "display_name": "Python 3"
    },
    "language_info": {
      "name": "python"
    }
  },
  "cells": [
    {
      "cell_type": "markdown",
      "metadata": {
        "id": "view-in-github",
        "colab_type": "text"
      },
      "source": [
        "<a href=\"https://colab.research.google.com/github/good-thinking/easy-coding2/blob/main/class.ipynb\" target=\"_parent\"><img src=\"https://colab.research.google.com/assets/colab-badge.svg\" alt=\"Open In Colab\"/></a>"
      ]
    },
    {
      "cell_type": "code",
      "execution_count": 1,
      "metadata": {
        "id": "t5Ku3KMNTD24"
      },
      "outputs": [],
      "source": [
        "class Complex :\n",
        "  def __init__(self, realpart, imagpart):\n",
        "    self.r = realpart\n",
        "    self.i = imagpart\n"
      ]
    },
    {
      "cell_type": "code",
      "source": [
        "x = Complex(3.0, -4.5)\n",
        "x.r, x.i"
      ],
      "metadata": {
        "colab": {
          "base_uri": "https://localhost:8080/"
        },
        "id": "MdognLr6TU4K",
        "outputId": "10ccce61-44d4-461b-8dbf-4d270aa3786f"
      },
      "execution_count": 3,
      "outputs": [
        {
          "output_type": "execute_result",
          "data": {
            "text/plain": [
              "(3.0, -4.5)"
            ]
          },
          "metadata": {},
          "execution_count": 3
        }
      ]
    },
    {
      "cell_type": "code",
      "source": [
        "class Dog :\n",
        "  def __init__(self,name) :\n",
        "    self.name = name\n",
        "    self.tricks= []\n",
        "  def add_trick(self,trick):\n",
        "    self.tricks.append(trick)\n",
        "    "
      ],
      "metadata": {
        "id": "77BoNVO1T7w3"
      },
      "execution_count": 4,
      "outputs": []
    },
    {
      "cell_type": "code",
      "source": [
        "d = Dog('Fido')\n",
        "e = Dog('Buddy')\n",
        "d.add_trick('roll over')\n",
        "e.add_trick('paly dead')\n"
      ],
      "metadata": {
        "id": "A2BZQrTwUIF_"
      },
      "execution_count": 5,
      "outputs": []
    },
    {
      "cell_type": "code",
      "source": [
        "d.tricks\n",
        "e.tricks"
      ],
      "metadata": {
        "colab": {
          "base_uri": "https://localhost:8080/"
        },
        "id": "aEe6TpUNUWyE",
        "outputId": "61bba2c2-6848-427f-8b83-37d81d9f31ec"
      },
      "execution_count": 7,
      "outputs": [
        {
          "output_type": "execute_result",
          "data": {
            "text/plain": [
              "['paly dead']"
            ]
          },
          "metadata": {},
          "execution_count": 7
        }
      ]
    },
    {
      "cell_type": "code",
      "source": [
        "import pandas as pd\n",
        "import seaborn as sns\n",
        "import numpy as np\n",
        "from sklearn.model_selection import train_test_split\n",
        "from sklearn.compose import ColumnTransformer\n",
        "from sklearn.preprocessing import OneHotEncoder\n",
        "from sklearn.preprocessing import StandardScaler\n",
        "\n",
        "from sklearn.linear_model import LinearRegression \n",
        "from sklearn.metrics import mean_squared_error \n",
        "from math import sqrt\n",
        "import matplotlib.pyplot as plt\n",
        "from pandas.errors import InvalidIndexError\n",
        "\n",
        "from sklearn.linear_model import Ridge\n",
        "from sklearn.linear_model import Lasso\n",
        "from sklearn.linear_model import ElasticNet\n",
        "\n",
        "from sklearn.neighbors import KNeighborsRegressor\n",
        "from sklearn.tree import DecisionTreeRegressor\n",
        "from sklearn.svm import SVR\n",
        "\n",
        "from sklearn.linear_model import BayesianRidge\n",
        "from sklearn.naive_bayes import GaussianNB\n",
        "from typing_extensions import dataclass_transform\n"
      ],
      "metadata": {
        "id": "vgSbHzyaXpa3"
      },
      "execution_count": 1,
      "outputs": []
    },
    {
      "cell_type": "code",
      "source": [
        "class LinearRegress :\n",
        "\n",
        "  def __init__(self):\n",
        "    self.df = 0\n",
        "    self.data_IQR2 = 0\n",
        "    self.train_test_data = 0\n",
        "    self.Y_value = 0\n",
        "    self.Y_test = 0\n",
        "\n",
        "\n",
        "  \n",
        "  def read_file(self, file_address) :\n",
        "    print(\"-------------- file read ---------------\")\n",
        "    df = pd.read_csv(file_address, encoding = \"cp949\")\n",
        "    df = pd.DataFrame(df)\n",
        "    #return df\n",
        "\n",
        "  def normalization(self,column_number):\n",
        "    print(\"-------------- normalization ---------------\")\n",
        "    df[df.columns[column_number]] = np.log1p(df[df.columns[column_number]])\n",
        "    sns.distplot(df[df.columns[column_number]])\n",
        "    #return df\n",
        "\n",
        "  def data_IQR(self,column_number) :\n",
        "    print(\"-------------- Data_IQR ---------------\")\n",
        "    q1 = df[df.columns[column_number]].quantile(q=0.25)\n",
        "    q3 = df[df.columns[column_number]].quantile(q=0.75)\n",
        "    IQR = q3-q1\n",
        "    data_IQR2 = df[(df[df.columns[column_number]] < q3 + IQR * 1.5) & \n",
        "                 (df[df.columns[column_number]] > q1 - IQR * 1.5)]\n",
        "    sns.distplot(df[df.columns[column_number]])\n",
        "    #return data_IQR2\n",
        "\n",
        "  def before_making_model(self, x_list, column_number):\n",
        "    num = x_list\n",
        "    X = df[num]\n",
        "    Y = df[df.columns[column_number]]\n",
        "    X_train, X_test, Y_train, Y_test = train_test_split(X, Y, test_size=0.3, random_state=0)\n",
        "    ct = ColumnTransformer([('scling', StandardScaler(), num)])\n",
        "    ct.fit(X_train)\n",
        "    X_train = ct.transform(X_train)\n",
        "    X_test = ct.transform(X_test)\n",
        "    train_test_data = [X_train, X_test, Y_train, Y_test]\n",
        "    #return train_test_data\n",
        "\n",
        "  def linearRegress(self, train_test_data,columns):\n",
        "    print(\"----------LinearRegression value-----------\")\n",
        "    X_train, X_test, Y_train, Y_test = train_test_data\n",
        "    lr = LinearRegression().fit(X_train, Y_train) \n",
        "    Y_pred = lr.predict(X_test)\n",
        "    print(\"predict value\\n\",Y_pred)\n",
        "    print(\"[linear]\")\n",
        "    print(\"train R2 : {:.3f}\".format(lr.score(X_train, Y_train)))\n",
        "    print(\"test R2 : {:.3f}\".format(lr.score(X_test, Y_test))) \n",
        "    rmse = sqrt(mean_squared_error(Y_test, Y_pred)) \n",
        "    print(\"RMSE : {:.3f}\". format(rmse)) \n",
        "    print(columns)\n",
        "    print(\"절편\", np.round(lr.intercept_, 3))\n",
        "    print(\"가중치(beta)\", np.round(lr.coef_, 3))\n",
        "    Y_value = [Y_pred, Y_test]\n",
        "    #return Y_value\n",
        "\n",
        "  def Reset_index(self, Y_test,column_number):\n",
        "    Y_test_df = (pd.DataFrame(Y_test)).reset_index()\n",
        "    Y_test_df = pd.DataFrame(Y_test_df[df.columns[column_number]])\n",
        "    #return Y_test\n",
        "\n",
        "  def plot_picture(self, Y_pred,Y_test):\n",
        "    print(\"----------- plot grow----------- \")\n",
        "    %matplotlib Inline\n",
        "    plt.plot(Y_pred)\n",
        "    plt.plot(Y_test)\n",
        "\n",
        "  def print_value(self):\n",
        "    return df\n",
        "\n"
      ],
      "metadata": {
        "id": "EzSg4O2BVfRR"
      },
      "execution_count": 99,
      "outputs": []
    },
    {
      "cell_type": "code",
      "source": [
        "x = LinearRegress()\n",
        "x.read_file(\"/content/drive/MyDrive/파이썬/data_revised.csv\")\n",
        "x.normalization(2)\n",
        "x.data_IQR(2)\n",
        "x.before_making_model([df.columns[3],df.columns[4],df.columns[5], df.columns[6]],2)\n",
        "\n",
        "x.linearRegress(train_test_data, df.columns)\n",
        "x.Reset_index(Y_value[1],2)\n",
        "x.plot_picture(Y_value[0],Y_test)\n",
        "#df2 = x.print_value()"
      ],
      "metadata": {
        "colab": {
          "base_uri": "https://localhost:8080/",
          "height": 741
        },
        "id": "V5bpj-E-XUvv",
        "outputId": "9ea0c695-3280-45a2-e1fb-7d9418ca4214"
      },
      "execution_count": 102,
      "outputs": [
        {
          "output_type": "stream",
          "name": "stdout",
          "text": [
            "-------------- file read ---------------\n",
            "-------------- normalization ---------------\n"
          ]
        },
        {
          "output_type": "stream",
          "name": "stderr",
          "text": [
            "/usr/local/lib/python3.8/dist-packages/seaborn/distributions.py:2619: FutureWarning: `distplot` is a deprecated function and will be removed in a future version. Please adapt your code to use either `displot` (a figure-level function with similar flexibility) or `histplot` (an axes-level function for histograms).\n",
            "  warnings.warn(msg, FutureWarning)\n"
          ]
        },
        {
          "output_type": "stream",
          "name": "stdout",
          "text": [
            "-------------- Data_IQR ---------------\n",
            "----------LinearRegression value-----------\n",
            "predict value\n",
            " [2.69968882 2.69537222 2.67685396 2.66356519 2.63720303 2.66734652\n",
            " 2.67529824 2.69005778 2.65074097 2.67381009 2.69141663 2.66091628\n",
            " 2.657501   2.66406011 2.65368856 2.6716621  2.67486292 2.67636183\n",
            " 2.65236673 2.65871539 2.6501332  2.65600339 2.6578112  2.67200504\n",
            " 2.66054371 2.67178194 2.65041888 2.66481727 2.66314964 2.64932462\n",
            " 2.64756309 2.66272271 2.64872489 2.64670487 2.64952096 2.67542807\n",
            " 2.67416913 2.67988598 2.63268783 2.66349211 2.67619804 2.65743676\n",
            " 2.64768825 2.65214561]\n",
            "[linear]\n",
            "train R2 : 0.013\n",
            "test R2 : 0.039\n",
            "RMSE : 0.122\n",
            "Index(['ID', 'Year', 'Y', 'X1', 'X2', 'X3', 'X4'], dtype='object')\n",
            "절편 2.661\n",
            "가중치(beta) [ 0.013  0.001 -0.003 -0.004]\n",
            "----------- plot grow----------- \n"
          ]
        },
        {
          "output_type": "stream",
          "name": "stderr",
          "text": [
            "/usr/local/lib/python3.8/dist-packages/seaborn/distributions.py:2619: FutureWarning: `distplot` is a deprecated function and will be removed in a future version. Please adapt your code to use either `displot` (a figure-level function with similar flexibility) or `histplot` (an axes-level function for histograms).\n",
            "  warnings.warn(msg, FutureWarning)\n"
          ]
        },
        {
          "output_type": "display_data",
          "data": {
            "text/plain": [
              "<Figure size 432x288 with 1 Axes>"
            ],
            "image/png": "[encoded data removed]"
          },
          "metadata": {
            "needs_background": "light"
          }
        }
      ]
    },
    {
      "cell_type": "code",
      "source": [
        "y = LinearRegress()\n",
        "y.normalization(2)"
      ],
      "metadata": {
        "colab": {
          "base_uri": "https://localhost:8080/",
          "height": 354
        },
        "id": "Cs4VcKHAj1vV",
        "outputId": "e93b6925-a9f1-4d5f-a5be-aee0bcdd080c"
      },
      "execution_count": 87,
      "outputs": [
        {
          "output_type": "stream",
          "name": "stdout",
          "text": [
            "-------------- normalization ---------------\n"
          ]
        },
        {
          "output_type": "stream",
          "name": "stderr",
          "text": [
            "/usr/local/lib/python3.8/dist-packages/seaborn/distributions.py:2619: FutureWarning: `distplot` is a deprecated function and will be removed in a future version. Please adapt your code to use either `displot` (a figure-level function with similar flexibility) or `histplot` (an axes-level function for histograms).\n",
            "  warnings.warn(msg, FutureWarning)\n"
          ]
        },
        {
          "output_type": "display_data",
          "data": {
            "text/plain": [
              "<Figure size 432x288 with 1 Axes>"
            ],
            "image/png": "[encoded data removed]"
          },
          "metadata": {
            "needs_background": "light"
          }
        }
      ]
    },
    {
      "cell_type": "code",
      "source": [],
      "metadata": {
        "id": "jVuEEnh7j51a"
      },
      "execution_count": null,
      "outputs": []
    }
  ]
}