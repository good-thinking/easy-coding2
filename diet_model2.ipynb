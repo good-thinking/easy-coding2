{
  "nbformat": 4,
  "nbformat_minor": 0,
  "metadata": {
    "colab": {
      "provenance": [],
      "include_colab_link": true
    },
    "kernelspec": {
      "name": "python3",
      "display_name": "Python 3"
    },
    "language_info": {
      "name": "python"
    }
  },
  "cells": [
    {
      "cell_type": "markdown",
      "metadata": {
        "id": "view-in-github",
        "colab_type": "text"
      },
      "source": [
        "<a href=\"https://colab.research.google.com/github/good-thinking/easy-coding2/blob/main/diet_model2.ipynb\" target=\"_parent\"><img src=\"https://colab.research.google.com/assets/colab-badge.svg\" alt=\"Open In Colab\"/></a>"
      ]
    },
    {
      "cell_type": "code",
      "execution_count": null,
      "metadata": {
        "id": "h4nE2Wf2azID"
      },
      "outputs": [],
      "source": [
        "import pandas as pd \n",
        "import numpy as np"
      ]
    },
    {
      "cell_type": "code",
      "source": [
        "df = pd.read_excel(\"/content/drive/MyDrive/Colab Notebooks/new project/student_exercise_food.xlsx\")\n",
        "df"
      ],
      "metadata": {
        "id": "fMDE_undb2Bo"
      },
      "execution_count": null,
      "outputs": []
    },
    {
      "cell_type": "code",
      "source": [
        "from google.colab import drive\n",
        "drive.mount('/content/drive')"
      ],
      "metadata": {
        "colab": {
          "base_uri": "https://localhost:8080/"
        },
        "id": "-gX176VQNwe2",
        "outputId": "bf568fb7-937f-4463-a4f8-0b373aca3678"
      },
      "execution_count": null,
      "outputs": [
        {
          "output_type": "stream",
          "name": "stdout",
          "text": [
            "Drive already mounted at /content/drive; to attempt to forcibly remount, call drive.mount(\"/content/drive\", force_remount=True).\n"
          ]
        }
      ]
    },
    {
      "cell_type": "code",
      "source": [
        "df.info()"
      ],
      "metadata": {
        "id": "iQRIMqyJdAlN"
      },
      "execution_count": null,
      "outputs": []
    },
    {
      "cell_type": "code",
      "source": [
        "null_sum = pd.DataFrame(df.isnull().sum())\n",
        "null_sum"
      ],
      "metadata": {
        "id": "vC_Ay-l4dZUQ"
      },
      "execution_count": null,
      "outputs": []
    },
    {
      "cell_type": "code",
      "source": [
        "df = df.dropna(axis = 0)"
      ],
      "metadata": {
        "id": "JJZm-M8xdlUm"
      },
      "execution_count": null,
      "outputs": []
    },
    {
      "cell_type": "code",
      "source": [
        "df.columns"
      ],
      "metadata": {
        "colab": {
          "base_uri": "https://localhost:8080/"
        },
        "id": "d5SB6oRFdu1n",
        "outputId": "97b7404f-7f0c-4fd2-e293-5a965bb92fc5"
      },
      "execution_count": null,
      "outputs": [
        {
          "output_type": "execute_result",
          "data": {
            "text/plain": [
              "Index(['seq_num', 'id', 'social_id1', 'zip_code', 'occupation', 'sex',\n",
              "       'height', 'weight', 'married', 'want_diet', 'created', 'loss_part',\n",
              "       'upper_body(1,3,5,7,8,9)', 'lower_body(2,6)', 'face(4)', 'whole_body',\n",
              "       'diet_purpose', 'bmi', 'order_id', 'pfid', 'p_name', 'p_price',\n",
              "       'p_created', 'p_quantity', 'class', 'class.1', '년도', 'age',\n",
              "       'age group'],\n",
              "      dtype='object')"
            ]
          },
          "metadata": {},
          "execution_count": 12
        }
      ]
    },
    {
      "cell_type": "code",
      "source": [
        "pd.DataFrame(df.columns)"
      ],
      "metadata": {
        "id": "xtrC8TlpOHO7"
      },
      "execution_count": null,
      "outputs": []
    },
    {
      "cell_type": "code",
      "source": [
        "df = df.drop([df.columns[0], df.columns[1], df.columns[2], df.columns[11], df.columns[18]], axis = 1)"
      ],
      "metadata": {
        "id": "cbC7CJKre96G"
      },
      "execution_count": null,
      "outputs": []
    },
    {
      "cell_type": "code",
      "source": [
        "df.columns"
      ],
      "metadata": {
        "colab": {
          "base_uri": "https://localhost:8080/"
        },
        "id": "4L1tn8VRfW66",
        "outputId": "cce0134c-32aa-4fa0-e8b7-4ef62aed52bc"
      },
      "execution_count": null,
      "outputs": [
        {
          "output_type": "execute_result",
          "data": {
            "text/plain": [
              "Index(['zip_code', 'occupation', 'sex', 'height', 'weight', 'married',\n",
              "       'want_diet', 'created', 'upper_body(1,3,5,7,8,9)', 'lower_body(2,6)',\n",
              "       'face(4)', 'whole_body', 'diet_purpose', 'bmi', 'pfid', 'p_name',\n",
              "       'p_price', 'p_created', 'p_quantity', 'class', 'class.1', '년도', 'age',\n",
              "       'age group'],\n",
              "      dtype='object')"
            ]
          },
          "metadata": {},
          "execution_count": 15
        }
      ]
    },
    {
      "cell_type": "code",
      "source": [
        "list = pd.DataFrame(['zip_code', 'occupation', 'sex', 'height', 'weight', 'married',\n",
        "       'want_diet', 'created', 'upper_body(1,3,5,7,8,9)', 'lower_body(2,6)',\n",
        "       'face(4)', 'whole_body', 'diet_purpose', 'bmi', 'pfid', 'p_name',\n",
        "       'p_price', 'p_created', 'p_quantity', 'class', 'class.1', '년도', 'age',\n",
        "       'age group'])"
      ],
      "metadata": {
        "id": "x8Xk0Ze1eaTL"
      },
      "execution_count": null,
      "outputs": []
    },
    {
      "cell_type": "code",
      "source": [
        "list"
      ],
      "metadata": {
        "colab": {
          "base_uri": "https://localhost:8080/",
          "height": 802
        },
        "id": "yzBzUgMlediM",
        "outputId": "f8cf2e9b-481d-41db-d85b-e4d3e46a8e8c"
      },
      "execution_count": null,
      "outputs": [
        {
          "output_type": "execute_result",
          "data": {
            "text/plain": [
              "                          0\n",
              "0                  zip_code\n",
              "1                occupation\n",
              "2                       sex\n",
              "3                    height\n",
              "4                    weight\n",
              "5                   married\n",
              "6                 want_diet\n",
              "7                   created\n",
              "8   upper_body(1,3,5,7,8,9)\n",
              "9           lower_body(2,6)\n",
              "10                  face(4)\n",
              "11               whole_body\n",
              "12             diet_purpose\n",
              "13                      bmi\n",
              "14                     pfid\n",
              "15                   p_name\n",
              "16                  p_price\n",
              "17                p_created\n",
              "18               p_quantity\n",
              "19                    class\n",
              "20                  class.1\n",
              "21                       년도\n",
              "22                      age\n",
              "23                age group"
            ],
            "text/html": [
              "\n",
              "  <div id=\"df-b5820fcb-9f17-4120-a0a6-25db14f7b7ca\">\n",
              "    <div class=\"colab-df-container\">\n",
              "      <div>\n",
              "<style scoped>\n",
              "    .dataframe tbody tr th:only-of-type {\n",
              "        vertical-align: middle;\n",
              "    }\n",
              "\n",
              "    .dataframe tbody tr th {\n",
              "        vertical-align: top;\n",
              "    }\n",
              "\n",
              "    .dataframe thead th {\n",
              "        text-align: right;\n",
              "    }\n",
              "</style>\n",
              "<table border=\"1\" class=\"dataframe\">\n",
              "  <thead>\n",
              "    <tr style=\"text-align: right;\">\n",
              "      <th></th>\n",
              "      <th>0</th>\n",
              "    </tr>\n",
              "  </thead>\n",
              "  <tbody>\n",
              "    <tr>\n",
              "      <th>0</th>\n",
              "      <td>zip_code</td>\n",
              "    </tr>\n",
              "    <tr>\n",
              "      <th>1</th>\n",
              "      <td>occupation</td>\n",
              "    </tr>\n",
              "    <tr>\n",
              "      <th>2</th>\n",
              "      <td>sex</td>\n",
              "    </tr>\n",
              "    <tr>\n",
              "      <th>3</th>\n",
              "      <td>height</td>\n",
              "    </tr>\n",
              "    <tr>\n",
              "      <th>4</th>\n",
              "      <td>weight</td>\n",
              "    </tr>\n",
              "    <tr>\n",
              "      <th>5</th>\n",
              "      <td>married</td>\n",
              "    </tr>\n",
              "    <tr>\n",
              "      <th>6</th>\n",
              "      <td>want_diet</td>\n",
              "    </tr>\n",
              "    <tr>\n",
              "      <th>7</th>\n",
              "      <td>created</td>\n",
              "    </tr>\n",
              "    <tr>\n",
              "      <th>8</th>\n",
              "      <td>upper_body(1,3,5,7,8,9)</td>\n",
              "    </tr>\n",
              "    <tr>\n",
              "      <th>9</th>\n",
              "      <td>lower_body(2,6)</td>\n",
              "    </tr>\n",
              "    <tr>\n",
              "      <th>10</th>\n",
              "      <td>face(4)</td>\n",
              "    </tr>\n",
              "    <tr>\n",
              "      <th>11</th>\n",
              "      <td>whole_body</td>\n",
              "    </tr>\n",
              "    <tr>\n",
              "      <th>12</th>\n",
              "      <td>diet_purpose</td>\n",
              "    </tr>\n",
              "    <tr>\n",
              "      <th>13</th>\n",
              "      <td>bmi</td>\n",
              "    </tr>\n",
              "    <tr>\n",
              "      <th>14</th>\n",
              "      <td>pfid</td>\n",
              "    </tr>\n",
              "    <tr>\n",
              "      <th>15</th>\n",
              "      <td>p_name</td>\n",
              "    </tr>\n",
              "    <tr>\n",
              "      <th>16</th>\n",
              "      <td>p_price</td>\n",
              "    </tr>\n",
              "    <tr>\n",
              "      <th>17</th>\n",
              "      <td>p_created</td>\n",
              "    </tr>\n",
              "    <tr>\n",
              "      <th>18</th>\n",
              "      <td>p_quantity</td>\n",
              "    </tr>\n",
              "    <tr>\n",
              "      <th>19</th>\n",
              "      <td>class</td>\n",
              "    </tr>\n",
              "    <tr>\n",
              "      <th>20</th>\n",
              "      <td>class.1</td>\n",
              "    </tr>\n",
              "    <tr>\n",
              "      <th>21</th>\n",
              "      <td>년도</td>\n",
              "    </tr>\n",
              "    <tr>\n",
              "      <th>22</th>\n",
              "      <td>age</td>\n",
              "    </tr>\n",
              "    <tr>\n",
              "      <th>23</th>\n",
              "      <td>age group</td>\n",
              "    </tr>\n",
              "  </tbody>\n",
              "</table>\n",
              "</div>\n",
              "      <button class=\"colab-df-convert\" onclick=\"convertToInteractive('df-b5820fcb-9f17-4120-a0a6-25db14f7b7ca')\"\n",
              "              title=\"Convert this dataframe to an interactive table.\"\n",
              "              style=\"display:none;\">\n",
              "        \n",
              "  <svg xmlns=\"http://www.w3.org/2000/svg\" height=\"24px\"viewBox=\"0 0 24 24\"\n",
              "       width=\"24px\">\n",
              "    <path d=\"M0 0h24v24H0V0z\" fill=\"none\"/>\n",
              "    <path d=\"M18.56 5.44l.94 2.06.94-2.06 2.06-.94-2.06-.94-.94-2.06-.94 2.06-2.06.94zm-11 1L8.5 8.5l.94-2.06 2.06-.94-2.06-.94L8.5 2.5l-.94 2.06-2.06.94zm10 10l.94 2.06.94-2.06 2.06-.94-2.06-.94-.94-2.06-.94 2.06-2.06.94z\"/><path d=\"M17.41 7.96l-1.37-1.37c-.4-.4-.92-.59-1.43-.59-.52 0-1.04.2-1.43.59L10.3 9.45l-7.72 7.72c-.78.78-.78 2.05 0 2.83L4 21.41c.39.39.9.59 1.41.59.51 0 1.02-.2 1.41-.59l7.78-7.78 2.81-2.81c.8-.78.8-2.07 0-2.86zM5.41 20L4 18.59l7.72-7.72 1.47 1.35L5.41 20z\"/>\n",
              "  </svg>\n",
              "      </button>\n",
              "      \n",
              "  <style>\n",
              "    .colab-df-container {\n",
              "      display:flex;\n",
              "      flex-wrap:wrap;\n",
              "      gap: 12px;\n",
              "    }\n",
              "\n",
              "    .colab-df-convert {\n",
              "      background-color: #E8F0FE;\n",
              "      border: none;\n",
              "      border-radius: 50%;\n",
              "      cursor: pointer;\n",
              "      display: none;\n",
              "      fill: #1967D2;\n",
              "      height: 32px;\n",
              "      padding: 0 0 0 0;\n",
              "      width: 32px;\n",
              "    }\n",
              "\n",
              "    .colab-df-convert:hover {\n",
              "      background-color: #E2EBFA;\n",
              "      box-shadow: 0px 1px 2px rgba(60, 64, 67, 0.3), 0px 1px 3px 1px rgba(60, 64, 67, 0.15);\n",
              "      fill: #174EA6;\n",
              "    }\n",
              "\n",
              "    [theme=dark] .colab-df-convert {\n",
              "      background-color: #3B4455;\n",
              "      fill: #D2E3FC;\n",
              "    }\n",
              "\n",
              "    [theme=dark] .colab-df-convert:hover {\n",
              "      background-color: #434B5C;\n",
              "      box-shadow: 0px 1px 3px 1px rgba(0, 0, 0, 0.15);\n",
              "      filter: drop-shadow(0px 1px 2px rgba(0, 0, 0, 0.3));\n",
              "      fill: #FFFFFF;\n",
              "    }\n",
              "  </style>\n",
              "\n",
              "      <script>\n",
              "        const buttonEl =\n",
              "          document.querySelector('#df-b5820fcb-9f17-4120-a0a6-25db14f7b7ca button.colab-df-convert');\n",
              "        buttonEl.style.display =\n",
              "          google.colab.kernel.accessAllowed ? 'block' : 'none';\n",
              "\n",
              "        async function convertToInteractive(key) {\n",
              "          const element = document.querySelector('#df-b5820fcb-9f17-4120-a0a6-25db14f7b7ca');\n",
              "          const dataTable =\n",
              "            await google.colab.kernel.invokeFunction('convertToInteractive',\n",
              "                                                     [key], {});\n",
              "          if (!dataTable) return;\n",
              "\n",
              "          const docLinkHtml = 'Like what you see? Visit the ' +\n",
              "            '<a target=\"_blank\" href=https://colab.research.google.com/notebooks/data_table.ipynb>data table notebook</a>'\n",
              "            + ' to learn more about interactive tables.';\n",
              "          element.innerHTML = '';\n",
              "          dataTable['output_type'] = 'display_data';\n",
              "          await google.colab.output.renderOutput(dataTable, element);\n",
              "          const docLink = document.createElement('div');\n",
              "          docLink.innerHTML = docLinkHtml;\n",
              "          element.appendChild(docLink);\n",
              "        }\n",
              "      </script>\n",
              "    </div>\n",
              "  </div>\n",
              "  "
            ]
          },
          "metadata": {},
          "execution_count": 18
        }
      ]
    },
    {
      "cell_type": "code",
      "source": [
        "numeric_list = [df.columns[3], df.columns[4], df.columns[6],df.columns[13], df.columns[16]]"
      ],
      "metadata": {
        "id": "ayY7wyPRejtU"
      },
      "execution_count": null,
      "outputs": []
    },
    {
      "cell_type": "code",
      "source": [
        "numeric_list"
      ],
      "metadata": {
        "colab": {
          "base_uri": "https://localhost:8080/"
        },
        "id": "GipLRn-Ogeot",
        "outputId": "f5765e89-506f-460a-8d5b-8c2aa6931492"
      },
      "execution_count": null,
      "outputs": [
        {
          "output_type": "execute_result",
          "data": {
            "text/plain": [
              "['height', 'weight', 'want_diet', 'bmi', 'p_price']"
            ]
          },
          "metadata": {},
          "execution_count": 20
        }
      ]
    },
    {
      "cell_type": "code",
      "source": [
        "numeric_df = df[numeric_list]"
      ],
      "metadata": {
        "id": "0hgehalsg0cR"
      },
      "execution_count": null,
      "outputs": []
    },
    {
      "cell_type": "code",
      "source": [
        "cg_list = df.drop(numeric_list, axis = 1)"
      ],
      "metadata": {
        "id": "gP2rJZb-g6bS"
      },
      "execution_count": null,
      "outputs": []
    },
    {
      "cell_type": "code",
      "source": [
        "cg_list"
      ],
      "metadata": {
        "id": "46XwQhxwhE11"
      },
      "execution_count": null,
      "outputs": []
    },
    {
      "cell_type": "code",
      "source": [
        "pd.DataFrame(cg_list.columns)"
      ],
      "metadata": {
        "colab": {
          "base_uri": "https://localhost:8080/",
          "height": 426
        },
        "id": "QF0URlILh3TY",
        "outputId": "bc0e0c9a-a43c-4adf-c991-4b72a9821456"
      },
      "execution_count": null,
      "outputs": [
        {
          "output_type": "execute_result",
          "data": {
            "text/plain": [
              "                          0\n",
              "0                  zip_code\n",
              "1                occupation\n",
              "2                       sex\n",
              "3                   married\n",
              "4                   created\n",
              "5   upper_body(1,3,5,7,8,9)\n",
              "6           lower_body(2,6)\n",
              "7                   face(4)\n",
              "8                whole_body\n",
              "9              diet_purpose\n",
              "10                p_created\n",
              "11               p_quantity"
            ],
            "text/html": [
              "\n",
              "  <div id=\"df-f04d03c2-65fd-493b-a22d-f42c72fa47c3\">\n",
              "    <div class=\"colab-df-container\">\n",
              "      <div>\n",
              "<style scoped>\n",
              "    .dataframe tbody tr th:only-of-type {\n",
              "        vertical-align: middle;\n",
              "    }\n",
              "\n",
              "    .dataframe tbody tr th {\n",
              "        vertical-align: top;\n",
              "    }\n",
              "\n",
              "    .dataframe thead th {\n",
              "        text-align: right;\n",
              "    }\n",
              "</style>\n",
              "<table border=\"1\" class=\"dataframe\">\n",
              "  <thead>\n",
              "    <tr style=\"text-align: right;\">\n",
              "      <th></th>\n",
              "      <th>0</th>\n",
              "    </tr>\n",
              "  </thead>\n",
              "  <tbody>\n",
              "    <tr>\n",
              "      <th>0</th>\n",
              "      <td>zip_code</td>\n",
              "    </tr>\n",
              "    <tr>\n",
              "      <th>1</th>\n",
              "      <td>occupation</td>\n",
              "    </tr>\n",
              "    <tr>\n",
              "      <th>2</th>\n",
              "      <td>sex</td>\n",
              "    </tr>\n",
              "    <tr>\n",
              "      <th>3</th>\n",
              "      <td>married</td>\n",
              "    </tr>\n",
              "    <tr>\n",
              "      <th>4</th>\n",
              "      <td>created</td>\n",
              "    </tr>\n",
              "    <tr>\n",
              "      <th>5</th>\n",
              "      <td>upper_body(1,3,5,7,8,9)</td>\n",
              "    </tr>\n",
              "    <tr>\n",
              "      <th>6</th>\n",
              "      <td>lower_body(2,6)</td>\n",
              "    </tr>\n",
              "    <tr>\n",
              "      <th>7</th>\n",
              "      <td>face(4)</td>\n",
              "    </tr>\n",
              "    <tr>\n",
              "      <th>8</th>\n",
              "      <td>whole_body</td>\n",
              "    </tr>\n",
              "    <tr>\n",
              "      <th>9</th>\n",
              "      <td>diet_purpose</td>\n",
              "    </tr>\n",
              "    <tr>\n",
              "      <th>10</th>\n",
              "      <td>p_created</td>\n",
              "    </tr>\n",
              "    <tr>\n",
              "      <th>11</th>\n",
              "      <td>p_quantity</td>\n",
              "    </tr>\n",
              "  </tbody>\n",
              "</table>\n",
              "</div>\n",
              "      <button class=\"colab-df-convert\" onclick=\"convertToInteractive('df-f04d03c2-65fd-493b-a22d-f42c72fa47c3')\"\n",
              "              title=\"Convert this dataframe to an interactive table.\"\n",
              "              style=\"display:none;\">\n",
              "        \n",
              "  <svg xmlns=\"http://www.w3.org/2000/svg\" height=\"24px\"viewBox=\"0 0 24 24\"\n",
              "       width=\"24px\">\n",
              "    <path d=\"M0 0h24v24H0V0z\" fill=\"none\"/>\n",
              "    <path d=\"M18.56 5.44l.94 2.06.94-2.06 2.06-.94-2.06-.94-.94-2.06-.94 2.06-2.06.94zm-11 1L8.5 8.5l.94-2.06 2.06-.94-2.06-.94L8.5 2.5l-.94 2.06-2.06.94zm10 10l.94 2.06.94-2.06 2.06-.94-2.06-.94-.94-2.06-.94 2.06-2.06.94z\"/><path d=\"M17.41 7.96l-1.37-1.37c-.4-.4-.92-.59-1.43-.59-.52 0-1.04.2-1.43.59L10.3 9.45l-7.72 7.72c-.78.78-.78 2.05 0 2.83L4 21.41c.39.39.9.59 1.41.59.51 0 1.02-.2 1.41-.59l7.78-7.78 2.81-2.81c.8-.78.8-2.07 0-2.86zM5.41 20L4 18.59l7.72-7.72 1.47 1.35L5.41 20z\"/>\n",
              "  </svg>\n",
              "      </button>\n",
              "      \n",
              "  <style>\n",
              "    .colab-df-container {\n",
              "      display:flex;\n",
              "      flex-wrap:wrap;\n",
              "      gap: 12px;\n",
              "    }\n",
              "\n",
              "    .colab-df-convert {\n",
              "      background-color: #E8F0FE;\n",
              "      border: none;\n",
              "      border-radius: 50%;\n",
              "      cursor: pointer;\n",
              "      display: none;\n",
              "      fill: #1967D2;\n",
              "      height: 32px;\n",
              "      padding: 0 0 0 0;\n",
              "      width: 32px;\n",
              "    }\n",
              "\n",
              "    .colab-df-convert:hover {\n",
              "      background-color: #E2EBFA;\n",
              "      box-shadow: 0px 1px 2px rgba(60, 64, 67, 0.3), 0px 1px 3px 1px rgba(60, 64, 67, 0.15);\n",
              "      fill: #174EA6;\n",
              "    }\n",
              "\n",
              "    [theme=dark] .colab-df-convert {\n",
              "      background-color: #3B4455;\n",
              "      fill: #D2E3FC;\n",
              "    }\n",
              "\n",
              "    [theme=dark] .colab-df-convert:hover {\n",
              "      background-color: #434B5C;\n",
              "      box-shadow: 0px 1px 3px 1px rgba(0, 0, 0, 0.15);\n",
              "      filter: drop-shadow(0px 1px 2px rgba(0, 0, 0, 0.3));\n",
              "      fill: #FFFFFF;\n",
              "    }\n",
              "  </style>\n",
              "\n",
              "      <script>\n",
              "        const buttonEl =\n",
              "          document.querySelector('#df-f04d03c2-65fd-493b-a22d-f42c72fa47c3 button.colab-df-convert');\n",
              "        buttonEl.style.display =\n",
              "          google.colab.kernel.accessAllowed ? 'block' : 'none';\n",
              "\n",
              "        async function convertToInteractive(key) {\n",
              "          const element = document.querySelector('#df-f04d03c2-65fd-493b-a22d-f42c72fa47c3');\n",
              "          const dataTable =\n",
              "            await google.colab.kernel.invokeFunction('convertToInteractive',\n",
              "                                                     [key], {});\n",
              "          if (!dataTable) return;\n",
              "\n",
              "          const docLinkHtml = 'Like what you see? Visit the ' +\n",
              "            '<a target=\"_blank\" href=https://colab.research.google.com/notebooks/data_table.ipynb>data table notebook</a>'\n",
              "            + ' to learn more about interactive tables.';\n",
              "          element.innerHTML = '';\n",
              "          dataTable['output_type'] = 'display_data';\n",
              "          await google.colab.output.renderOutput(dataTable, element);\n",
              "          const docLink = document.createElement('div');\n",
              "          docLink.innerHTML = docLinkHtml;\n",
              "          element.appendChild(docLink);\n",
              "        }\n",
              "      </script>\n",
              "    </div>\n",
              "  </div>\n",
              "  "
            ]
          },
          "metadata": {},
          "execution_count": 29
        }
      ]
    },
    {
      "cell_type": "code",
      "source": [
        "cg_list = cg_list.drop([cg_list.columns[16], cg_list.columns[17], cg_list.columns[18],\n",
        "                        cg_list.columns[10], cg_list.columns[11], cg_list.columns[14], cg_list.columns[15]], axis = 1)"
      ],
      "metadata": {
        "id": "yiFV3z7ABFSg"
      },
      "execution_count": null,
      "outputs": []
    },
    {
      "cell_type": "code",
      "source": [
        "cg_list_df = cg_list"
      ],
      "metadata": {
        "id": "qMXXV5gMBxUG"
      },
      "execution_count": null,
      "outputs": []
    },
    {
      "cell_type": "code",
      "source": [
        "cg_list.columns"
      ],
      "metadata": {
        "colab": {
          "base_uri": "https://localhost:8080/"
        },
        "id": "vbwC3-olPzGE",
        "outputId": "10611806-b0cc-4a82-90c0-186627146575"
      },
      "execution_count": null,
      "outputs": [
        {
          "output_type": "execute_result",
          "data": {
            "text/plain": [
              "Index(['zip_code', 'occupation', 'sex', 'married', 'created',\n",
              "       'upper_body(1,3,5,7,8,9)', 'lower_body(2,6)', 'face(4)', 'whole_body',\n",
              "       'diet_purpose', 'p_created', 'p_quantity'],\n",
              "      dtype='object')"
            ]
          },
          "metadata": {},
          "execution_count": 31
        }
      ]
    },
    {
      "cell_type": "code",
      "source": [
        "cg_list = ['zip_code', 'occupation', 'sex', 'married', 'created',\n",
        "       'upper_body(1,3,5,7,8,9)', 'lower_body(2,6)', 'face(4)', 'whole_body',\n",
        "       'diet_purpose', 'p_created', 'p_quantity']"
      ],
      "metadata": {
        "id": "juBqbD5KB6Nc"
      },
      "execution_count": null,
      "outputs": []
    },
    {
      "cell_type": "code",
      "source": [
        "X = df[numeric_list + cg_list]"
      ],
      "metadata": {
        "id": "QkvGh6QQCgLZ"
      },
      "execution_count": null,
      "outputs": []
    },
    {
      "cell_type": "code",
      "source": [
        "Y = df[df.columns[20]]"
      ],
      "metadata": {
        "id": "QFmq201zDFCs"
      },
      "execution_count": null,
      "outputs": []
    },
    {
      "cell_type": "code",
      "source": [
        "from sklearn.compose import ColumnTransformer\n",
        "from sklearn.preprocessing import OneHotEncoder\n",
        "from sklearn.preprocessing import StandardScaler"
      ],
      "metadata": {
        "id": "oDjsyg_7Db9N"
      },
      "execution_count": null,
      "outputs": []
    },
    {
      "cell_type": "code",
      "source": [
        "ct = ColumnTransformer([(\"scaling\", StandardScaler(), numeric_list), \n",
        "                        (\"onehot\", OneHotEncoder(sparse = False), cg_list)])"
      ],
      "metadata": {
        "id": "vtwYFA1aDVDv"
      },
      "execution_count": null,
      "outputs": []
    },
    {
      "cell_type": "code",
      "source": [
        "from sklearn.model_selection import train_test_split"
      ],
      "metadata": {
        "id": "hZGH4k1iDdgd"
      },
      "execution_count": null,
      "outputs": []
    },
    {
      "cell_type": "code",
      "source": [
        "X_train, X_test, Y_train,Y_test = train_test_split(X, Y, test_size=0.3, random_state=0)"
      ],
      "metadata": {
        "id": "lcgKozmkDgKU"
      },
      "execution_count": null,
      "outputs": []
    },
    {
      "cell_type": "code",
      "source": [
        "from sklearn.feature_selection import SelectKBest, chi2\n",
        "from sklearn.feature_selection import SelectFromModel\n",
        "from sklearn.ensemble import RandomForestClassifier\n",
        "\n",
        "selector = SelectFromModel(RandomForestClassifier(n_estimators = 100, random_state=0), threshold = \"median\")\n",
        "selector.fit(X_train, Y_train)\n",
        "\n",
        "score = pd.DataFrame()\n",
        "score[\"attribute\"] = X_train.columns\n",
        "score[\"support\"] =  selector.get_support()\n",
        "score[score[\"support\"] == True]"
      ],
      "metadata": {
        "colab": {
          "base_uri": "https://localhost:8080/",
          "height": 332
        },
        "id": "9JqWtSGbDk-t",
        "outputId": "a969c27b-74ef-4bfa-a7a2-cf4da363dcaf"
      },
      "execution_count": null,
      "outputs": [
        {
          "output_type": "execute_result",
          "data": {
            "text/plain": [
              "       attribute  support\n",
              "0         height     True\n",
              "1         weight     True\n",
              "2      want_diet     True\n",
              "3            bmi     True\n",
              "4        p_price     True\n",
              "5       zip_code     True\n",
              "9        created     True\n",
              "14  diet_purpose     True\n",
              "15     p_created     True"
            ],
            "text/html": [
              "\n",
              "  <div id=\"df-980f72c3-55c5-4d50-a171-7b2788b378c4\">\n",
              "    <div class=\"colab-df-container\">\n",
              "      <div>\n",
              "<style scoped>\n",
              "    .dataframe tbody tr th:only-of-type {\n",
              "        vertical-align: middle;\n",
              "    }\n",
              "\n",
              "    .dataframe tbody tr th {\n",
              "        vertical-align: top;\n",
              "    }\n",
              "\n",
              "    .dataframe thead th {\n",
              "        text-align: right;\n",
              "    }\n",
              "</style>\n",
              "<table border=\"1\" class=\"dataframe\">\n",
              "  <thead>\n",
              "    <tr style=\"text-align: right;\">\n",
              "      <th></th>\n",
              "      <th>attribute</th>\n",
              "      <th>support</th>\n",
              "    </tr>\n",
              "  </thead>\n",
              "  <tbody>\n",
              "    <tr>\n",
              "      <th>0</th>\n",
              "      <td>height</td>\n",
              "      <td>True</td>\n",
              "    </tr>\n",
              "    <tr>\n",
              "      <th>1</th>\n",
              "      <td>weight</td>\n",
              "      <td>True</td>\n",
              "    </tr>\n",
              "    <tr>\n",
              "      <th>2</th>\n",
              "      <td>want_diet</td>\n",
              "      <td>True</td>\n",
              "    </tr>\n",
              "    <tr>\n",
              "      <th>3</th>\n",
              "      <td>bmi</td>\n",
              "      <td>True</td>\n",
              "    </tr>\n",
              "    <tr>\n",
              "      <th>4</th>\n",
              "      <td>p_price</td>\n",
              "      <td>True</td>\n",
              "    </tr>\n",
              "    <tr>\n",
              "      <th>5</th>\n",
              "      <td>zip_code</td>\n",
              "      <td>True</td>\n",
              "    </tr>\n",
              "    <tr>\n",
              "      <th>9</th>\n",
              "      <td>created</td>\n",
              "      <td>True</td>\n",
              "    </tr>\n",
              "    <tr>\n",
              "      <th>14</th>\n",
              "      <td>diet_purpose</td>\n",
              "      <td>True</td>\n",
              "    </tr>\n",
              "    <tr>\n",
              "      <th>15</th>\n",
              "      <td>p_created</td>\n",
              "      <td>True</td>\n",
              "    </tr>\n",
              "  </tbody>\n",
              "</table>\n",
              "</div>\n",
              "      <button class=\"colab-df-convert\" onclick=\"convertToInteractive('df-980f72c3-55c5-4d50-a171-7b2788b378c4')\"\n",
              "              title=\"Convert this dataframe to an interactive table.\"\n",
              "              style=\"display:none;\">\n",
              "        \n",
              "  <svg xmlns=\"http://www.w3.org/2000/svg\" height=\"24px\"viewBox=\"0 0 24 24\"\n",
              "       width=\"24px\">\n",
              "    <path d=\"M0 0h24v24H0V0z\" fill=\"none\"/>\n",
              "    <path d=\"M18.56 5.44l.94 2.06.94-2.06 2.06-.94-2.06-.94-.94-2.06-.94 2.06-2.06.94zm-11 1L8.5 8.5l.94-2.06 2.06-.94-2.06-.94L8.5 2.5l-.94 2.06-2.06.94zm10 10l.94 2.06.94-2.06 2.06-.94-2.06-.94-.94-2.06-.94 2.06-2.06.94z\"/><path d=\"M17.41 7.96l-1.37-1.37c-.4-.4-.92-.59-1.43-.59-.52 0-1.04.2-1.43.59L10.3 9.45l-7.72 7.72c-.78.78-.78 2.05 0 2.83L4 21.41c.39.39.9.59 1.41.59.51 0 1.02-.2 1.41-.59l7.78-7.78 2.81-2.81c.8-.78.8-2.07 0-2.86zM5.41 20L4 18.59l7.72-7.72 1.47 1.35L5.41 20z\"/>\n",
              "  </svg>\n",
              "      </button>\n",
              "      \n",
              "  <style>\n",
              "    .colab-df-container {\n",
              "      display:flex;\n",
              "      flex-wrap:wrap;\n",
              "      gap: 12px;\n",
              "    }\n",
              "\n",
              "    .colab-df-convert {\n",
              "      background-color: #E8F0FE;\n",
              "      border: none;\n",
              "      border-radius: 50%;\n",
              "      cursor: pointer;\n",
              "      display: none;\n",
              "      fill: #1967D2;\n",
              "      height: 32px;\n",
              "      padding: 0 0 0 0;\n",
              "      width: 32px;\n",
              "    }\n",
              "\n",
              "    .colab-df-convert:hover {\n",
              "      background-color: #E2EBFA;\n",
              "      box-shadow: 0px 1px 2px rgba(60, 64, 67, 0.3), 0px 1px 3px 1px rgba(60, 64, 67, 0.15);\n",
              "      fill: #174EA6;\n",
              "    }\n",
              "\n",
              "    [theme=dark] .colab-df-convert {\n",
              "      background-color: #3B4455;\n",
              "      fill: #D2E3FC;\n",
              "    }\n",
              "\n",
              "    [theme=dark] .colab-df-convert:hover {\n",
              "      background-color: #434B5C;\n",
              "      box-shadow: 0px 1px 3px 1px rgba(0, 0, 0, 0.15);\n",
              "      filter: drop-shadow(0px 1px 2px rgba(0, 0, 0, 0.3));\n",
              "      fill: #FFFFFF;\n",
              "    }\n",
              "  </style>\n",
              "\n",
              "      <script>\n",
              "        const buttonEl =\n",
              "          document.querySelector('#df-980f72c3-55c5-4d50-a171-7b2788b378c4 button.colab-df-convert');\n",
              "        buttonEl.style.display =\n",
              "          google.colab.kernel.accessAllowed ? 'block' : 'none';\n",
              "\n",
              "        async function convertToInteractive(key) {\n",
              "          const element = document.querySelector('#df-980f72c3-55c5-4d50-a171-7b2788b378c4');\n",
              "          const dataTable =\n",
              "            await google.colab.kernel.invokeFunction('convertToInteractive',\n",
              "                                                     [key], {});\n",
              "          if (!dataTable) return;\n",
              "\n",
              "          const docLinkHtml = 'Like what you see? Visit the ' +\n",
              "            '<a target=\"_blank\" href=https://colab.research.google.com/notebooks/data_table.ipynb>data table notebook</a>'\n",
              "            + ' to learn more about interactive tables.';\n",
              "          element.innerHTML = '';\n",
              "          dataTable['output_type'] = 'display_data';\n",
              "          await google.colab.output.renderOutput(dataTable, element);\n",
              "          const docLink = document.createElement('div');\n",
              "          docLink.innerHTML = docLinkHtml;\n",
              "          element.appendChild(docLink);\n",
              "        }\n",
              "      </script>\n",
              "    </div>\n",
              "  </div>\n",
              "  "
            ]
          },
          "metadata": {},
          "execution_count": 40
        }
      ]
    },
    {
      "cell_type": "code",
      "source": [
        "df2 = pd.concat([X,Y], axis = 1)"
      ],
      "metadata": {
        "id": "-7iQDp4aQCeA"
      },
      "execution_count": null,
      "outputs": []
    },
    {
      "cell_type": "code",
      "source": [
        "df2.to_csv(index = False)"
      ],
      "metadata": {
        "colab": {
          "base_uri": "https://localhost:8080/",
          "height": 146
        },
        "id": "8CcS7AVDD4dm",
        "outputId": "8d8edafd-23f8-4fa9-9fb0-7a4d40aa5955"
      },
      "execution_count": null,
      "outputs": [
        {
          "output_type": "execute_result",
          "data": {
            "text/plain": [
              "'height,weight,want_diet,bmi,p_price,zip_code,occupation,sex,married,created,\"upper_body(1,3,5,7,8,9)\",\"lower_body(2,6)\",face(4),whole_body,diet_purpose,p_created,p_quantity,class.1\\n158.0,57.0,56.0,24,15000,0,15,2,0,3,1,1,1,1,5.0,5,1,4\\n164.0,51.0,48.0,19,24900,122,15,2,0,4,0,1,1,0,1.0,5,1,5\\n167.0,83.0,79.0,29,58000,122,15,2,0,2,1,1,0,0,2.0,5,1,5\\n164.0,64.0,50.0,23,35000,151,15,2,0,4,1,1,0,0,3.0,5,1,6\\n167.0,65.0,56.0,23,15000,110,15,2,0,1,1,1,1,1,1.0,5,1,4\\n155.0,50.0,42.0,20,22000,561,15,2,0,4,1,1,1,1,1.0,5,1,1\\n160.0,52.0,48.0,20,27000,156,15,2,0,1,1,1,1,1,1.0,5,1,5\\n164.0,58.0,48.0,21,49000,131,15,2,0,1,0,1,0,0,1.0,5,1,6\\n164.0,58.0,48.0,21,65000,131,15,2,0,1,0,1,0,0,1.0,5,1,6\\n156.0,56.0,46.0,23,18000,100,15,2,0,4,0,1,0,0,1.0,5,1,1\\n155.0,84.0,48.0,30,89000,135,15,2,0,1,1,1,1,1,5.0,5,1,3\\n155.0,84.0,48.0,30,23000,135,15,2,0,1,1,1,1,1,5.0,5,1,3\\n167.0,54.0,53.0,20,14500,150,15,2,0,3,1,1,0,0,1.0,5,1,1\\n160.0,51.5,47.0,20,0,138,15,2,0,1,1,1,0,0,3.0,5,0,6\\n171.0,65.0,62.0,22,22000,440,15,2,0,4,1,1,0,0,1.0,5,1,1\\n165.0,70.0,66.0,23,28000,151,15,2,0,1,1,1,1,1,1.0,5,1,3\\n168.0,70.0,60.0,24,33000,441,15,2,0,1,1,1,0,0,1.0,5,1,7\\n166.0,65.0,61.0,23,15000,302,15,2,0,1,1,0,1,0,1.0,5,1,4\\n168.0,54.0,52.0,20,29000,156,15,2,0,1,1,1,0,0,1.0,5,1,6\\n168.0,54.0,52.0,20,29000,156,15,2,0,1,1,1,0,0,1.0,5,1,6\\n160.0,48.0,44.0,18,48000,122,15,2,0,1,1,1,0,0,1.0,5,1,1\\n165.0,82.0,55.0,30,14000,680,15,2,0,3,1,1,1,1,1.0,5,1,4\\n156.0,55.4,52.0,22,22000,140,15,2,0,4,1,1,1,1,1.0,6,1,5\\n162.0,53.0,49.0,19,29900,143,15,2,0,4,1,1,0,0,1.0,6,1,3\\n162.0,54.0,49.0,20,53000,122,15,2,0,3,1,1,0,0,1.0,6,1,1\\n160.0,50.0,45.0,19,14000,680,15,2,0,3,1,1,1,1,3.0,6,1,4\\n160.0,50.0,45.0,19,11000,680,15,2,0,3,1,1,1,1,3.0,6,1,4\\n160.0,50.0,45.0,19,14000,680,15,2,0,3,1,1,1,1,3.0,6,1,4\\n156.0,48.0,40.0,19,50000,131,15,2,0,2,0,0,1,0,1.0,6,1,5\\n184.0,78.0,75.0,23,35000,302,15,1,0,2,1,0,0,0,3.0,6,1,5\\n159.0,58.5,57.0,24,39900,330,15,2,0,2,1,1,1,1,1.0,6,1,2\\n159.0,50.0,47.0,20,24900,462,15,2,0,4,0,1,1,0,2.0,6,1,1\\n164.0,62.0,56.0,23,22000,617,15,2,0,2,0,1,0,0,1.0,6,1,1\\n160.0,50.0,46.0,19,15000,701,15,2,0,3,1,1,0,0,1.0,5,1,4\\n176.0,117.0,116.0,38,29900,138,15,2,0,2,1,1,0,0,1.0,6,1,1\\n176.0,117.0,116.0,38,18000,138,15,2,0,2,1,1,0,0,1.0,6,1,1\\n176.0,117.0,116.0,38,18000,138,15,2,0,2,1,1,0,0,1.0,6,1,1\\n176.0,117.0,116.0,38,29900,138,15,2,0,2,1,1,0,0,1.0,6,1,1\\n166.0,50.0,48.0,18,59800,791,15,2,0,2,1,1,1,1,1.0,6,1,2\\n158.0,55.0,50.0,22,64000,121,15,2,0,2,1,1,1,1,3.0,8,1,6\\n153.0,53.0,49.0,22,14500,133,15,2,0,1,1,1,1,1,1.0,8,1,4\\n157.0,68.0,50.0,27,19900,570,15,2,0,2,1,1,1,1,2.0,8,1,1\\n157.0,68.0,50.0,27,12900,570,15,2,0,2,1,1,1,1,2.0,8,1,5\\n165.0,55.0,50.0,20,0,506,15,2,0,2,1,1,0,0,1.0,8,0,1\\n165.0,55.0,50.0,20,19500,506,15,2,0,2,1,1,0,0,1.0,8,1,3\\n163.0,63.0,57.0,23,59000,442,15,2,0,2,1,1,1,1,1.0,8,1,2\\n163.0,65.0,53.0,24,19500,608,15,2,0,4,0,1,0,0,2.0,8,1,3\\n170.0,64.0,48.0,22,14900,420,15,2,0,1,1,1,1,1,1.0,8,1,5\\n162.0,55.0,50.0,20,20000,500,15,2,0,4,1,1,0,0,1.0,8,1,6\\n163.0,57.0,55.0,22,9900,645,15,1,0,1,1,1,0,0,3.0,8,1,3\\n150.0,42.0,39.0,18,14900,626,15,2,0,1,1,1,1,1,1.0,8,1,5\\n163.5,48.0,45.0,17,19500,330,15,2,0,2,0,1,1,0,1.0,8,1,1\\n160.0,53.0,48.0,20,19500,156,15,2,0,2,1,1,1,1,5.0,8,1,3\\n164.0,54.5,50.0,20,19500,503,15,2,0,2,0,1,0,0,1.0,8,1,3\\n160.0,53.0,48.0,20,19500,442,15,2,0,2,1,1,0,0,1.0,8,1,3\\n164.0,66.0,52.0,24,9900,730,15,2,0,2,1,1,0,0,1.0,8,1,3\\n162.0,53.0,44.0,20,14900,130,15,2,0,3,0,0,1,0,1.0,8,1,1\\n188.0,80.0,76.0,22,14900,613,15,1,0,2,1,1,1,1,1.0,8,1,5\\n165.0,65.0,48.0,23,19500,122,15,2,0,2,1,1,1,1,1.0,8,1,3\\n188.0,80.0,76.0,22,9900,613,15,1,0,2,1,1,1,1,1.0,8,1,3\\n188.0,80.0,76.0,22,14500,613,15,1,0,2,1,1,1,1,1.0,8,1,1\\n167.0,65.0,55.0,23,19500,445,15,2,0,2,1,1,1,1,1.0,8,1,1\\n160.0,58.0,48.0,22,9900,641,15,2,1,2,1,1,0,0,3.0,8,1,3\\n158.9,65.0,53.0,25,14900,555,15,2,0,2,1,1,1,1,3.0,8,1,1\\n166.0,80.0,76.0,25,39900,140,15,2,0,3,1,0,0,0,1.0,8,1,1\\n162.0,57.0,50.0,21,19500,425,15,2,0,2,1,1,0,0,1.0,8,1,3\\n188.0,80.0,76.0,22,29800,613,15,1,0,2,1,1,1,1,1.0,8,1,3\\n163.0,49.0,45.0,18,19900,431,15,2,0,3,1,1,1,1,2.0,8,1,1\\n158.0,45.0,43.0,19,14500,400,15,2,0,3,0,0,1,0,1.0,8,1,4\\n164.0,60.0,45.0,22,9900,0,15,2,0,1,0,1,1,0,4.0,8,1,3\\n164.0,60.0,45.0,22,20000,0,15,2,0,1,0,1,1,0,4.0,8,1,6\\n164.0,60.0,45.0,22,14900,0,15,2,0,1,0,1,1,0,4.0,8,1,5\\n164.0,60.0,45.0,22,19500,0,15,2,0,1,0,1,1,0,4.0,8,1,3\\n157.0,54.0,48.0,21,19900,706,15,2,0,2,1,1,1,1,3.0,8,1,1\\n163.0,50.0,48.0,18,0,306,15,2,0,2,0,1,0,0,1.0,8,0,3\\n158.0,52.0,47.0,20,20000,142,15,2,0,2,1,1,1,1,5.0,8,1,6\\n165.0,54.0,50.0,19,19500,137,15,2,0,2,1,1,0,0,1.0,8,1,3\\n167.0,63.0,53.0,22,9900,415,15,2,0,2,1,0,0,0,3.0,8,1,3\\n63.0,73.0,55.0,183,0,573,15,2,0,2,1,1,1,1,5.0,8,0,3\\n63.0,73.0,55.0,183,9900,573,15,2,0,2,1,1,1,1,5.0,8,1,3\\n163.0,55.0,50.0,20,14900,609,15,2,0,3,1,0,0,0,1.0,8,1,5\\n165.0,51.0,45.0,20,58000,140,15,2,0,4,1,1,1,1,1.0,8,1,3\\n165.0,51.0,45.0,20,58000,140,15,2,0,4,1,1,1,1,1.0,8,1,3\\n177.0,63.0,55.0,20,19500,427,15,2,0,2,0,1,0,0,3.0,8,1,3\\n177.0,63.0,55.0,20,19500,427,15,2,0,2,0,1,0,0,3.0,8,1,1\\n147.0,42.0,39.0,19,19500,769,15,2,0,2,1,1,1,1,1.0,8,1,3\\n165.0,55.0,50.0,20,19500,506,15,2,0,2,1,1,0,0,1.0,8,1,3\\n168.0,60.0,56.0,21,27000,530,15,2,0,2,1,0,0,0,1.0,8,1,5\\n168.0,60.0,56.0,21,50000,530,15,2,0,2,1,0,0,0,1.0,8,1,5\\n168.0,52.0,48.0,18,19500,110,15,2,0,2,1,1,0,0,5.0,8,1,3\\n170.0,58.0,50.0,20,19500,437,15,2,0,2,0,1,0,0,2.0,8,1,3\\n170.0,58.0,50.0,20,19500,437,15,2,0,2,0,1,0,0,2.0,8,1,3\\n174.0,84.0,75.0,27,9900,306,15,2,1,2,1,0,0,0,3.0,8,1,3\\n173.0,62.0,48.0,20,19500,131,15,2,0,2,1,1,0,0,1.0,8,1,3\\n158.0,46.0,42.0,21,19500,143,15,2,0,4,1,0,1,0,1.0,8,1,3\\n163.0,63.0,50.0,23,19500,134,15,2,0,2,1,1,0,0,1.0,8,1,3\\n157.0,48.0,46.0,21,59000,121,15,2,0,2,1,1,0,0,1.0,8,1,1\\n165.0,48.0,45.0,17,19500,152,15,2,0,2,0,1,0,0,1.0,8,1,1\\n165.0,58.0,52.0,21,19500,449,15,2,0,2,1,1,1,1,1.0,8,1,3\\n168.0,48.0,46.0,17,14900,614,15,2,0,2,1,0,1,0,1.0,8,1,1\\n165.0,51.0,45.0,20,58000,140,15,2,0,4,1,1,1,1,1.0,8,1,3\\n162.0,50.0,45.0,19,14900,300,15,2,0,2,0,1,1,0,1.0,8,1,5\\n163.0,43.0,0.0,16,19500,462,15,2,0,2,0,1,0,0,1.0,8,1,3\\n162.0,50.0,45.0,19,22000,300,15,2,0,2,0,1,1,0,1.0,8,1,1\\n160.0,53.0,48.0,20,19500,156,15,2,0,2,0,1,0,0,1.0,8,1,1\\n175.0,60.0,55.0,19,19500,702,15,2,0,2,1,0,0,0,1.0,8,1,3\\n160.0,47.0,43.0,18,19500,138,15,2,0,2,0,1,0,0,1.0,8,1,3\\n168.0,76.0,66.0,26,14900,136,15,2,0,1,1,1,1,1,1.0,8,1,1\\n168.0,76.0,66.0,26,14000,136,15,2,0,1,1,1,1,1,1.0,8,1,4\\n165.0,52.0,48.0,19,14900,706,15,2,0,2,1,1,1,1,2.0,8,1,5\\n177.0,65.0,63.0,20,19500,131,15,1,0,2,0,1,0,0,1.0,8,1,3\\n177.0,65.0,63.0,20,19500,131,15,1,0,2,0,1,0,0,1.0,8,1,1\\n159.0,52.0,46.0,20,14900,330,15,2,0,2,0,1,1,0,1.0,8,1,5\\n159.0,52.0,46.0,20,14900,330,15,2,0,2,0,1,1,0,1.0,8,1,1\\n150.0,42.0,39.0,18,14900,626,15,2,0,1,1,1,1,1,1.0,8,1,1\\n158.0,54.0,45.0,21,19500,151,15,2,0,3,1,1,0,0,1.0,8,1,3\\n157.0,54.0,48.0,21,14900,706,15,2,0,2,1,1,1,1,3.0,8,1,5\\n163.0,45.0,44.0,16,19500,139,15,2,0,2,0,1,1,0,5.0,8,1,3\\n163.0,49.0,45.0,18,0,431,15,2,0,3,1,1,1,1,2.0,8,0,1\\n165.0,56.0,55.0,20,19900,134,15,2,0,2,1,0,1,0,1.0,8,1,1\\n155.0,45.0,40.0,18,19500,404,15,2,0,2,1,1,0,0,2.0,8,1,3\\n165.0,55.0,50.0,20,12900,463,15,2,0,2,1,0,1,0,5.0,8,1,5\\n163.0,54.0,51.0,20,12900,690,15,2,0,2,1,0,1,0,1.0,8,1,5\\n158.0,61.0,48.0,24,9900,701,15,2,0,3,0,1,0,0,3.0,8,1,3\\n170.0,51.0,49.0,17,14900,134,15,2,0,2,0,0,1,0,1.0,8,1,5\\n160.0,53.0,49.0,20,19500,440,15,2,0,2,0,1,0,0,1.0,8,1,3\\n157.0,52.0,47.0,21,19500,361,15,2,0,1,1,1,0,0,1.0,8,1,1\\n162.0,49.0,45.0,18,19500,447,15,2,0,2,1,1,0,0,1.0,8,1,3\\n161.0,54.0,48.0,20,19900,561,15,2,0,2,1,1,0,0,1.0,8,1,5\\n161.0,54.0,48.0,20,9900,561,15,2,0,2,1,1,0,0,1.0,8,1,3\\n172.0,63.0,59.0,21,49000,530,15,2,0,2,1,1,0,0,1.0,8,1,6\\n155.0,45.0,41.0,18,19900,401,15,2,0,3,1,0,1,0,1.0,8,1,5\\n163.0,76.0,52.0,31,14900,330,15,2,0,1,1,1,1,1,1.0,8,1,5\\n163.0,72.0,65.0,27,22000,604,15,2,0,3,1,0,0,0,2.0,8,1,5\\n167.0,68.0,55.0,24,14900,616,15,2,0,4,1,1,1,1,1.0,8,1,1\\n161.0,55.0,51.0,21,14500,503,15,2,0,2,1,1,1,1,1.0,8,1,4\\n161.0,55.0,51.0,21,27000,503,15,2,0,2,1,1,1,1,1.0,8,1,4\\n177.0,53.0,60.0,16,18000,100,15,1,0,2,0,0,1,0,1.0,8,1,1\\n165.0,53.0,47.0,19,19500,136,15,2,0,2,1,1,0,0,1.0,8,1,2\\n165.0,52.0,48.0,19,14900,706,15,2,0,2,1,1,1,1,2.0,8,1,5\\n178.0,66.0,65.0,20,14900,423,15,1,0,2,0,0,1,0,4.0,8,1,5\\n163.0,45.0,43.0,16,14900,139,15,2,0,2,0,1,0,0,3.0,8,1,5\\n165.0,65.0,57.0,23,19500,330,15,2,0,2,1,1,1,1,5.0,8,1,3\\n164.0,54.0,50.0,20,14900,135,15,2,0,2,1,1,1,1,1.0,8,1,1\\n163.0,48.0,46.0,18,19500,627,15,2,0,2,1,1,0,0,1.0,8,1,3\\n157.0,47.0,42.0,19,34000,606,15,2,0,2,1,1,1,1,1.0,8,1,1\\n170.0,66.0,45.0,22,19500,463,15,2,0,2,1,1,0,0,1.0,8,1,3\\n163.0,47.0,45.0,17,14900,608,15,2,0,2,1,0,1,0,1.0,8,1,5\\n161.0,53.0,46.0,20,14900,411,15,2,0,2,0,1,1,0,1.0,8,1,1\\n162.0,51.0,47.0,19,19900,463,15,2,0,2,1,1,1,1,1.0,8,1,1\\n170.0,59.0,54.0,20,20000,706,15,2,0,2,1,1,0,0,1.0,8,1,6\\n162.0,53.0,49.0,20,18000,134,15,2,0,2,1,1,1,1,1.0,8,1,3\\n170.0,53.0,50.0,18,19500,608,15,2,0,2,0,1,0,0,5.0,8,1,3\\n159.0,66.0,50.0,26,21000,140,15,2,0,1,1,1,1,1,4.0,8,1,3\\n158.0,56.0,48.0,22,19900,705,15,2,0,2,0,1,0,0,1.0,8,1,5\\n170.0,65.0,61.0,23,20000,130,15,2,0,2,1,0,0,0,2.0,8,1,6\\n165.0,52.0,48.0,19,19500,613,15,2,0,2,0,1,1,0,1.0,8,1,3\\n164.0,67.0,64.0,24,14900,240,15,2,0,2,1,1,1,1,1.0,8,1,1\\n165.0,62.0,50.0,22,9900,157,15,2,0,2,1,1,0,0,1.0,8,1,3\\n161.0,50.0,46.0,19,19500,545,15,2,0,2,1,1,0,0,1.0,8,1,3\\n160.0,59.0,52.0,23,19500,137,15,2,0,2,1,1,1,1,1.0,8,1,3\\n163.0,52.0,48.0,19,19500,500,15,2,0,2,1,1,1,1,5.0,8,1,3\\n163.0,76.0,52.0,31,15000,330,15,2,0,1,1,1,1,1,1.0,8,1,4\\n165.0,55.0,50.0,20,19500,135,15,2,0,2,1,1,0,0,1.0,8,1,3\\n160.0,45.0,40.0,17,39900,730,15,2,0,2,0,1,0,0,5.0,8,1,1\\n163.0,56.0,45.0,21,19500,407,15,2,0,2,1,1,1,1,1.0,8,1,3\\n155.0,48.0,40.0,19,19500,502,15,2,0,2,1,1,0,0,2.0,8,1,3\\n158.0,51.0,48.0,20,19500,411,15,2,0,4,1,1,0,0,1.0,8,1,3\\n163.0,58.0,55.0,21,14900,158,15,2,1,2,1,0,1,0,3.0,8,1,5\\n160.0,62.0,50.0,24,19900,609,15,1,0,2,1,0,1,0,1.0,8,1,1\\n160.0,66.0,50.0,25,19500,137,15,2,0,2,1,1,0,0,3.0,8,1,3\\n165.0,58.0,53.0,21,12900,150,15,1,0,2,1,0,1,0,1.0,8,1,1\\n164.0,60.0,45.0,22,12900,0,15,2,0,1,0,1,1,0,4.0,8,1,5\\n164.0,60.0,45.0,22,9900,0,15,2,0,1,0,1,1,0,4.0,8,1,3\\n164.0,60.0,45.0,22,20000,0,15,2,0,1,0,1,1,0,4.0,8,1,6\\n164.0,60.0,45.0,22,19500,0,15,2,0,1,0,1,1,0,4.0,8,1,3\\n165.0,55.0,46.0,20,12900,336,15,2,0,2,1,1,0,0,1.0,8,1,5\\n160.0,46.0,40.0,17,19500,611,15,2,0,3,0,1,0,0,1.0,8,1,3\\n160.0,49.0,43.0,19,12900,463,15,2,0,2,1,1,1,1,5.0,8,1,5\\n162.0,56.0,48.0,21,19500,120,15,2,0,2,1,1,0,0,1.0,8,1,1\\n173.0,65.0,62.0,21,19500,151,15,1,0,2,1,0,0,0,3.0,8,1,3\\n158.0,61.0,48.0,24,9900,701,15,2,0,3,0,1,0,0,3.0,8,1,3\\n164.0,51.0,47.0,18,19500,139,15,2,0,2,0,1,1,0,1.0,8,1,3\\n164.0,53.0,48.0,19,19500,120,15,2,0,2,1,0,1,0,1.0,8,1,3\\n160.0,46.0,42.0,17,18000,152,15,2,0,2,1,1,1,1,1.0,8,1,1\\n165.0,58.0,55.0,21,19500,138,15,2,1,2,1,0,0,0,1.0,8,1,3\\n160.0,55.0,51.0,19,19500,142,15,2,0,4,1,1,1,1,1.0,8,1,3\\n164.0,49.0,45.0,18,12900,656,15,2,0,2,0,0,1,0,1.0,8,1,5\\n156.0,48.0,43.0,19,12900,139,15,2,0,2,1,1,1,1,1.0,8,1,5\\n161.0,50.0,46.0,19,19500,545,15,2,0,2,1,1,0,0,1.0,8,1,1\\n165.0,58.0,52.0,21,9900,110,15,2,0,3,1,1,1,1,1.0,8,1,3\\n164.0,52.0,48.0,19,19500,302,15,2,0,2,1,1,0,0,1.0,8,1,1\\n158.0,50.0,43.0,20,19500,142,15,2,0,2,0,1,0,0,1.0,8,1,1\\n160.0,60.0,50.0,23,19500,500,15,2,0,2,1,1,1,1,1.0,8,1,3\\n158.0,50.0,43.0,20,19500,142,15,2,0,2,0,1,0,0,1.0,8,1,1\\n170.0,76.0,68.0,26,19500,135,15,1,0,2,1,1,0,0,3.0,8,1,3\\n169.0,65.0,55.0,22,9900,471,15,2,0,1,0,1,0,0,1.0,8,1,3\\n165.0,59.3,58.0,22,12900,425,15,2,0,4,1,1,1,1,1.0,8,1,1\\n160.0,53.0,49.0,21,12900,152,15,2,0,2,1,1,1,1,1.0,8,1,5\\n170.0,65.0,53.0,22,12900,157,15,2,0,2,1,1,1,1,1.0,8,1,5\\n170.0,58.0,50.0,20,19500,402,15,2,0,2,1,1,1,1,1.0,8,1,1\\n166.0,57.0,48.0,20,19500,153,15,2,0,2,1,1,0,0,1.0,8,1,3\\n162.0,59.0,55.0,22,9900,156,15,2,0,4,0,1,0,0,1.0,8,1,3\\n162.0,59.0,55.0,22,7300,156,15,2,0,4,0,1,0,0,1.0,8,1,4\\n170.0,68.0,55.0,23,19500,500,15,2,0,2,1,1,0,0,1.0,8,1,3\\n172.0,77.0,70.0,26,27000,130,15,1,0,2,1,0,0,0,3.0,8,1,3\\n162.0,45.0,43.0,17,12900,153,15,2,0,2,0,1,0,0,1.0,8,1,5\\n152.0,57.0,47.0,24,19900,463,15,2,0,4,0,1,1,0,2.0,8,1,1\\n160.0,59.0,53.0,23,20000,471,15,2,0,2,1,1,0,0,1.0,8,1,6\\n165.0,65.0,48.0,23,12900,420,15,2,0,2,1,1,0,0,1.0,8,1,1\\n165.0,68.0,55.0,24,12900,361,15,2,0,2,1,0,1,0,1.0,8,1,5\\n174.0,76.0,70.0,25,19500,142,15,1,0,2,1,1,0,0,5.0,8,1,3\\n156.0,55.0,43.0,22,12900,314,15,2,0,2,1,1,1,1,1.0,8,1,5\\n162.0,50.0,47.0,19,12900,369,15,2,0,2,1,0,1,0,1.0,8,1,5\\n162.0,50.0,47.0,19,12900,369,15,2,0,2,1,0,1,0,1.0,8,1,5\\n167.0,75.0,50.0,26,12900,561,15,2,0,2,1,1,0,0,5.0,8,1,5\\n160.0,60.0,56.0,24,15000,150,15,2,0,4,1,1,0,0,1.0,8,1,4\\n156.0,42.0,42.0,17,19500,604,15,2,0,2,0,1,0,0,3.0,8,1,3\\n167.0,60.0,50.0,21,12900,660,15,2,0,2,1,1,1,1,1.0,8,1,5\\n160.0,60.0,56.0,24,15000,150,15,2,0,4,1,1,0,0,1.0,8,1,4\\n160.0,52.0,44.0,19,19500,641,15,2,0,2,1,1,0,0,2.0,8,1,2\\n160.0,60.0,56.0,24,15000,150,15,2,0,4,1,1,0,0,1.0,8,1,4\\n172.0,61.0,52.0,20,12900,133,15,2,0,2,1,1,1,1,1.0,8,1,5\\n160.0,48.0,45.0,18,19500,441,15,2,0,2,1,1,1,1,1.0,8,1,3\\n162.0,44.0,46.0,16,19500,449,15,2,0,2,0,1,0,0,1.0,8,1,3\\n158.5,49.0,45.0,19,19500,420,15,2,0,2,1,1,0,0,1.0,8,1,1\\n168.0,50.0,47.0,17,19900,600,15,2,0,3,1,1,0,0,1.0,8,1,5\\n165.0,57.0,53.0,20,19500,120,15,2,0,2,1,1,0,0,1.0,8,1,3\\n165.0,60.0,55.0,22,12900,306,15,1,0,2,1,0,1,0,1.0,8,1,5\\n162.0,53.0,49.0,20,27000,330,15,2,0,2,1,1,0,0,1.0,8,1,5\\n161.0,47.0,47.0,18,19500,617,15,2,0,2,1,1,0,0,1.0,8,1,3\\n160.0,45.0,40.0,17,19500,461,15,2,0,2,1,0,0,0,1.0,8,1,3\\n162.0,46.0,43.0,17,12900,402,15,2,0,2,1,0,1,0,1.0,8,1,1\\n169.0,0.0,0.0,0,12900,456,15,2,0,2,1,1,1,1,2.0,8,1,5\\n163.0,55.0,50.0,20,14900,609,15,2,0,3,1,0,0,0,1.0,8,1,5\\n163.0,65.0,55.0,24,19500,139,15,2,0,3,1,0,1,0,2.0,8,1,1\\n164.0,53.0,48.0,19,12900,617,15,2,0,2,1,0,0,0,1.0,8,1,5\\n166.5,57.5,50.0,20,19500,158,15,2,0,2,1,1,0,0,3.0,8,1,3\\n182.0,80.0,75.0,24,12900,137,15,1,0,2,0,1,1,0,3.0,8,1,5\\n163.0,40.0,48.0,15,19500,607,15,2,0,2,0,1,0,0,3.0,8,1,3\\n183.0,86.0,70.0,25,12900,520,15,1,0,2,1,1,1,1,5.0,8,1,1\\n173.0,55.0,52.0,18,12900,339,15,2,0,2,1,1,1,1,1.0,8,1,5\\n160.0,47.0,43.0,18,12900,122,15,2,0,2,0,0,1,0,1.0,8,1,5\\n160.0,47.0,43.0,18,12900,122,15,2,0,2,0,0,1,0,1.0,8,1,5\\n167.0,59.0,50.0,21,12900,138,15,2,0,2,1,1,1,1,3.0,8,1,5\\n160.0,50.0,45.0,19,19500,463,15,2,0,3,1,1,1,1,1.0,8,1,3\\n165.0,55.0,51.0,19,9900,135,15,2,0,3,1,1,1,1,1.0,8,1,3\\n165.0,55.0,51.0,19,14000,135,15,2,0,3,1,1,1,1,1.0,8,1,4\\n165.0,55.0,51.0,19,20000,135,15,2,0,3,1,1,1,1,1.0,8,1,6\\n170.0,65.0,60.0,22,12900,501,15,1,0,2,1,0,0,0,1.0,8,1,5\\n165.0,64.0,60.0,23,20000,306,15,2,0,2,1,1,0,0,1.0,8,1,6\\n162.7,68.5,66.0,26,39000,463,15,2,0,1,0,1,0,0,1.0,8,1,2\\n177.0,62.0,70.0,19,12900,757,15,2,0,2,0,0,1,0,1.0,8,1,5\\n163.0,49.0,45.0,18,12900,704,15,2,0,2,0,1,1,0,1.0,8,1,5\\n165.0,54.0,47.0,19,14500,570,15,2,0,2,1,1,1,1,1.0,8,1,1\\n163.0,50.0,45.0,18,12900,608,15,2,0,2,1,1,0,0,1.0,8,1,5\\n165.0,54.0,47.0,19,14500,570,15,2,0,2,1,1,1,1,1.0,8,1,1\\n165.0,54.0,47.0,19,14500,570,15,2,0,2,1,1,1,1,1.0,8,1,1\\n168.0,77.0,55.0,27,7300,703,15,2,0,2,1,0,0,0,1.0,8,1,4\\n157.0,60.0,48.0,24,12900,151,15,2,0,3,0,1,0,0,1.0,8,1,5\\n167.0,55.0,50.0,19,12900,137,15,2,0,2,1,1,1,1,2.0,8,1,5\\n155.0,46.0,42.0,19,12900,130,15,2,0,2,1,0,0,0,1.0,8,1,5\\n160.0,48.0,45.0,18,12900,153,15,2,0,2,0,0,1,0,5.0,8,1,1\\n180.0,83.0,75.0,25,12900,157,15,1,0,3,1,1,1,1,3.0,8,1,1\\n166.0,65.0,61.0,23,20000,791,15,2,0,2,1,1,0,0,1.0,8,1,6\\n165.0,79.0,60.0,29,29800,427,15,2,0,3,1,1,1,1,3.0,8,1,3\\n163.0,64.0,49.0,24,12900,472,15,2,0,2,1,1,0,0,1.0,8,1,5\\n166.0,57.0,53.0,19,60000,130,15,2,0,3,1,1,0,0,2.0,8,1,2\\n170.0,70.0,60.0,24,12900,156,15,1,0,2,1,1,1,1,1.0,8,1,5\\n158.0,57.0,50.0,22,12900,430,15,2,0,2,0,1,1,0,1.0,8,1,5\\n161.0,50.0,46.0,19,19500,425,15,2,0,2,1,1,0,0,1.0,8,1,3\\n162.0,50.0,50.0,22,29800,441,15,2,0,4,1,1,1,1,1.0,8,1,3\\n167.0,56.0,48.0,20,12900,110,15,2,0,2,0,1,1,0,1.0,8,1,5\\n163.0,56.0,50.0,21,12900,613,15,2,0,2,1,1,1,1,1.0,8,1,5\\n155.0,44.0,42.0,18,12900,435,15,2,0,3,0,1,1,0,1.0,8,1,5\\n162.0,48.0,45.0,18,12900,100,15,2,0,2,1,1,1,1,3.0,8,1,5\\n163.0,55.0,50.0,20,12900,609,15,2,0,3,1,0,0,0,1.0,8,1,5\\n177.0,68.0,63.0,21,12900,757,15,1,0,2,1,1,1,1,3.0,8,1,5\\n161.0,48.0,46.0,18,12900,200,15,2,0,2,0,0,1,0,1.0,8,1,5\\n160.0,59.0,53.0,23,29800,471,15,2,0,2,1,1,0,0,1.0,8,1,3\\n173.0,69.0,60.0,23,12900,421,15,1,0,2,1,1,1,1,1.0,8,1,5\\n160.0,52.0,48.0,20,12900,406,15,2,0,2,1,1,1,1,1.0,8,1,1\\n180.0,70.0,67.0,21,12900,305,15,1,0,2,0,0,1,0,1.0,8,1,5\\n155.0,55.0,45.0,22,9900,573,15,2,0,1,1,1,0,0,2.0,8,1,3\\n160.0,49.0,43.0,19,20000,135,15,2,0,4,1,1,0,0,1.0,8,1,6\\n170.0,58.0,53.0,20,19500,150,15,2,0,2,0,1,0,0,1.0,8,1,3\\n161.0,52.0,46.0,20,19500,406,15,2,0,2,1,0,1,0,1.0,8,1,3\\n160.0,53.0,49.0,21,12900,152,15,2,0,2,1,1,1,1,1.0,8,1,1\\n162.0,76.0,72.0,29,39800,135,15,2,0,2,1,1,1,1,1.0,8,2,1\\n158.0,47.0,42.0,18,19500,151,15,2,0,2,1,1,0,0,4.0,8,1,3\\n162.0,60.0,40.0,22,19500,472,15,2,0,2,1,1,0,0,1.0,8,1,3\\n156.4,48.6,45.0,19,12900,500,15,2,0,2,1,1,0,0,1.0,8,1,5\\n164.0,58.0,48.0,21,19500,156,15,2,0,2,0,1,0,0,1.0,8,1,1\\n160.0,45.5,43.0,17,19500,158,15,2,0,2,1,1,0,0,3.0,8,1,3\\n156.0,52.0,36.0,21,12900,536,15,2,0,2,1,1,1,1,1.0,8,1,5\\n160.0,53.0,47.0,20,19900,706,15,2,0,2,1,1,1,1,5.0,8,1,1\\n158.0,60.0,56.0,25,20000,156,15,2,0,2,1,1,0,0,1.0,8,1,6\\n161.0,53.0,48.0,20,19500,158,15,2,0,2,1,0,1,0,1.0,8,1,3\\n160.0,50.0,45.0,19,19500,449,15,2,0,2,1,1,1,1,1.0,8,1,3\\n160.0,50.0,45.0,19,19500,502,15,2,0,2,1,1,0,0,2.0,8,1,1\\n180.0,74.0,71.0,22,12900,681,15,1,0,2,0,1,0,0,3.0,8,1,5\\n160.0,41.0,40.0,16,19500,730,15,2,0,2,1,1,1,1,1.0,8,1,3\\n160.0,41.0,40.0,16,12900,730,15,2,0,2,1,1,1,1,1.0,8,1,5\\n165.0,48.0,43.0,17,12900,300,15,2,0,2,0,1,0,0,5.0,8,1,1\\n165.0,48.0,43.0,17,19500,300,15,2,0,2,0,1,0,0,5.0,8,1,1\\n156.0,52.0,45.0,21,12900,440,15,2,0,2,1,1,1,1,2.0,8,1,1\\n158.0,48.0,40.0,19,19900,467,15,2,0,3,1,1,1,1,1.0,8,1,1\\n160.0,53.0,50.0,20,19500,706,15,2,0,2,1,1,0,0,3.0,8,1,3\\n158.0,50.0,45.0,20,19500,682,15,2,0,2,1,1,0,0,1.0,8,1,3\\n155.0,55.0,40.0,22,12900,483,15,2,0,2,1,0,1,0,1.0,8,1,1\\n156.0,62.0,59.0,25,12900,343,15,2,0,2,1,1,1,1,1.0,8,1,5\\n162.0,51.0,48.0,19,12900,440,15,2,0,3,0,1,1,0,1.0,8,1,5\\n162.0,67.0,63.0,25,39900,613,15,2,0,3,1,1,0,0,2.0,8,1,1\\n162.0,56.0,56.0,21,14000,320,15,2,0,4,1,1,1,1,5.0,8,1,4\\n167.0,69.0,63.0,24,0,600,15,2,0,2,1,1,0,0,3.0,8,0,3\\n165.0,52.0,48.0,19,32800,138,15,2,0,2,1,1,1,1,2.0,8,1,1\\n170.0,48.0,46.0,16,19500,411,15,2,0,2,0,1,0,0,1.0,8,1,2\\n163.0,50.0,48.0,18,12900,690,15,2,0,2,1,1,1,1,1.0,8,1,5\\n160.0,53.0,49.0,21,12900,152,15,2,0,2,1,1,1,1,1.0,8,1,5\\n165.0,50.0,45.0,18,19900,790,15,2,0,2,1,1,1,1,1.0,8,1,1\\n165.0,50.0,43.0,18,19500,134,15,2,0,2,1,1,0,0,1.0,8,1,3\\n170.0,63.0,57.0,21,12900,631,15,2,0,2,1,1,1,1,1.0,8,1,5\\n170.0,72.0,62.0,24,12900,502,15,1,1,2,1,0,0,0,3.0,8,1,5\\n170.0,72.0,62.0,24,38700,502,15,1,1,2,1,0,0,0,3.0,8,3,5\\n165.0,60.0,53.0,22,12900,217,15,2,0,2,1,0,1,0,1.0,8,1,5\\n164.0,70.0,50.0,26,32800,110,15,2,0,2,1,1,0,0,5.0,8,1,1\\n168.5,85.0,54.0,29,15000,200,15,2,0,2,1,1,1,1,3.0,8,1,4\\n155.0,50.0,45.0,20,12900,449,15,2,0,2,1,1,1,1,1.0,8,1,5\\n155.0,50.0,45.0,20,27000,449,15,2,0,2,1,1,1,1,1.0,8,1,5\\n169.0,67.0,60.0,23,12900,320,15,2,0,2,1,1,1,1,3.0,8,1,5\\n157.0,55.0,51.0,21,9900,361,15,2,0,2,1,1,0,0,1.0,8,1,3\\n170.0,59.0,59.0,20,12900,131,15,1,0,2,0,1,0,0,5.0,8,1,5\\n161.0,55.0,49.0,21,12900,604,15,2,0,2,1,1,1,1,1.0,8,1,5\\n160.0,55.0,49.0,21,12900,440,15,2,0,2,1,0,1,0,1.0,8,1,5\\n160.0,60.0,56.0,22,39900,133,15,2,0,3,1,1,0,0,1.0,8,1,2\\n153.5,60.0,46.0,25,29800,606,15,2,0,4,1,1,1,1,2.0,8,1,3\\n165.0,51.0,43.0,18,12900,570,15,2,0,2,0,1,1,0,1.0,8,1,1\\n164.0,56.0,48.0,20,19500,423,15,2,0,2,0,1,1,0,1.0,8,1,3\\n160.0,50.0,42.0,19,12900,431,15,2,0,2,1,1,1,1,1.0,8,1,5\\n166.0,68.0,64.0,24,12900,132,15,2,0,2,1,1,0,0,5.0,8,1,5\\n184.0,76.0,70.0,22,12900,100,15,1,0,2,1,0,1,0,1.0,8,1,5\\n158.0,47.5,45.0,19,20000,406,15,2,0,4,1,1,0,0,1.0,8,1,6\\n165.0,52.0,48.0,19,12900,502,15,2,0,2,1,1,1,1,1.0,8,1,5\\n170.0,55.0,48.0,19,12900,604,15,2,0,2,1,1,1,1,1.0,8,1,5\\n172.0,68.0,55.0,22,12900,611,15,2,0,2,1,1,1,1,3.0,8,1,5\\n166.0,55.0,50.0,19,19500,143,15,2,0,2,0,1,1,0,1.0,8,1,3\\n154.0,47.0,45.0,19,12900,641,15,2,0,2,0,1,1,0,1.0,8,1,5\\n160.0,46.0,45.0,17,12900,302,15,2,0,2,1,0,1,0,3.0,8,1,5\\n155.0,61.0,58.0,24,20000,305,15,2,0,3,1,1,0,0,4.0,8,1,6\\n158.0,60.0,48.0,24,9900,153,15,2,0,4,1,1,1,1,1.0,8,1,3\\n170.0,52.0,49.0,17,12900,139,15,2,0,2,1,0,1,0,1.0,8,1,5\\n158.0,60.0,48.0,24,9900,153,15,2,0,4,1,1,1,1,1.0,8,1,3\\n170.0,52.0,49.0,17,12900,139,15,2,0,2,1,0,1,0,1.0,8,1,5\\n162.0,49.0,50.0,18,58500,630,15,2,0,2,1,1,0,0,3.0,8,3,3\\n162.0,56.0,52.0,21,20000,604,15,2,0,3,1,1,0,0,2.0,8,1,6\\n158.0,60.0,48.0,24,9900,153,15,2,0,4,1,1,1,1,1.0,8,1,3\\n171.0,72.0,68.0,24,12900,440,15,2,0,2,1,0,1,0,1.0,8,1,5\\n178.0,60.0,65.0,18,12900,703,15,1,0,2,0,0,1,0,3.0,8,1,5\\n178.0,83.0,73.0,26,12900,791,15,1,0,2,1,0,0,0,3.0,8,1,5\\n178.0,60.0,65.0,18,12900,703,15,1,0,2,0,0,1,0,3.0,8,1,5\\n161.0,44.0,40.0,16,12900,156,15,2,0,2,0,1,0,0,1.0,8,1,5\\n158.5,56.0,52.0,23,9900,135,15,2,0,2,1,1,1,1,1.0,8,1,3\\n163.0,54.0,47.0,20,9900,680,15,2,0,2,1,1,1,1,1.0,8,1,3\\n152.0,56.0,52.0,20,9900,604,15,2,0,3,1,1,1,1,1.0,8,1,3\\n158.0,62.0,52.0,24,27000,138,15,2,0,4,1,1,0,0,1.0,8,1,1\\n163.0,62.0,48.0,23,20000,157,15,2,0,2,0,1,0,0,1.0,8,1,6\\n165.0,55.0,59.0,22,12900,650,15,2,0,1,1,1,1,1,3.0,8,1,5\\n165.0,67.0,55.0,24,27000,461,15,2,0,2,1,0,0,0,2.0,8,1,1\\n162.0,57.0,48.0,21,9900,702,15,2,0,3,1,1,1,1,1.0,8,1,3\\n157.0,46.0,43.0,18,20000,604,15,2,0,1,1,1,0,0,1.0,8,1,6\\n163.0,51.0,46.0,19,32800,500,15,2,0,2,0,0,1,0,1.0,8,1,1\\n178.0,80.0,75.0,25,12900,339,15,1,0,2,1,1,1,1,1.0,8,1,5\\n156.0,62.0,55.0,25,12900,441,15,2,0,2,1,1,1,1,1.0,8,1,5\\n180.8,67.0,73.0,20,12900,760,15,1,0,2,0,0,1,0,1.0,8,1,5\\n164.0,53.0,49.0,19,12900,143,15,2,0,2,1,1,1,1,1.0,8,1,5\\n158.0,55.0,45.0,22,19900,151,15,1,0,2,1,1,1,1,5.0,8,1,1\\n175.0,85.0,73.0,27,12900,134,15,1,0,2,1,0,1,0,4.0,8,1,5\\n162.0,60.0,50.0,22,12900,462,15,2,0,2,1,1,0,0,1.0,8,1,5\\n168.0,64.0,60.0,22,20000,135,15,2,0,2,0,1,0,0,1.0,8,1,6\\n173.0,58.0,55.0,19,12900,568,15,1,0,2,0,0,1,0,5.0,8,1,5\\n158.0,60.0,48.0,24,9900,153,15,2,0,4,1,1,1,1,1.0,8,1,3\\n169.0,67.0,58.0,23,12900,230,15,1,0,2,1,0,1,0,1.0,8,1,1\\n162.0,50.0,45.0,19,12900,132,15,2,0,2,1,0,0,0,5.0,8,1,5\\n164.0,58.0,50.0,21,29800,138,15,2,0,2,1,1,0,0,3.0,8,1,3\\n158.0,54.0,50.0,21,20000,464,15,2,0,1,1,1,0,0,1.0,8,1,6\\n161.0,55.0,47.0,21,12900,135,15,2,0,3,1,0,1,0,1.0,8,1,5\\n160.0,60.0,50.0,23,12900,462,15,2,0,2,1,1,1,1,1.0,8,1,5\\n157.0,48.0,44.0,19,12900,573,15,2,0,2,1,1,1,1,2.0,8,1,1\\n165.0,52.0,48.0,19,12900,534,15,2,0,2,1,1,1,1,1.0,8,1,5\\n164.0,46.0,46.0,17,12900,134,15,2,0,2,0,1,1,0,3.0,8,1,5\\n161.0,54.0,51.0,20,19500,502,15,2,0,2,1,1,1,1,1.0,8,1,3\\n165.0,52.0,47.0,19,12900,210,15,2,0,2,1,0,1,0,1.0,8,1,5\\n162.0,47.0,45.0,17,12900,421,15,2,0,2,1,0,0,0,1.0,8,1,1\\n160.0,47.0,45.0,18,12900,133,15,2,0,2,0,0,1,0,1.0,8,1,5\\n160.0,53.0,48.0,20,18000,156,15,2,0,2,0,1,0,0,1.0,8,1,3\\n160.0,53.0,48.0,20,19500,156,15,2,0,2,0,1,0,0,1.0,8,1,1\\n160.0,60.0,43.0,23,12900,450,15,2,0,3,1,1,1,1,1.0,8,1,5\\n161.0,61.5,59.0,24,14500,139,15,2,0,2,1,1,1,1,1.0,8,1,1\\n162.0,53.0,47.0,20,19500,406,15,2,0,2,0,1,0,0,1.0,8,1,3\\n160.0,53.0,49.0,21,12900,152,15,2,0,2,1,1,1,1,1.0,8,1,5\\n167.0,69.0,44.0,24,12900,791,15,2,0,2,1,0,1,0,1.0,8,1,5\\n167.0,55.0,50.0,19,12900,158,15,2,0,2,1,1,1,1,3.0,8,1,1\\n178.0,65.0,60.0,20,12900,425,15,1,0,3,0,1,0,0,3.0,8,1,5\\n166.0,59.15,56.0,21,29800,604,15,2,0,4,1,1,0,0,1.0,8,1,3\\n172.0,88.0,70.0,29,22000,135,15,1,0,2,1,0,0,0,3.0,8,1,5\\n163.0,55.0,50.0,20,12900,609,15,2,0,3,1,0,0,0,1.0,8,1,5\\n168.0,55.0,50.0,19,29800,463,15,2,0,3,0,1,1,0,1.0,8,1,3\\n154.0,53.0,45.0,22,39900,608,15,2,0,2,0,1,1,0,3.0,8,1,1\\n160.0,50.0,48.0,19,12900,330,15,2,0,2,0,1,1,0,3.0,8,1,1\\n160.0,45.0,40.0,17,12900,336,15,2,0,2,0,1,1,0,1.0,8,1,1\\n157.0,51.0,48.0,20,12900,472,15,2,0,2,0,1,1,0,1.0,8,1,1\\n164.0,50.0,45.0,18,12900,139,15,2,0,2,1,1,0,0,1.0,8,1,5\\n170.0,71.3,62.0,24,19500,502,15,2,0,2,1,1,1,1,2.0,8,1,1\\n160.0,45.0,43.0,17,12900,135,15,2,0,2,1,0,0,0,1.0,8,1,5\\n174.0,65.0,61.0,23,12900,606,15,2,0,2,0,1,1,0,1.0,8,1,5\\n158.0,52.0,46.0,20,12900,500,15,2,0,2,1,1,1,1,1.0,8,1,5\\n164.0,60.0,47.0,22,25800,656,15,2,0,1,1,1,0,0,1.0,8,2,5\\n171.0,58.0,48.0,19,15000,561,15,2,0,2,1,0,0,0,4.0,8,1,4\\n161.0,55.0,50.0,21,12900,356,15,2,0,2,1,1,0,0,1.0,8,1,1\\n166.0,56.0,50.0,20,12900,425,15,2,0,2,1,1,0,0,1.0,8,1,5\\n166.0,56.0,50.0,20,19900,425,15,2,0,2,1,1,0,0,1.0,8,1,1\\n165.0,49.0,47.0,17,19500,411,15,2,0,3,0,1,0,0,1.0,8,1,2\\n165.0,55.0,51.0,19,7300,135,15,2,0,3,1,1,1,1,1.0,8,1,4\\n155.0,62.0,58.0,25,7300,133,15,2,0,4,1,1,1,1,1.0,8,1,4\\n157.0,47.0,42.0,19,14900,606,15,2,0,2,1,1,1,1,1.0,8,1,5\\n165.0,60.0,50.0,22,14900,157,15,1,0,2,1,1,1,1,1.0,8,1,1\\n165.0,52.0,47.0,19,19500,132,15,2,0,2,1,1,1,1,2.0,8,1,3\\n158.0,50.5,50.0,22,9900,617,15,2,0,2,1,1,0,0,1.0,8,1,3\\n164.0,60.0,45.0,22,19500,0,15,2,0,1,0,1,1,0,4.0,8,1,3\\n164.0,60.0,45.0,22,9900,0,15,2,0,1,0,1,1,0,4.0,8,1,3\\n164.0,60.0,45.0,22,12900,0,15,2,0,1,0,1,1,0,4.0,8,1,5\\n156.0,47.0,45.0,19,19500,150,15,2,0,3,1,1,0,0,1.0,8,1,1\\n156.0,47.0,45.0,19,12900,150,15,2,0,3,1,1,0,0,1.0,8,1,5\\n160.0,53.0,49.0,21,12900,152,15,2,0,2,1,1,1,1,1.0,8,1,5\\n159.0,59.0,54.0,22,13000,742,15,2,0,4,1,1,1,1,1.0,8,1,4\\n171.0,67.0,59.0,22,12900,151,15,2,0,2,1,1,1,1,1.0,8,1,5\\n160.0,57.5,56.0,23,19500,157,15,2,0,2,0,1,0,0,1.0,8,1,1\\n167.0,53.0,47.0,19,59800,137,15,2,0,3,1,1,1,1,1.0,8,1,2\\n167.0,53.0,47.0,19,27000,137,15,2,0,3,1,1,1,1,1.0,8,1,5\\n167.0,53.0,47.0,19,12900,137,15,2,0,3,1,1,1,1,1.0,8,1,5\\n155.0,45.0,41.0,18,12900,139,15,2,0,2,1,1,1,1,1.0,8,1,5\\n168.0,68.0,60.0,24,12900,467,15,1,0,2,1,1,1,1,5.0,8,1,5\\n158.0,50.5,50.0,22,29800,617,15,2,0,2,1,1,0,0,1.0,8,1,3\\n162.0,55.0,47.0,20,9900,402,15,2,0,1,1,1,1,1,1.0,8,1,3\\n166.0,51.0,48.0,18,12900,704,15,2,0,2,0,0,1,0,1.0,8,1,5\\n162.0,50.0,40.0,19,12900,143,15,2,0,3,1,1,1,1,1.0,7,1,1\\n153.0,46.0,40.0,19,12900,136,15,2,0,2,1,1,1,1,1.0,7,1,1\\n163.0,53.0,47.0,19,12900,302,15,2,0,2,1,0,0,0,1.0,7,1,5\\n163.0,52.0,48.0,19,19500,613,15,2,0,2,0,1,0,0,5.0,7,1,3\\n168.0,78.0,74.0,24,39000,770,15,2,0,4,1,1,0,0,1.0,7,1,6\\n160.0,50.0,45.0,19,12900,690,15,2,0,2,1,1,1,1,3.0,7,1,1\\n160.0,50.0,45.0,19,12900,690,15,2,0,2,1,1,1,1,3.0,7,1,5\\n155.0,59.5,50.0,26,19500,630,15,2,0,1,1,1,1,1,1.0,7,1,1\\n165.0,48.0,45.0,17,14500,635,15,2,0,2,0,1,1,0,1.0,7,1,1\\n166.0,57.0,53.0,20,18000,406,15,2,0,2,1,1,1,1,2.0,7,1,1\\n163.0,55.0,48.0,20,12900,550,15,2,0,2,0,1,0,0,1.0,7,1,1\\n165.0,65.0,52.0,23,12900,305,15,1,0,3,0,1,0,0,1.0,7,1,5\\n165.0,65.0,52.0,23,12900,305,15,1,0,3,0,1,0,0,1.0,7,1,1\\n172.0,65.0,55.0,21,12900,730,15,2,0,3,0,1,1,0,2.0,7,1,1\\n160.0,51.0,48.0,19,12900,718,15,2,0,1,1,1,1,1,5.0,7,1,1\\n158.0,58.0,50.0,23,12900,757,15,2,0,3,1,1,1,1,1.0,7,1,1\\n158.0,58.0,50.0,23,13000,757,15,2,0,3,1,1,1,1,1.0,7,1,4\\n166.0,54.0,50.0,19,12900,135,15,2,0,3,0,1,0,0,1.0,7,1,1\\n160.0,53.0,48.0,20,19500,150,15,2,0,3,0,1,1,0,2.0,7,1,1\\n160.0,47.0,45.0,18,19500,660,15,2,0,3,1,0,0,0,1.0,7,1,1\\n160.0,47.0,45.0,18,27000,660,15,2,0,3,1,0,0,0,1.0,7,1,5\\n156.0,50.0,43.0,20,12900,502,15,2,0,2,1,1,1,1,1.0,7,1,1\\n159.0,51.0,50.0,20,12900,427,15,2,0,4,1,1,1,1,1.0,7,1,5\\n160.0,60.0,50.0,21,20900,560,15,2,0,3,1,1,0,0,1.0,7,1,6\\n166.0,50.0,48.0,18,39900,791,15,2,0,2,1,1,1,1,1.0,7,1,2\\n150.0,47.7,46.0,22,19500,742,15,2,0,1,1,1,1,1,2.0,7,1,3\\n165.0,64.0,60.0,23,20900,306,15,2,0,2,1,1,0,0,1.0,7,1,6\\n165.0,64.0,60.0,23,29000,306,15,2,0,2,1,1,0,0,1.0,7,1,6\\n157.0,50.0,42.0,20,19500,157,15,2,0,4,1,1,1,1,5.0,7,1,3\\n165.0,64.0,60.0,23,20900,306,15,2,0,2,1,1,0,0,1.0,7,1,6\\n160.0,57.0,50.0,22,19500,561,15,2,0,2,1,1,0,0,1.0,7,1,2\\n162.0,54.0,48.0,20,19500,613,15,2,0,3,0,1,1,0,1.0,7,1,3\\n163.0,55.0,51.0,20,12900,137,15,2,0,2,1,1,1,1,1.0,8,1,5\\n168.0,58.0,53.0,20,68000,301,15,2,0,4,1,1,0,0,1.0,7,1,6\\n166.0,80.0,60.0,29,12900,411,15,1,0,1,1,1,1,1,5.0,7,1,1\\n159.0,57.0,50.0,22,12900,152,15,2,0,1,1,1,1,1,1.0,7,1,5\\n169.0,60.0,54.0,21,19500,609,15,2,0,1,0,1,0,0,1.0,7,1,3\\n161.0,53.0,48.0,20,19500,435,15,2,0,3,1,1,0,0,1.0,7,1,3\\n145.0,63.0,40.0,29,19500,502,15,2,0,4,1,1,1,1,5.0,7,1,3\\n162.0,60.0,52.0,22,12900,680,15,2,0,4,1,1,1,1,1.0,7,1,1\\n167.0,66.0,50.0,23,39900,131,15,2,0,3,1,1,1,1,1.0,7,1,2\\n163.0,58.0,54.0,21,25800,132,15,2,0,1,1,1,1,1,1.0,7,2,5\\n163.0,63.0,60.0,22,14000,612,15,2,0,2,1,0,1,0,1.0,7,1,4\\n168.0,50.0,45.0,17,19500,157,15,2,0,3,0,1,0,0,1.0,7,1,3\\n162.0,75.0,73.0,29,20000,411,15,2,0,2,1,0,0,0,1.0,7,1,7\\n163.0,63.0,60.0,22,12900,612,15,2,0,2,1,0,1,0,1.0,7,1,5\\n165.0,65.0,52.0,23,12900,305,15,1,0,3,0,1,0,0,1.0,7,1,1\\n164.0,56.0,46.0,20,19500,613,15,2,0,2,1,1,0,0,2.0,7,1,3\\n155.5,50.0,45.0,20,20900,462,15,2,0,2,1,1,1,1,2.0,7,1,6\\n163.5,62.0,57.0,23,12900,545,15,2,0,1,1,1,0,0,1.0,7,1,1\\n163.5,62.0,57.0,23,12900,545,15,2,0,1,1,1,0,0,1.0,7,1,5\\n163.0,53.0,48.0,19,19500,704,15,2,0,2,1,1,0,0,1.0,7,1,1\\n161.0,49.0,47.0,18,19900,134,15,2,0,2,1,0,1,0,1.0,7,1,1\\n165.0,54.0,47.0,19,12900,560,15,2,0,1,1,1,0,0,1.0,7,1,5\\n161.0,52.0,48.0,19,12900,519,15,2,0,4,0,1,0,0,1.0,7,1,1\\n164.0,60.0,45.0,22,19500,0,15,2,0,1,0,1,1,0,4.0,7,1,3\\n155.0,55.0,45.0,22,12900,573,15,2,0,1,1,1,0,0,2.0,8,1,5\\n167.0,62.0,58.0,24,25000,462,15,2,0,4,1,1,1,1,1.0,8,1,3\\n167.0,62.0,58.0,24,19500,462,15,2,0,4,1,1,1,1,1.0,8,1,2\\n165.0,56.0,47.0,20,19500,137,15,2,0,2,1,1,0,0,1.0,8,1,2\\n163.0,52.0,45.0,19,12900,343,15,2,0,1,1,1,1,1,1.0,8,1,1\\n163.0,52.0,49.0,19,21000,150,15,2,0,2,1,1,0,0,3.0,8,1,3\\n161.0,50.0,49.0,19,12900,407,15,2,0,4,0,1,1,0,1.0,8,1,5\\n159.0,59.0,54.0,22,12900,742,15,2,0,4,1,1,1,1,1.0,8,1,5\\n165.0,70.0,50.0,25,19900,712,15,2,0,4,1,1,0,0,1.0,8,1,1\\n176.0,78.0,68.0,25,12900,420,15,1,0,2,1,1,1,1,1.0,8,1,5\\n161.0,54.0,51.0,20,19500,502,15,2,0,2,1,1,1,1,1.0,8,1,3\\n167.0,57.0,62.0,20,12900,153,15,1,0,2,0,0,1,0,1.0,8,1,5\\n168.0,58.0,52.0,20,12900,361,15,2,0,1,0,1,1,0,5.0,8,1,5\\n168.0,58.0,52.0,20,64000,361,15,2,0,1,0,1,1,0,5.0,8,1,6\\n162.0,60.0,50.0,22,12900,462,15,2,0,2,1,1,0,0,1.0,8,1,5\\n153.0,45.0,41.0,19,29800,429,15,2,0,3,1,1,0,0,1.0,8,1,3\\n154.0,53.0,45.0,22,39900,608,15,2,0,2,0,1,1,0,3.0,8,1,1\\n159.0,57.0,48.0,22,12900,440,15,2,0,2,0,1,1,0,5.0,8,1,5\\n163.0,45.0,43.0,16,19900,431,15,2,0,2,0,0,1,0,5.0,8,1,1\\n170.0,68.0,65.0,21,12900,136,15,2,0,2,1,0,1,0,5.0,8,1,5\\n164.0,56.0,46.0,20,19500,613,15,2,0,2,1,1,0,0,2.0,7,1,2\\n163.0,53.0,50.0,21,19500,613,15,2,0,1,0,1,0,0,1.0,7,1,1\\n155.0,53.0,49.0,21,19500,407,15,2,0,3,1,1,1,1,2.0,7,1,1\\n165.0,53.0,50.0,19,12900,423,15,2,0,2,0,1,1,0,1.0,7,1,5\\n160.0,55.0,50.0,21,15000,139,15,2,0,2,1,1,1,1,1.0,7,1,4\\n158.0,63.0,47.0,25,19500,612,15,2,0,2,1,1,0,0,1.0,7,1,2\\n155.0,48.0,40.0,19,19500,411,15,2,0,4,0,1,0,0,1.0,7,1,1\\n158.0,58.0,54.0,23,12900,763,15,2,0,2,1,1,1,1,1.0,7,1,5\\n163.0,63.0,58.0,23,19500,314,15,2,0,3,1,1,0,0,1.0,7,1,1\\n170.0,56.0,50.0,19,19500,465,15,2,0,1,1,1,1,1,1.0,7,1,1\\n153.0,46.0,40.0,19,19500,136,15,2,0,2,1,1,1,1,1.0,7,1,1\\n160.0,53.0,46.0,20,19500,780,15,2,0,2,1,1,0,0,2.0,7,1,1\\n160.2,52.0,46.0,20,12900,314,15,2,0,2,0,1,1,0,1.0,7,1,5\\n164.0,60.0,45.0,22,19500,0,15,2,0,1,0,1,1,0,4.0,7,1,1\\n164.0,60.0,45.0,22,12900,0,15,2,0,1,0,1,1,0,4.0,7,1,5\\n164.0,60.0,45.0,22,50000,0,15,2,0,1,0,1,1,0,4.0,7,1,6\\n164.0,60.0,45.0,22,13000,0,15,2,0,1,0,1,1,0,4.0,7,1,3\\n167.0,56.0,52.0,19,12900,500,15,2,0,2,1,0,1,0,2.0,7,1,5\\n166.0,59.0,53.0,21,19500,156,15,2,0,2,1,1,0,0,1.0,7,1,3\\n166.0,59.0,53.0,21,13000,156,15,2,0,2,1,1,0,0,1.0,7,1,3\\n160.0,50.0,45.0,19,12900,301,15,2,0,3,1,1,1,1,1.0,7,1,5\\n166.0,55.0,51.0,19,19500,302,15,2,0,2,0,1,0,0,1.0,7,1,1\\n164.0,62.0,58.0,23,12900,131,15,2,0,2,1,1,1,1,1.0,7,1,5\\n158.0,60.0,55.0,24,27000,463,15,2,0,3,1,1,0,0,3.0,7,1,1\\n160.0,58.0,50.0,22,19500,135,15,2,1,4,1,1,1,1,1.0,7,1,2\\n163.0,45.0,40.0,16,19500,130,15,2,0,3,0,1,0,0,1.0,7,1,1\\n168.0,67.0,58.0,23,12900,456,15,2,0,2,1,0,1,0,3.0,7,1,1\\n158.0,60.0,55.0,24,27000,463,15,2,0,3,1,1,0,0,3.0,7,1,1\\n162.0,49.0,45.0,18,19500,132,15,2,0,4,1,1,0,0,1.0,7,1,1\\n155.0,54.0,44.0,22,12900,680,15,2,0,4,1,1,1,1,1.0,7,1,5\\n172.0,77.0,73.0,26,12900,680,15,1,0,1,1,1,1,1,1.0,7,1,1\\n157.0,58.0,46.0,23,12900,614,15,2,0,1,1,1,1,1,1.0,7,1,5\\n157.0,58.0,46.0,23,19500,614,15,2,0,1,1,1,1,1,1.0,7,1,1\\n157.0,47.0,43.0,19,12900,135,15,2,0,2,0,1,1,0,1.0,7,1,1\\n163.0,65.0,52.0,24,12900,705,15,2,0,3,1,1,1,1,1.0,7,1,5\\n163.0,54.0,45.0,20,19500,136,15,2,0,2,0,1,0,0,3.0,7,1,1\\n163.0,55.0,52.0,20,39900,136,15,2,0,2,0,1,0,0,1.0,7,1,2\\n163.0,55.0,52.0,20,39900,136,15,2,0,2,0,1,0,0,1.0,7,1,1\\n157.0,39.0,35.0,15,12900,609,15,2,0,1,1,0,1,0,1.0,7,1,5\\n158.0,55.0,48.0,22,14000,519,15,2,0,2,1,1,0,0,1.0,8,1,4\\n174.0,55.0,52.0,18,19900,440,15,2,0,2,1,0,0,0,2.0,8,1,1\\n168.0,50.0,48.0,17,12900,463,15,2,0,2,1,0,1,0,1.0,8,1,5\\n158.0,53.0,47.0,21,12900,730,15,2,0,2,1,1,1,1,3.0,8,1,5\\n165.0,55.0,50.0,20,12900,463,15,2,0,2,0,0,1,0,3.0,8,1,1\\n170.0,55.0,50.0,19,12900,402,15,2,0,2,1,0,1,0,1.0,8,1,5\\n173.0,65.0,60.0,21,12900,608,15,1,0,2,1,1,1,1,1.0,8,1,5\\n162.0,55.0,48.0,20,14500,431,15,2,0,2,0,1,1,0,1.0,8,1,1\\n165.0,49.0,45.0,17,27000,449,15,2,0,2,1,1,1,1,1.0,8,1,5\\n167.0,58.0,50.0,20,19500,780,15,2,0,1,1,0,1,0,1.0,7,1,1\\n165.0,60.0,56.0,23,15000,121,15,2,0,2,1,1,1,1,1.0,7,1,4\\n160.0,52.0,48.0,20,15000,613,15,2,0,2,0,1,0,0,5.0,7,1,4\\n160.0,52.0,48.0,20,14000,613,15,2,0,2,0,1,0,0,5.0,7,1,4\\n162.0,58.0,52.0,22,19500,138,15,2,0,2,1,1,1,1,1.0,7,1,1\\n159.8,51.0,47.0,19,19500,137,15,2,0,3,1,1,1,1,1.0,7,1,1\\n165.0,58.0,48.0,21,19500,158,15,2,0,1,1,1,0,0,2.0,7,1,3\\n167.0,78.0,74.0,26,49000,604,15,2,0,2,1,1,0,0,1.0,7,1,6\\n160.0,48.0,45.0,17,12900,151,15,2,0,3,1,1,1,1,1.0,7,1,5\\n155.0,48.0,44.0,19,19500,130,15,2,0,2,1,1,0,0,1.0,7,1,3\\n165.0,60.0,56.0,23,15000,121,15,2,0,2,1,1,1,1,1.0,7,1,4\\n160.0,53.0,45.0,20,12900,701,15,2,0,1,1,1,1,1,1.0,7,1,5\\n160.0,69.0,50.0,26,19500,430,15,2,0,4,1,0,0,0,2.0,7,1,1\\n160.0,58.0,50.0,22,19500,135,15,2,1,4,1,1,1,1,1.0,7,1,3\\n161.4,50.0,44.0,19,12900,100,15,2,0,2,1,1,1,1,1.0,7,1,5\\n167.0,78.0,74.0,26,49000,604,15,2,0,2,1,1,0,0,1.0,7,1,6\\n165.0,55.0,46.0,20,12900,336,15,2,0,2,1,1,0,0,1.0,7,1,1\\n167.0,76.0,72.0,21,14500,330,15,2,0,2,1,1,0,0,1.0,7,1,4\\n167.0,76.0,72.0,21,39900,330,15,2,0,2,1,1,0,0,1.0,7,1,2\\n161.0,53.0,49.0,20,12900,302,15,2,0,2,1,1,1,1,1.0,7,1,5\\n165.0,55.0,59.0,22,12900,650,15,2,0,1,1,1,1,1,3.0,7,1,5\\n168.0,63.5,55.0,22,19500,630,15,2,0,2,0,1,0,0,1.0,7,1,2\\n160.0,43.0,42.0,16,12900,157,15,2,0,3,1,1,0,0,1.0,7,1,5\\n158.0,46.0,43.0,18,19500,100,15,2,0,3,1,1,0,0,5.0,7,1,3\\n159.0,48.0,45.0,19,19500,151,15,2,0,4,1,1,1,1,5.0,7,1,2\\n161.0,54.0,48.0,22,12900,157,15,2,0,3,0,1,1,0,1.0,7,1,5\\n158.0,53.0,46.0,21,29900,314,15,1,0,2,1,1,0,0,3.0,7,1,1\\n156.5,39.0,35.0,15,12900,690,15,2,0,2,1,1,1,1,1.0,7,1,5\\n158.0,53.0,45.0,21,29900,683,15,2,0,2,1,1,1,1,1.0,7,1,1\\n161.0,56.0,52.0,21,12900,431,15,2,0,3,0,0,1,0,1.0,7,1,5\\n172.0,59.0,52.0,19,19500,700,15,2,0,3,0,1,0,0,1.0,7,1,2\\n160.0,56.0,48.0,21,39000,150,15,2,0,2,1,1,0,0,1.0,7,1,6\\n169.0,50.0,50.0,18,29900,463,15,2,0,3,0,1,1,0,1.0,7,1,1\\n165.8,62.0,50.0,22,19500,472,15,2,0,3,1,1,0,0,1.0,7,1,2\\n155.0,48.0,40.0,19,12900,750,15,2,0,3,1,1,1,1,5.0,7,1,5\\n157.0,58.0,50.0,23,12900,550,15,2,0,2,1,0,0,0,1.0,7,1,5\\n166.0,56.0,52.0,20,29900,330,15,2,0,3,0,1,0,0,1.0,7,1,1\\n162.0,65.0,50.0,24,19500,641,15,2,0,2,1,1,1,1,1.0,7,1,2\\n156.0,72.0,58.0,29,14000,100,15,2,0,2,1,1,0,0,3.0,7,1,4\\n171.0,70.0,68.0,20,15000,431,15,2,0,3,1,1,0,0,1.0,7,1,4\\n171.0,70.0,68.0,20,21000,431,15,2,0,3,1,1,0,0,1.0,7,1,3\\n156.0,72.0,58.0,29,29000,100,15,2,0,2,1,1,0,0,3.0,7,1,6\\n166.0,58.0,53.0,21,29900,131,15,2,0,3,1,1,0,0,2.0,7,1,1\\n160.0,53.5,50.0,21,19500,133,15,2,0,4,0,1,1,0,1.0,7,1,2\\n150.0,52.0,45.0,23,19500,608,15,2,0,3,0,1,0,0,3.0,7,1,2\\n165.0,54.0,48.0,19,19500,138,15,2,0,2,1,1,0,0,1.0,7,1,2\\n164.0,65.0,48.0,23,12900,502,15,2,0,3,1,1,1,1,5.0,7,1,5\\n158.0,52.0,47.0,20,12900,621,15,2,0,3,1,1,1,1,1.0,7,1,1\\n163.0,78.0,82.0,31,14500,704,15,2,0,2,1,1,1,1,3.0,7,1,1\\n168.0,63.0,59.0,21,13000,609,15,2,0,3,1,1,1,1,1.0,7,1,3\\n155.0,48.0,45.0,20,12900,120,15,2,0,1,1,1,1,1,2.0,7,1,5\\n170.0,75.0,65.0,25,12900,503,15,2,0,1,0,1,0,0,3.0,7,1,5\\n150.0,49.0,40.0,21,12900,560,15,2,0,4,1,1,1,1,1.0,7,1,5\\n166.0,54.0,52.0,20,19500,503,15,2,0,3,1,1,0,0,3.0,7,1,3\\n160.0,55.0,48.0,21,12900,100,15,2,0,4,1,1,0,0,2.0,7,1,5\\n160.0,58.0,55.0,22,12900,323,15,2,0,2,1,1,1,1,5.0,7,1,1\\n174.0,72.0,66.0,23,12900,604,15,1,0,2,0,0,1,0,1.0,7,1,5\\n166.6,55.0,51.0,20,12900,120,15,2,0,4,1,1,1,1,1.0,7,1,1\\n166.6,55.0,51.0,20,29000,120,15,2,0,4,1,1,1,1,1.0,7,1,6\\n165.0,52.0,48.0,19,12900,302,15,2,0,2,0,1,0,0,1.0,8,1,1\\n168.0,77.0,74.0,29,19500,122,15,2,0,1,1,1,1,1,3.0,7,1,3\\n170.0,62.0,50.0,21,29900,150,15,2,0,2,1,1,1,1,5.0,7,1,3\\n148.0,44.0,38.0,20,19500,487,15,2,0,1,1,1,1,1,1.0,7,1,1\\n160.0,60.0,56.0,23,19900,621,15,2,0,2,1,1,1,1,1.0,7,1,1\\n157.0,65.0,59.0,26,12900,305,15,2,0,2,0,1,1,0,1.0,7,1,1\\n157.0,65.0,59.0,26,29900,305,15,2,0,2,0,1,1,0,1.0,7,1,3\\n159.0,58.0,54.0,22,19500,560,15,2,0,1,0,1,0,0,1.0,7,1,3\\n167.0,62.0,55.0,22,39000,641,15,2,0,2,0,1,0,0,1.0,7,1,6\\n153.0,51.0,47.0,21,29900,136,15,2,0,2,1,1,0,0,1.0,7,1,1\\n174.0,62.0,66.0,20,12900,611,15,2,0,3,1,0,1,0,1.0,7,1,5\\n158.0,53.0,45.0,21,27000,683,15,2,0,2,1,1,1,1,1.0,7,1,5\\n154.0,56.0,52.0,23,22000,300,15,2,0,3,1,1,1,1,1.0,7,1,1\\n168.0,73.0,69.0,24,19500,760,15,2,0,3,1,1,0,0,1.0,7,1,3\\n160.0,55.0,45.0,21,29900,137,15,2,0,3,1,1,0,0,1.0,7,1,1\\n158.0,52.6,47.0,21,19500,423,15,2,0,4,1,1,0,0,1.0,7,1,1\\n166.0,56.0,47.0,20,19500,157,15,2,0,2,1,1,0,0,1.0,7,1,1\\n158.0,48.0,46.0,18,19500,402,15,2,0,3,0,1,1,0,3.0,7,1,1\\n166.0,70.0,50.0,25,12900,157,15,2,0,4,1,1,1,1,1.0,7,1,5\\n174.0,54.0,54.0,19,12900,676,15,1,0,1,1,1,1,1,5.0,7,1,1\\n163.0,62.0,55.0,23,29900,602,15,2,0,1,1,1,1,1,1.0,7,1,1\\n162.0,52.0,45.0,19,12900,361,15,2,0,2,1,0,1,0,1.0,7,1,5\\n167.0,53.0,50.0,21,19500,611,15,2,0,4,1,1,0,0,1.0,7,1,1\\n161.0,54.0,51.0,20,19500,502,15,2,0,2,1,1,1,1,1.0,7,1,2\\n165.0,56.0,48.0,20,12900,631,15,2,0,1,1,1,1,1,1.0,7,1,5\\n155.0,48.0,40.0,19,29900,614,15,2,0,2,1,1,0,0,2.0,7,1,1\\n171.0,60.0,56.0,21,19500,320,15,2,0,2,1,1,0,0,1.0,7,1,2\\n170.0,62.0,55.0,21,12900,570,15,1,0,2,1,1,1,1,1.0,7,1,1\\n167.0,65.0,54.0,23,89700,611,15,2,0,1,0,1,1,0,1.0,7,3,1\\n167.0,65.0,54.0,23,59800,611,15,2,0,1,0,1,1,0,1.0,7,2,1\\n170.0,62.0,55.0,21,12900,570,15,1,0,2,1,1,1,1,1.0,7,1,1\\n152.0,46.0,42.0,19,29900,760,15,2,0,3,1,0,1,0,1.0,7,1,1\\n158.0,53.0,45.0,21,12900,683,15,2,0,2,1,1,1,1,1.0,7,1,1\\n165.0,58.0,48.0,21,13000,560,15,2,0,4,1,1,0,0,1.0,7,1,4\\n163.0,54.0,49.0,20,22000,431,15,2,0,2,1,0,0,0,1.0,7,1,5\\n157.0,46.0,43.0,18,13000,617,15,2,0,3,1,0,1,0,1.0,7,1,3\\n157.0,46.0,43.0,18,12900,617,15,2,0,3,1,0,1,0,1.0,7,1,5\\n163.0,55.0,47.0,20,29900,143,15,2,0,1,1,1,0,0,1.0,7,1,1\\n161.9,70.0,50.0,26,19500,360,15,2,0,1,1,1,1,1,1.0,7,1,2\\n170.0,59.0,52.0,20,29900,300,15,2,0,2,1,1,0,0,2.0,7,1,1\\n165.0,60.0,50.0,22,12900,305,15,2,0,1,1,1,1,1,1.0,7,1,1\\n158.0,53.0,45.0,21,12900,156,15,2,0,3,1,1,1,1,5.0,7,1,5\\n161.0,50.0,45.0,19,12900,430,15,2,0,1,1,1,1,1,1.0,7,1,5\\n150.7,57.0,56.0,25,29900,110,15,2,0,2,1,1,0,0,2.0,7,1,1\\n166.0,55.0,49.0,19,12900,138,15,2,0,3,1,0,1,0,1.0,7,1,5\\n160.0,65.0,58.0,24,39000,500,15,2,0,2,1,1,0,0,3.0,7,1,6\\n154.0,49.0,45.0,20,12900,136,15,2,0,2,1,0,1,0,1.0,7,1,1\\n164.0,56.0,46.0,20,19500,613,15,2,0,2,1,1,0,0,2.0,7,1,3\\n164.0,56.0,46.0,20,0,613,15,2,0,2,1,1,0,0,2.0,7,0,3\\n162.0,65.0,61.0,25,19500,425,15,2,0,1,1,1,1,1,5.0,7,1,3\\n157.0,65.0,61.0,28,59000,300,15,2,0,4,1,1,1,1,2.0,7,1,2\\n165.0,65.0,55.0,23,49000,682,15,2,0,4,0,1,0,0,2.0,7,1,6\\n161.0,60.0,50.0,23,12900,417,15,2,0,2,1,1,1,1,2.0,7,1,1\\n161.0,55.0,45.0,21,29000,712,15,2,0,4,0,1,0,0,1.0,7,1,6\\n163.0,58.0,50.0,22,13000,435,15,2,0,4,1,1,1,1,3.0,7,1,3\\n162.0,54.0,45.0,20,12900,645,15,2,0,2,1,1,1,1,1.0,7,1,1\\n164.0,55.0,50.0,20,19500,601,15,2,0,2,1,1,1,1,1.0,7,1,2\\n161.0,50.0,45.0,19,19900,407,15,2,0,2,0,1,0,0,1.0,7,1,1\\n169.0,52.0,50.0,18,19900,407,15,2,0,2,1,0,0,0,1.0,7,1,1\\n164.0,62.0,52.0,23,19900,449,15,2,0,2,1,1,1,1,3.0,7,1,1\\n159.0,49.0,43.0,19,19900,139,15,2,0,2,0,0,1,0,1.0,7,1,1\\n174.0,60.0,53.0,19,99000,630,15,2,0,3,0,1,0,0,3.0,7,1,1\\n155.8,52.0,47.0,21,39900,137,15,2,0,3,1,1,0,0,1.0,7,1,1\\n150.0,47.7,46.0,22,29900,742,15,2,0,1,1,1,1,1,2.0,7,1,1\\n174.0,80.0,76.0,27,35000,136,15,2,0,1,1,0,0,0,1.0,7,1,6\\n160.0,55.0,52.0,21,29000,420,15,2,0,1,1,1,0,0,5.0,7,1,6\\n160.0,65.0,50.0,25,12900,151,15,2,0,2,1,0,0,0,1.0,7,1,1\\n160.0,65.0,50.0,25,22000,151,15,2,0,2,1,0,0,0,1.0,7,1,1\\n160.0,65.0,50.0,25,12900,151,15,2,0,2,1,0,0,0,1.0,7,1,1\\n160.0,65.0,50.0,25,22000,151,15,2,0,2,1,0,0,0,1.0,7,1,1\\n169.0,68.0,64.0,23,14500,612,15,2,0,2,1,1,1,1,2.0,7,1,4\\n161.0,60.0,50.0,23,22000,139,15,2,0,2,1,1,1,1,1.0,7,1,1\\n160.0,50.0,45.0,19,14500,463,15,2,0,3,1,1,1,1,1.0,7,1,1\\n165.0,76.0,72.0,27,29000,502,15,2,0,4,0,1,0,0,3.0,7,1,6\\n160.2,52.0,46.0,20,12900,314,15,2,0,2,0,1,1,0,1.0,7,1,5\\n162.0,52.0,47.0,19,29900,617,15,2,0,2,1,1,1,1,2.0,7,1,1\\n161.7,49.0,43.0,18,29900,423,15,2,0,1,1,1,0,0,1.0,7,1,1\\n168.5,59.5,56.0,20,15000,135,15,2,0,3,1,1,1,1,1.0,7,1,4\\n158.0,48.5,43.0,19,29900,406,15,2,0,4,0,1,0,0,5.0,7,1,3\\n158.0,48.5,43.0,19,29900,406,15,2,0,4,0,1,0,0,5.0,7,1,1\\n161.0,59.0,55.0,22,18000,158,15,2,0,3,1,0,1,0,1.0,7,1,3\\n165.0,58.0,50.0,21,12900,301,15,2,0,2,1,0,0,0,1.0,7,1,1\\n165.0,58.0,50.0,21,12900,301,15,2,0,2,1,0,0,0,1.0,7,1,5\\n163.0,58.0,54.0,21,19500,412,15,2,0,2,1,1,1,1,1.0,7,1,2\\n163.0,55.0,45.0,20,12900,612,15,2,0,4,1,0,1,0,1.0,7,1,1\\n166.5,62.0,58.0,22,19500,131,15,2,0,2,1,1,1,1,1.0,7,1,2\\n160.0,58.0,48.0,22,12900,506,15,2,0,2,1,1,1,1,1.0,7,1,5\\n165.0,55.0,59.0,22,12900,650,15,2,0,1,1,1,1,1,3.0,7,1,1\\n160.0,57.5,49.0,22,29900,402,15,2,0,2,1,1,1,1,3.0,7,1,1\\n164.0,61.0,45.0,22,19500,682,15,2,0,2,1,1,0,0,3.0,7,1,2\\n160.0,56.0,48.0,21,19900,139,15,2,0,2,0,1,0,0,1.0,7,1,1\\n168.0,63.0,53.0,22,39900,151,15,2,0,1,1,1,0,0,1.0,8,1,1\\n159.0,55.0,47.0,21,14500,614,15,2,0,2,1,0,1,0,1.0,8,1,1\\n169.0,54.0,48.0,18,19500,459,15,2,0,2,1,1,0,0,1.0,8,1,3\\n171.0,76.0,69.0,25,14900,463,15,1,0,2,1,1,0,0,1.0,8,1,1\\n172.0,88.0,84.0,29,12900,152,15,1,0,2,1,1,1,1,1.0,7,1,1\\n166.0,60.0,53.0,21,12900,500,15,2,0,2,1,1,1,1,3.0,7,1,5\\n160.0,48.0,45.0,18,12900,682,15,2,0,2,0,1,1,0,5.0,7,1,5\\n165.0,55.0,59.0,22,12900,650,15,2,0,1,1,1,1,1,3.0,7,1,5\\n163.0,68.0,48.0,25,12900,306,15,2,0,2,1,1,1,1,1.0,7,1,5\\n170.0,70.0,60.0,24,12900,156,15,1,0,2,1,1,1,1,1.0,7,1,1\\n170.0,45.0,43.0,15,19900,152,15,2,0,2,0,0,1,0,1.0,7,1,1\\n160.0,58.0,50.0,22,29900,463,15,2,0,2,1,1,1,1,1.0,7,1,3\\n152.0,80.0,40.0,34,27000,548,15,2,0,2,1,1,1,1,2.0,7,1,1\\n160.0,58.0,54.0,22,29900,760,15,2,0,2,0,1,0,0,1.0,7,1,1\\n163.0,55.0,50.0,20,14900,609,15,2,0,3,1,0,0,0,1.0,8,1,5\\n163.0,55.0,50.0,20,19900,609,15,2,0,3,1,0,0,0,1.0,8,1,1\\n160.0,50.0,45.0,19,29900,609,15,2,0,1,1,1,1,1,1.0,7,1,7\\n158.0,48.5,43.0,19,29900,406,15,2,0,4,0,1,0,0,5.0,7,1,1\\n165.0,64.0,45.0,23,18000,626,15,2,0,4,1,1,0,0,5.0,7,1,1\\n158.0,54.0,45.0,21,19900,630,15,2,0,2,1,1,1,1,1.0,7,1,1\\n170.0,55.0,49.0,19,29900,120,15,2,0,2,1,1,0,0,3.0,7,1,1\\n164.0,49.0,43.0,18,12900,137,15,2,0,2,1,1,1,1,1.0,7,1,5\\n160.0,55.0,45.0,21,12900,425,15,2,0,2,0,1,0,0,1.0,7,1,5\\n163.0,47.0,55.0,17,85000,616,15,2,1,3,0,0,1,0,3.0,7,1,5\\n168.0,58.0,45.0,20,19500,150,15,2,0,3,1,1,1,1,1.0,7,1,2\\n155.0,55.0,45.0,22,19500,131,15,2,0,1,1,1,1,1,1.0,7,1,2\\n163.0,63.0,55.0,23,39900,220,15,2,0,3,0,1,0,0,1.0,7,1,2\\n153.0,57.0,47.0,24,19500,142,15,2,0,2,1,1,1,1,1.0,7,1,2\\n170.0,65.0,61.0,22,67000,390,15,2,0,1,1,1,0,0,1.0,7,1,2\\n158.0,56.0,50.0,22,19500,360,15,2,0,1,1,1,0,0,1.0,7,1,2\\n170.0,65.0,61.0,22,19500,390,15,2,0,1,1,1,0,0,1.0,7,1,2\\n164.0,64.0,50.0,23,19500,150,15,2,0,1,1,1,1,1,1.0,7,1,2\\n160.0,73.0,49.0,28,39000,431,15,2,0,4,1,1,0,0,1.0,7,1,6\\n158.0,55.0,52.0,22,19500,151,15,2,0,4,1,0,1,0,1.0,7,1,2\\n165.0,60.0,57.0,22,19900,437,15,2,0,2,1,0,1,0,3.0,7,1,5\\n160.0,62.0,47.0,24,29900,360,15,2,0,2,1,1,1,1,2.0,7,1,3\\n160.0,45.0,45.0,17,22000,138,15,2,0,2,1,0,1,0,3.0,7,1,5\\n158.0,55.0,45.0,22,13000,780,15,2,0,1,1,1,1,1,1.0,7,1,3\\n169.0,60.0,48.0,21,19900,137,15,2,0,1,1,1,1,1,1.0,7,1,1\\n163.0,63.0,59.0,24,13000,412,15,2,0,4,1,0,0,0,1.0,7,1,3\\n161.0,61.0,55.0,23,19900,472,15,2,0,4,1,1,1,1,1.0,7,1,1\\n160.0,49.0,45.0,19,19500,133,15,2,0,2,1,1,0,0,1.0,7,1,2\\n170.0,64.0,48.0,22,19900,420,15,2,0,1,1,1,1,1,1.0,7,1,1\\n158.0,62.5,45.0,25,18000,405,15,2,1,2,1,1,0,0,3.0,7,1,1\\n156.0,70.0,66.0,28,39000,339,15,2,0,2,1,1,0,0,2.0,7,1,6\\n170.0,55.0,50.0,19,22000,614,15,1,0,2,0,1,0,0,3.0,7,1,1\\n170.0,55.0,50.0,19,22000,614,15,1,0,2,0,1,0,0,3.0,7,1,1\\n169.0,60.0,48.0,21,19900,137,15,2,0,1,1,1,1,1,1.0,7,1,1\\n171.0,54.0,48.0,18,19900,380,15,2,0,4,1,1,1,1,1.0,7,1,1\\n160.0,55.0,45.0,21,19500,706,15,2,0,3,1,1,0,0,1.0,7,1,2\\n162.0,51.0,45.0,19,15000,301,15,2,0,2,1,1,0,0,2.0,7,1,4\\n163.5,76.0,50.0,28,49000,143,15,2,0,1,1,1,0,0,3.0,7,1,6\\n153.0,47.0,44.0,20,29900,550,15,2,0,2,1,1,0,0,1.0,7,1,1\\n173.0,67.0,57.0,22,12900,137,15,2,0,1,1,1,0,0,1.0,7,1,5\\n167.0,61.0,58.0,22,12900,604,15,2,0,2,1,1,1,1,1.0,8,1,5\\n160.0,66.0,65.0,26,39000,664,15,2,0,2,1,1,1,1,3.0,7,1,6\\n158.0,55.0,47.0,22,29900,614,15,2,0,1,1,1,0,0,1.0,7,1,1\\n158.0,55.0,50.0,22,19900,502,15,2,0,4,0,1,0,0,1.0,7,1,1\\n162.0,54.0,45.0,20,19900,645,15,2,0,2,1,1,1,1,1.0,7,1,1\\n163.4,55.0,49.0,20,19500,437,15,2,0,4,0,1,0,0,1.0,7,1,2\\n162.0,95.0,89.0,36,22000,210,15,2,0,2,1,1,1,1,1.0,7,1,1\\n160.0,48.0,44.0,17,19500,770,15,2,0,3,0,1,0,0,1.0,7,1,2\\n163.2,57.0,55.0,21,22000,402,15,2,0,1,1,1,0,0,1.0,7,1,1\\n173.0,63.0,57.0,21,29900,700,15,2,0,2,1,1,0,0,1.0,7,1,1\\n172.0,63.0,53.0,21,19900,120,15,2,0,2,1,1,1,1,1.0,7,1,5\\n154.0,56.0,52.0,23,12900,300,15,2,0,3,1,1,1,1,1.0,7,1,5\\n165.0,54.5,50.0,19,12900,138,15,2,0,2,1,1,1,1,5.0,7,1,1\\n165.0,55.0,53.0,20,29900,611,15,2,0,3,0,1,0,0,3.0,7,1,1\\n158.0,50.0,49.0,20,11900,535,15,2,0,3,0,1,0,0,1.0,7,1,4\\n165.0,64.0,45.0,23,39900,626,15,2,0,4,1,1,0,0,5.0,7,1,2\\n161.0,60.0,50.0,23,29900,500,15,2,0,4,1,1,0,0,2.0,7,1,1\\n163.0,58.0,45.0,21,12900,570,15,2,0,2,1,1,1,1,2.0,7,1,5\\n160.0,60.0,48.0,23,39900,120,15,2,0,3,1,1,0,0,1.0,7,1,1\\n163.0,60.0,56.0,22,39000,421,15,2,0,3,1,0,1,0,1.0,7,1,6\\n165.0,55.0,59.0,22,12900,650,15,2,0,1,1,1,1,1,3.0,7,1,5\\n166.0,80.0,76.0,25,39900,140,15,2,0,3,1,0,0,0,1.0,7,1,1\\n163.0,56.0,50.0,21,29900,705,15,2,0,3,0,1,0,0,1.0,7,1,1\\n165.0,50.0,45.0,18,29000,130,15,2,0,3,1,1,1,1,1.0,7,1,6\\n165.0,50.0,45.0,18,14500,130,15,2,0,3,1,1,1,1,1.0,7,1,1\\n160.0,53.0,49.0,21,19900,407,15,2,0,4,1,1,0,0,3.0,7,1,1\\n161.0,56.0,52.0,22,12900,760,15,2,0,1,1,1,1,1,1.0,7,1,5\\n156.0,58.0,54.0,25,14500,143,15,2,0,1,1,1,1,1,1.0,7,1,1\\n164.0,50.0,45.0,18,58000,156,15,2,0,4,1,1,1,1,1.0,7,1,1\\n165.0,59.0,55.0,23,15000,305,15,2,0,1,1,1,1,1,1.0,7,1,4\\n168.0,62.0,58.0,25,80000,500,15,2,0,3,1,1,0,0,1.0,7,1,7\\n174.0,95.0,65.0,31,22000,150,15,1,0,2,1,1,1,1,3.0,7,1,5\\n163.0,52.0,47.0,19,27000,151,15,2,0,3,1,1,1,1,1.0,7,1,5\\n163.0,52.0,47.0,19,19900,151,15,2,0,3,1,1,1,1,1.0,7,1,5\\n170.0,75.0,71.0,29,19500,121,15,2,0,3,1,1,0,0,1.0,7,1,2\\n163.0,47.0,55.0,17,85000,616,15,2,1,3,0,0,1,0,3.0,7,1,5\\n158.0,56.0,54.0,23,39000,449,15,2,0,1,1,1,1,1,2.0,7,1,6\\n160.0,45.0,43.0,17,21000,151,15,2,0,2,1,1,0,0,1.0,7,1,3\\n158.0,59.0,57.0,23,39900,441,15,2,0,4,1,1,1,1,1.0,7,1,2\\n156.0,45.0,42.0,18,29900,526,15,2,0,2,1,1,0,0,1.0,7,1,1\\n155.0,54.0,50.0,22,19500,604,15,2,0,4,1,1,0,0,1.0,7,1,2\\n166.0,59.0,52.0,23,39000,139,15,2,0,2,1,1,0,0,5.0,7,1,6\\n160.0,57.5,56.0,23,29900,157,15,2,0,2,0,1,0,0,1.0,7,1,3\\n163.0,52.0,47.0,19,19500,151,15,2,0,3,1,1,1,1,1.0,7,1,2\\n164.0,56.0,52.0,18,27000,472,15,2,0,2,1,1,0,0,2.0,7,1,1\\n153.0,51.0,47.0,21,29900,136,15,2,0,2,1,1,0,0,1.0,7,1,1\\n167.0,50.0,47.0,17,19500,411,15,2,0,2,0,1,0,0,1.0,8,1,3\\n164.0,60.0,54.0,22,29000,138,15,2,0,3,1,1,0,0,1.0,7,1,6\\n163.0,55.0,51.0,20,19500,435,15,2,0,2,1,1,1,1,1.0,7,1,2\\n153.0,47.0,42.0,20,19500,760,15,2,0,2,1,1,0,0,1.0,7,1,2\\n165.0,58.0,50.0,21,19500,210,15,2,0,2,1,1,0,0,2.0,7,1,2\\n163.2,57.0,55.0,21,22000,402,15,2,0,1,1,1,0,0,1.0,7,1,1\\n162.0,62.0,56.0,23,19900,681,15,2,0,2,1,1,1,1,1.0,7,1,1\\n160.0,49.0,45.0,19,15000,706,15,2,0,2,1,1,0,0,1.0,7,1,4\\n172.0,93.0,70.0,31,19900,122,15,1,0,4,1,1,1,1,1.0,7,1,5\\n177.0,63.0,55.0,20,19500,152,15,2,0,2,1,1,0,0,3.0,7,1,2\\n163.0,58.0,55.0,24,15000,561,15,2,0,2,1,1,1,1,3.0,7,1,4\\n162.0,47.0,43.0,17,29900,420,15,2,0,2,0,1,0,0,1.0,7,1,3\\n162.0,47.0,43.0,17,29900,420,15,2,0,2,0,1,0,0,1.0,7,1,3\\n162.0,49.0,45.0,18,29900,120,15,2,0,2,1,1,1,1,1.0,7,1,3\\n158.0,48.0,47.0,20,19500,449,15,2,0,3,1,1,1,1,3.0,7,1,2\\n165.0,50.0,48.0,19,19500,561,15,2,0,3,1,1,0,0,3.0,7,1,2\\n163.0,78.0,55.0,29,19500,143,15,2,0,2,1,1,1,1,1.0,7,1,2\\n160.0,54.0,45.0,21,19500,130,15,2,0,3,1,1,0,0,3.0,7,1,2\\n164.0,49.0,44.0,18,19500,138,15,2,0,3,0,1,0,0,1.0,7,1,2\\n158.0,50.0,45.0,20,19500,425,15,2,0,3,1,1,0,0,1.0,7,1,2\\n161.0,51.0,45.0,19,19900,136,15,2,0,4,1,1,0,0,2.0,7,1,1\\n158.0,52.0,46.0,20,12900,500,15,2,0,2,1,1,1,1,1.0,7,1,1\\n160.0,60.0,49.0,23,39900,429,15,2,0,2,1,1,1,1,2.0,7,1,1\\n163.0,47.0,55.0,17,85000,616,15,2,1,3,0,0,1,0,3.0,7,1,5\\n164.0,56.0,48.0,20,19900,138,15,2,0,3,1,1,1,1,1.0,7,1,5\\n169.0,59.0,55.0,20,22000,136,15,2,0,2,1,1,1,1,1.0,7,1,1\\n169.0,59.0,55.0,20,27000,136,15,2,0,2,1,1,1,1,1.0,7,1,1\\n158.0,53.0,50.0,21,22000,402,15,2,0,2,1,1,1,1,1.0,6,1,5\\n160.0,47.5,44.0,18,29900,137,15,2,0,2,1,0,0,0,1.0,6,1,3\\n165.0,55.0,51.0,19,19900,135,15,2,0,3,1,1,1,1,1.0,6,1,1\\n164.0,60.0,45.0,22,50000,0,15,2,0,1,0,1,1,0,4.0,6,1,6\\n157.0,54.0,50.0,21,24900,670,15,2,0,2,1,1,0,0,1.0,6,1,5\\n160.0,60.0,49.0,23,19500,429,15,2,0,2,1,1,1,1,2.0,8,1,3\\n163.0,61.0,57.0,22,14500,402,15,2,0,2,1,1,1,1,3.0,8,1,1\\n163.0,61.0,57.0,22,12900,402,15,2,0,2,1,1,1,1,3.0,8,1,1\\n163.0,61.0,57.0,22,20000,402,15,2,0,2,1,1,1,1,3.0,8,1,7\\n163.0,61.0,57.0,22,20000,402,15,2,0,2,1,1,1,1,3.0,8,1,7\\n163.0,58.0,53.0,22,23900,500,15,2,0,3,1,1,1,1,1.0,5,1,1\\n170.0,66.0,65.0,22,22000,656,15,1,0,1,0,0,1,0,1.0,5,1,5\\n164.0,58.0,48.0,21,22000,131,15,2,0,1,0,1,0,0,1.0,5,1,5\\n164.0,60.0,56.0,22,19500,690,15,2,0,2,0,1,0,0,1.0,7,1,2\\n162.0,55.0,50.0,20,19500,220,15,2,0,2,1,1,0,0,1.0,7,1,2\\n167.7,53.7,50.0,19,19500,423,15,2,0,2,1,1,0,0,1.0,7,1,2\\n160.0,47.0,45.0,18,19900,561,15,2,0,2,0,1,1,0,1.0,7,1,1\\n160.0,47.0,45.0,18,19900,561,15,2,0,2,0,1,1,0,1.0,7,1,5\\n164.0,58.0,48.0,21,22000,131,15,2,0,1,0,1,0,0,1.0,5,1,5\\n165.0,50.0,45.0,18,19500,130,15,2,0,3,1,1,1,1,1.0,7,1,2\\n165.0,52.0,47.0,19,78000,139,15,2,0,3,0,1,0,0,1.0,7,1,6\\n172.0,63.0,60.0,21,19500,139,15,2,0,2,1,1,0,0,2.0,7,1,2\\n164.0,58.0,48.0,21,65000,131,15,2,0,1,0,1,0,0,1.0,5,1,6\\n160.0,52.0,48.0,20,27000,156,15,2,0,1,1,1,1,1,1.0,5,1,5\\n160.0,52.0,48.0,20,24900,156,15,2,0,1,1,1,1,1,1.0,5,1,5\\n160.0,51.0,49.0,19,22000,135,15,2,0,1,1,1,1,1,1.0,5,1,1\\n147.5,56.0,40.0,25,20900,566,15,2,0,3,1,1,1,1,1.0,6,1,6\\n158.0,63.0,59.0,24,24900,704,15,2,0,2,1,1,1,1,1.0,7,1,1\\n167.0,67.0,63.0,21,49000,791,15,2,0,1,1,0,0,0,1.0,7,1,6\\n161.6,47.0,47.0,17,30000,411,15,2,0,2,1,1,0,0,1.0,7,1,6\\n163.0,58.0,54.0,21,19500,412,15,2,0,2,1,1,1,1,1.0,7,1,2\\n160.0,70.0,63.0,26,27000,380,15,2,0,2,1,1,0,0,3.0,7,1,1\\n164.0,52.0,48.0,18,22000,122,15,2,0,2,1,1,1,1,1.0,7,1,1\\n164.0,80.0,50.0,29,39900,120,15,2,0,2,1,1,1,1,3.0,7,1,2\\n165.0,59.0,49.0,21,12900,462,15,2,0,4,1,1,1,1,1.0,7,1,5\\n168.0,54.0,48.0,19,19500,612,15,2,0,2,0,1,0,0,1.0,8,1,3\\n160.0,54.0,42.0,21,18000,330,15,2,0,2,1,1,1,1,1.0,5,1,5\\n173.0,59.0,50.0,19,44000,607,15,2,0,1,0,1,0,0,1.0,5,2,1\\n162.0,68.0,60.0,25,58000,133,15,2,0,4,1,1,1,1,3.0,5,1,5\\n164.0,58.0,45.0,21,23900,151,15,2,0,3,0,0,1,0,1.0,5,1,1\\n158.0,55.0,45.0,22,22000,138,15,2,0,1,1,0,1,0,1.0,5,1,5\\n160.0,51.5,47.0,20,0,138,15,2,0,1,1,1,0,0,3.0,5,0,6\\n163.0,65.0,55.0,24,24900,245,15,2,1,1,1,0,0,0,3.0,5,1,1\\n163.0,65.0,55.0,24,18000,245,15,2,1,1,1,0,0,0,3.0,5,1,1\\n163.0,65.0,55.0,24,15000,245,15,2,1,1,1,0,0,0,3.0,5,1,4\\n163.0,63.0,59.0,21,22000,130,15,2,0,2,1,0,0,0,1.0,5,1,5\\n168.0,54.0,52.0,19,14500,135,15,2,0,1,1,1,1,1,1.0,5,1,1\\n169.0,60.0,50.0,21,22000,13,15,2,0,3,0,1,1,0,1.0,5,1,5\\n160.0,54.0,42.0,21,18000,330,15,2,0,2,1,1,1,1,1.0,5,1,5\\n160.0,54.0,42.0,21,18000,330,15,2,0,2,1,1,1,1,1.0,5,1,5\\n160.0,46.0,43.0,17,22000,560,15,2,0,3,1,1,0,0,1.0,5,1,5\\n164.0,63.0,59.0,26,22000,121,15,2,0,1,0,1,0,0,4.0,5,1,5\\n171.0,64.0,60.0,21,22000,480,15,2,0,4,1,1,0,0,3.0,5,1,5\\n164.0,54.0,48.0,20,22000,361,15,2,0,4,1,1,1,1,3.0,5,1,5\\n160.0,53.0,48.0,19,22000,134,15,2,0,3,1,1,1,1,1.0,5,1,5\\n166.0,60.5,50.0,21,22000,463,15,2,0,2,0,1,1,0,1.0,5,1,5\\n168.0,65.0,55.0,23,18000,138,15,2,0,4,1,0,1,0,1.0,5,1,5\\n168.0,65.0,55.0,23,27000,138,15,2,0,4,1,0,1,0,1.0,5,1,5\\n168.0,52.0,47.0,18,22000,336,15,2,0,1,1,1,1,1,1.0,5,1,5\\n162.0,57.0,43.0,21,22000,139,15,2,0,4,1,1,1,1,4.0,5,1,5\\n160.0,70.0,50.0,27,22000,402,15,2,0,1,1,1,1,1,1.0,5,1,5\\n165.0,66.0,55.0,24,24900,131,15,2,0,4,1,1,1,1,1.0,5,1,5\\n164.0,58.0,45.0,21,22000,151,15,2,0,3,0,0,1,0,1.0,5,1,5\\n162.0,53.0,45.0,20,18000,131,15,2,0,4,1,1,1,1,3.0,5,1,5\\n163.0,63.0,54.0,23,22000,121,15,2,0,1,1,1,1,1,1.0,5,1,5\\n160.0,55.0,51.0,19,22000,142,15,2,0,4,1,1,1,1,1.0,5,1,5\\n162.0,68.0,60.0,25,27000,133,15,2,0,4,1,1,1,1,3.0,5,1,5\\n162.0,56.0,50.0,21,49000,135,15,2,0,2,1,1,0,0,1.0,7,1,6\\n167.0,83.0,79.0,29,19900,122,15,2,0,2,1,1,0,0,2.0,7,1,1\\n165.0,66.0,45.0,24,39000,500,15,2,0,2,1,1,1,1,4.0,5,1,3\\n160.0,60.0,50.0,22,35000,150,15,2,0,3,1,1,0,0,5.0,5,1,6\\n147.0,52.3,43.0,24,22000,142,15,2,0,1,1,1,0,0,1.0,5,1,5\\n168.0,79.0,60.0,27,15000,301,15,2,0,1,1,1,1,1,1.0,5,1,4\\n160.0,51.5,47.0,20,30000,138,15,2,0,1,1,1,0,0,3.0,5,1,6\\n160.0,52.0,43.0,20,24900,135,15,2,0,4,1,1,0,0,1.0,5,1,1\\n160.0,63.0,50.0,24,15000,340,15,2,0,2,1,1,1,1,1.0,5,1,4\\n155.0,48.0,43.0,19,22000,579,15,2,0,4,1,1,1,1,1.0,5,1,5\\n166.0,67.0,55.0,24,22000,616,15,2,0,4,1,1,0,0,1.0,5,1,5\\n160.0,49.0,45.0,19,22000,138,15,2,0,3,0,1,0,0,1.0,5,1,5\\n153.5,58.0,50.0,24,18000,300,15,2,0,4,0,1,0,0,1.0,5,1,1\\n160.0,66.0,52.0,25,22000,400,15,2,0,1,1,1,0,0,1.0,5,1,5\\n162.0,63.0,59.0,24,23900,449,15,2,0,4,0,0,1,0,1.0,5,1,1\\n164.0,57.5,52.0,20,35000,130,15,2,0,4,1,1,1,1,1.0,5,1,3\\n165.0,61.0,57.0,22,23900,135,15,2,0,2,1,1,1,1,4.0,5,1,1\\n163.0,85.0,50.0,31,15000,626,15,2,0,4,1,1,1,1,1.0,5,1,4\\n163.0,85.0,50.0,31,22000,626,15,2,0,4,1,1,1,1,1.0,5,1,5\\n158.0,45.0,45.0,18,29000,301,15,2,0,3,1,1,1,1,2.0,5,2,1\\n158.0,45.0,45.0,18,29000,301,15,2,0,3,1,1,1,1,2.0,5,2,1\\n160.0,53.0,48.0,20,44000,502,15,2,0,1,1,1,0,0,3.0,5,2,5\\n160.0,53.0,49.0,20,22000,130,15,2,0,4,1,1,1,1,1.0,5,1,1\\n168.0,79.0,60.0,27,15000,301,15,2,0,1,1,1,1,1,1.0,5,1,4\\n172.0,54.0,51.0,18,22000,560,15,2,0,2,0,1,0,0,5.0,5,1,1\\n163.0,57.0,53.0,21,15000,621,15,2,0,4,1,1,0,0,1.0,5,1,4\\n159.0,54.0,45.0,21,27000,501,15,2,0,3,1,1,0,0,1.0,5,1,5\\n162.0,64.0,60.0,24,15000,703,15,2,0,1,1,1,0,0,1.0,5,1,4\\n151.0,53.0,47.0,23,29900,122,15,2,0,3,1,1,1,1,1.0,6,1,1\\n167.0,50.0,45.0,17,29900,706,15,2,0,3,1,1,0,0,1.0,6,1,1\\n163.0,53.0,50.0,16,22000,306,15,2,0,2,1,1,0,0,1.0,6,1,5\\n162.0,54.0,49.0,20,48400,122,15,2,0,3,1,1,0,0,1.0,6,1,1\\n163.0,55.0,48.0,20,29900,702,15,2,0,3,1,1,0,0,1.0,6,1,1\\n164.0,60.0,45.0,22,13000,0,15,2,0,1,0,1,1,0,4.0,6,1,3\\n164.0,60.0,45.0,22,29900,0,15,2,0,1,0,1,1,0,4.0,6,1,3\\n164.0,60.0,45.0,22,24900,0,15,2,0,1,0,1,1,0,4.0,6,1,1\\n164.0,60.0,45.0,22,49000,0,15,2,0,1,0,1,1,0,4.0,6,1,6\\n150.0,48.0,40.0,21,29900,472,15,2,0,1,1,1,0,0,3.0,6,1,3\\n164.0,61.0,59.0,19,20900,611,15,2,0,2,1,1,1,1,1.0,6,1,6\\n161.0,51.0,47.0,19,29900,616,15,2,0,1,1,1,0,0,1.0,6,1,3\\n164.0,61.5,54.0,24,24900,712,15,2,0,3,1,1,1,1,1.0,6,1,5\\n168.0,65.0,48.0,23,24900,437,15,2,0,4,1,1,1,1,1.0,6,1,5\\n160.0,64.0,57.0,23,15000,682,15,2,0,1,1,0,0,0,1.0,6,1,4\\n159.0,57.0,53.0,24,22000,705,15,2,0,4,1,1,1,1,2.0,6,1,1\\n158.0,53.0,50.0,21,27000,402,15,2,0,2,1,1,1,1,1.0,6,1,5\\n158.0,53.0,50.0,21,15000,402,15,2,0,2,1,1,1,1,1.0,6,1,4\\n158.0,53.0,50.0,21,14500,402,15,2,0,2,1,1,1,1,1.0,6,1,4\\n186.0,76.0,80.0,21,24900,361,15,1,0,2,0,0,1,0,1.0,6,1,5\\n163.0,55.0,45.0,20,58000,210,15,2,0,1,1,1,1,1,2.0,6,1,5\\n160.0,58.0,54.0,23,20900,152,15,2,0,3,1,1,1,1,1.0,6,1,6\\n160.0,58.0,54.0,23,20900,152,15,2,0,3,1,1,1,1,1.0,6,1,6\\n166.0,64.0,60.0,23,29900,302,15,2,0,4,1,1,1,1,1.0,6,1,1\\n165.0,68.0,64.0,24,27000,330,15,2,0,1,1,1,1,1,1.0,6,1,1\\n164.0,51.0,47.0,18,29900,140,15,2,0,2,0,1,0,0,1.0,6,1,3\\n165.0,66.0,52.0,23,29900,612,15,2,0,2,1,1,1,1,1.0,6,1,1\\n171.0,47.0,44.0,15,29900,157,15,2,0,2,1,1,0,0,1.0,6,1,3\\n160.0,49.0,47.0,22,39900,120,15,2,0,3,0,1,0,0,1.0,6,1,2\\n159.0,56.0,53.0,21,20900,210,15,2,0,3,1,1,0,0,1.0,6,1,6\\n153.0,44.0,42.0,19,29900,325,15,2,0,4,0,1,1,0,1.0,6,1,3\\n153.0,44.0,42.0,19,24900,325,15,2,0,4,0,1,1,0,1.0,6,1,1\\n155.0,42.0,38.0,17,29900,314,15,2,0,3,1,1,1,1,1.0,6,1,1\\n150.0,55.0,40.0,24,22000,430,15,2,0,4,1,1,1,1,2.0,6,1,1\\n162.0,49.0,45.0,18,29900,442,15,2,0,3,1,1,1,1,1.0,6,1,1\\n160.0,48.0,42.0,18,29900,369,15,2,0,2,1,1,0,0,2.0,6,1,1\\n160.0,58.0,47.0,22,24900,312,15,2,0,4,1,1,1,1,1.0,6,1,1\\n173.0,68.0,64.0,22,29900,200,15,2,0,3,0,1,0,0,1.0,6,1,1\\n161.0,57.0,53.0,21,20900,130,15,2,0,3,1,0,0,0,1.0,6,1,6\\n160.0,48.0,45.0,18,24900,690,15,2,0,3,1,0,1,0,1.0,6,1,1\\n163.0,54.0,48.0,20,20900,613,15,2,0,1,1,1,1,1,1.0,6,1,6\\n155.0,54.0,45.0,22,29900,530,15,2,0,1,1,1,1,1,1.0,6,1,3\\n164.0,54.0,48.0,20,24900,607,15,2,0,2,1,1,1,1,1.0,6,1,5\\n164.0,63.0,59.0,21,24900,791,15,2,0,4,1,1,1,1,1.0,6,1,1\\n160.0,54.0,52.0,21,24900,136,15,2,0,1,1,1,1,1,1.0,6,1,5\\n156.0,48.0,40.0,19,23900,131,15,2,0,2,0,0,1,0,1.0,6,1,1\\n162.0,56.0,52.0,21,20900,604,15,2,0,3,1,1,0,0,2.0,6,1,6\\n166.0,55.0,48.0,19,20900,151,15,2,0,3,0,1,0,0,3.0,6,1,6\\n162.7,68.5,66.0,26,15000,463,15,2,0,1,0,1,0,0,1.0,6,1,4\\n157.0,51.0,50.0,20,27000,630,15,2,0,1,1,1,1,1,3.0,6,1,1\\n186.0,76.0,80.0,21,24900,361,15,1,0,2,0,0,1,0,1.0,6,1,5\\n159.0,58.0,54.0,22,20900,560,15,2,0,1,0,1,0,0,1.0,6,1,6\\n168.0,52.0,46.0,18,29900,764,15,2,0,1,1,1,0,0,1.0,6,1,1\\n168.0,52.0,46.0,18,29900,764,15,2,0,1,1,1,0,0,1.0,6,1,1\\n157.0,51.0,50.0,20,27000,630,15,2,0,1,1,1,1,1,3.0,6,1,1\\n161.0,68.0,50.0,26,29900,139,15,2,0,2,1,1,1,1,5.0,6,1,3\\n160.0,59.0,48.0,23,20900,373,15,2,0,4,1,1,1,1,1.0,6,1,6\\n155.0,54.0,45.0,22,24900,136,15,2,0,1,1,1,0,0,3.0,6,1,5\\n155.0,54.0,45.0,22,13000,136,15,2,0,1,1,1,0,0,3.0,6,1,3\\n163.0,55.0,45.0,20,39900,269,15,2,0,4,1,1,0,0,1.0,6,1,2\\n163.0,62.0,50.0,23,20900,135,15,2,0,2,1,1,1,1,1.0,6,1,6\\n163.0,55.0,45.0,20,39900,269,15,2,0,4,1,1,0,0,1.0,6,1,2\\n165.0,55.0,45.0,20,18000,139,15,2,0,2,1,1,1,1,1.0,6,1,5\\n172.0,71.0,65.0,23,24900,157,15,2,0,2,1,1,1,1,2.0,6,1,1\\n158.8,49.0,46.0,20,20900,301,15,2,0,3,1,1,0,0,1.0,6,1,6\\n165.0,58.0,55.0,21,29900,305,15,2,0,3,1,1,0,0,1.0,6,1,3\\n184.0,78.0,75.0,23,22000,302,15,1,0,2,1,0,0,0,3.0,6,1,1\\n156.0,50.0,46.0,22,14000,449,15,2,0,4,1,1,0,0,5.0,6,1,4\\n156.0,50.0,46.0,22,14000,449,15,2,0,4,1,1,0,0,5.0,6,1,4\\n153.0,53.0,50.0,21,20900,121,15,2,0,3,1,0,1,0,1.0,6,1,6\\n162.0,68.0,60.0,25,27000,133,15,2,0,4,1,1,1,1,3.0,6,1,5\\n162.0,68.0,60.0,25,58000,133,15,2,0,4,1,1,1,1,3.0,6,1,5\\n160.0,55.0,51.0,22,24900,471,15,2,0,4,1,1,0,0,1.0,6,1,5\\n169.0,68.0,58.0,23,39000,302,15,2,0,1,1,1,1,1,2.0,6,1,2\\n154.0,50.0,46.0,20,29900,476,15,2,0,2,0,1,0,0,1.0,7,1,1\\n165.0,58.0,54.0,21,20900,133,15,2,0,1,1,1,0,0,1.0,6,1,6\\n160.0,55.0,48.0,21,24900,360,15,2,0,3,1,0,1,0,3.0,6,1,5\\n161.0,51.0,45.0,19,22000,561,15,2,0,2,0,0,1,0,1.0,6,1,5\\n161.0,51.0,47.0,19,20900,616,15,2,0,1,1,1,0,0,1.0,6,1,6\\n154.0,48.0,40.0,20,20900,150,15,2,0,3,1,1,0,0,1.0,6,1,6\\n156.0,55.4,52.0,22,35000,140,15,2,0,4,1,1,1,1,1.0,6,1,6\\n176.0,61.0,57.0,19,14500,153,15,1,0,2,0,1,1,0,1.0,6,1,1\\n157.0,56.0,48.0,21,29900,604,15,2,0,4,1,1,0,0,5.0,6,1,1\\n153.0,60.0,57.0,24,20900,134,15,2,0,3,1,1,0,0,1.0,6,1,6\\n166.0,56.0,50.0,19,15000,425,15,2,0,1,1,1,1,1,1.0,6,1,4\\n159.0,43.0,48.0,22,22000,135,15,2,0,1,1,1,1,1,5.0,6,1,1\\n161.0,58.0,54.0,22,20900,502,15,2,0,1,1,1,0,0,1.0,6,1,6\\n159.0,49.0,45.0,18,35000,462,15,2,0,4,1,1,1,1,1.0,6,1,6\\n160.0,65.0,58.0,24,20900,500,15,2,0,2,1,1,0,0,3.0,6,1,6\\n157.0,74.0,55.0,30,29900,703,15,2,0,3,1,1,0,0,1.0,6,1,1\\n161.0,53.0,48.0,20,29900,608,15,2,0,3,1,1,0,0,1.0,6,1,3\\n170.0,72.0,60.0,24,24900,690,15,1,0,1,1,1,1,1,5.0,6,1,1\\n154.0,47.0,45.0,19,24900,641,15,2,0,2,0,1,1,0,1.0,6,1,5\\n154.0,47.0,45.0,19,24900,641,15,2,0,2,0,1,1,0,1.0,6,1,5\\n165.0,55.0,49.0,20,20900,429,15,2,0,3,1,1,0,0,5.0,6,1,6\\n162.0,43.0,43.0,16,22000,614,15,2,0,2,0,1,1,0,1.0,6,1,1\\n158.0,55.0,51.0,21,29900,608,15,2,0,4,1,1,1,1,1.0,6,1,1\\n155.0,65.0,48.0,24,20900,422,15,2,0,3,1,1,0,0,1.0,6,1,6\\n150.0,54.0,40.0,24,29900,506,15,2,0,2,0,1,0,0,1.0,6,1,1\\n159.0,50.0,47.0,20,24900,462,15,2,0,4,0,1,1,0,2.0,6,1,5\\n158.0,47.0,40.0,18,20900,137,15,2,0,3,1,1,0,0,5.0,6,1,6\\n160.0,51.5,47.0,20,0,138,15,2,0,1,1,1,0,0,3.0,6,0,6\\n160.0,51.5,47.0,20,30000,138,15,2,0,1,1,1,0,0,3.0,6,1,6\\n174.0,56.0,51.5,19,29900,427,15,2,0,1,1,1,0,0,2.0,6,1,3\\n159.0,57.0,47.0,22,24900,472,15,2,0,2,0,0,1,0,1.0,6,1,5\\n163.0,63.0,59.0,23,15000,302,15,2,0,1,1,1,0,0,1.0,6,1,4\\n167.0,47.0,43.0,16,22000,138,15,1,0,2,1,0,1,0,2.0,6,1,5\\n160.0,65.0,50.0,25,20900,136,15,2,0,1,0,1,0,0,1.0,6,1,6\\n168.0,57.0,54.0,20,29900,435,15,2,0,2,1,1,1,1,1.0,6,1,1\\n160.0,58.0,54.0,25,29900,143,15,2,0,3,1,1,1,1,2.0,6,1,1\\n166.0,58.0,50.0,21,20900,441,15,2,0,3,1,1,0,0,1.0,6,1,6\\n160.0,58.0,51.0,22,18000,130,15,2,0,1,1,1,1,1,1.0,6,1,3\\n167.0,58.0,48.0,20,0,627,15,2,0,1,1,1,1,1,1.0,6,0,1\\n167.0,58.0,48.0,20,14500,627,15,2,0,1,1,1,1,1,1.0,6,1,1\\n157.0,43.0,40.0,17,22000,134,15,2,0,3,0,1,1,0,1.0,6,1,1\\n155.0,47.0,43.0,19,29900,750,15,2,0,2,1,1,1,1,2.0,6,1,3\\n168.0,65.0,48.0,23,24900,437,15,2,0,4,1,1,1,1,1.0,6,1,1\\n169.0,60.0,48.0,21,44000,137,15,2,0,1,1,1,1,1,1.0,6,2,5\\n161.0,58.0,54.0,22,20900,502,15,2,0,1,1,1,0,0,1.0,6,1,6\\n162.0,81.0,48.0,30,22000,300,15,2,0,2,0,0,1,0,4.0,6,1,5\\n168.0,60.0,48.0,21,24900,502,15,2,0,4,1,1,1,1,2.0,6,1,1\\n162.0,65.0,61.0,24,35000,158,15,2,0,1,1,1,0,0,1.0,6,1,6\\n164.0,51.0,47.0,18,29900,140,15,2,0,2,0,1,0,0,1.0,6,1,1\\n165.0,59.0,55.0,21,20900,702,15,2,0,2,1,1,0,0,1.0,6,1,6\\n166.0,54.0,50.0,19,24900,136,15,2,0,3,1,1,1,1,1.0,6,1,1\\n167.0,62.0,54.0,22,20900,612,15,2,0,2,1,1,0,0,1.0,6,1,6\\n160.0,53.0,49.0,20,21000,682,15,2,0,2,1,1,1,1,1.0,6,1,1\\n180.0,80.0,73.0,24,18000,555,15,1,0,2,1,1,0,0,3.0,6,1,1\\n160.0,52.0,48.0,20,22000,139,15,2,0,2,0,1,1,0,1.0,6,1,1\\n160.0,48.0,45.0,18,22000,131,15,2,0,2,0,1,1,0,1.0,6,1,5\\n160.0,50.0,47.0,20,29900,570,15,2,0,3,0,1,0,0,1.0,6,1,1\\n168.0,58.0,49.0,20,29900,711,15,2,0,2,1,1,1,1,2.0,6,1,3\\n166.0,45.0,42.0,16,49000,302,15,2,0,3,1,1,0,0,1.0,6,1,6\\n160.0,47.5,44.0,18,22000,137,15,2,0,2,1,0,0,0,1.0,6,1,1\\n160.0,48.0,45.0,18,22000,131,15,2,0,2,0,1,1,0,1.0,6,1,1\\n163.0,48.0,50.0,18,21000,561,15,2,0,2,1,0,1,0,1.0,6,1,1\\n160.0,56.0,54.0,21,29900,504,15,2,1,1,0,1,0,0,5.0,6,1,1\\n168.0,45.0,44.0,17,24900,561,15,2,0,2,0,1,1,0,1.0,6,1,1\\n163.0,54.0,48.0,20,29900,613,15,2,0,1,1,1,1,1,1.0,6,1,3\\n160.0,58.0,54.0,22,29900,760,15,2,0,2,0,1,0,0,1.0,6,1,1\\n175.0,74.0,58.0,24,20900,134,15,2,0,2,1,1,0,0,5.0,6,1,6\\n163.0,54.0,48.0,20,58000,134,15,2,0,2,1,1,0,0,1.0,6,1,5\\n167.0,54.0,50.0,19,29900,430,15,2,0,2,1,1,1,1,2.0,6,1,1\\n162.0,51.0,45.0,19,24900,403,15,2,0,2,1,0,1,0,1.0,6,1,5\\n162.0,51.0,45.0,19,24900,403,15,2,0,2,1,0,1,0,1.0,6,1,1\\n157.0,40.0,36.0,16,18000,137,15,2,0,1,1,1,1,1,1.0,6,1,5\\n160.0,52.0,48.0,20,27000,703,15,2,0,2,1,1,0,0,1.0,6,1,1\\n160.0,52.0,48.0,20,18000,703,15,2,0,2,1,1,0,0,1.0,6,1,3\\n160.0,52.0,48.0,20,29900,703,15,2,0,2,1,1,0,0,1.0,6,1,1\\n158.0,49.0,45.0,19,24900,138,15,2,0,4,1,1,1,1,1.0,6,1,5\\n176.0,70.0,60.0,22,35000,131,15,2,0,2,1,1,0,0,2.0,6,1,6\\n154.0,49.0,38.0,20,22000,567,15,2,0,4,0,0,1,0,1.0,6,1,1\\n173.0,69.0,58.0,23,14500,682,15,2,0,2,1,1,1,1,1.0,6,1,4\\n164.0,47.0,42.0,17,24900,139,15,2,0,2,0,0,1,0,1.0,6,1,5\\n158.0,47.0,42.0,18,20900,790,15,2,0,1,0,1,0,0,2.0,6,1,6\\n160.0,55.0,45.0,21,27000,617,15,2,0,2,1,1,1,1,1.0,6,1,5\\n168.0,63.0,59.0,22,59000,137,15,2,0,1,1,1,0,0,1.0,6,1,2\\n157.0,54.0,48.0,21,24900,676,15,2,0,2,1,1,1,1,1.0,6,1,1\\n170.0,64.0,55.0,19,24900,440,15,2,0,2,1,1,1,1,1.0,6,1,1\\n162.0,56.0,52.0,21,20900,604,15,2,0,3,1,1,0,0,2.0,6,1,6\\n164.0,61.5,47.0,22,24900,132,15,2,0,2,0,1,0,0,1.0,6,1,1\\n162.0,55.0,50.0,20,29900,220,15,2,0,2,1,1,0,0,1.0,6,1,3\\n147.5,56.0,40.0,25,24900,566,15,2,0,3,1,1,1,1,1.0,6,1,1\\n147.5,56.0,40.0,25,59800,566,15,2,0,3,1,1,1,1,1.0,6,2,1\\n147.5,56.0,40.0,25,54000,566,15,2,0,3,1,1,1,1,1.0,6,2,1\\n168.0,69.0,65.0,24,29900,425,15,2,0,2,1,1,0,0,3.0,6,1,1\\n165.0,52.0,48.0,19,20900,463,15,2,0,3,0,1,1,0,1.0,6,1,6\\n165.0,52.0,48.0,19,35000,463,15,2,0,3,0,1,1,0,1.0,6,1,3\\n165.0,52.0,48.0,19,0,463,15,2,0,3,0,1,1,0,1.0,6,0,5\\n165.0,52.0,48.0,19,0,463,15,2,0,3,0,1,1,0,1.0,6,0,5\\n166.0,54.0,49.0,19,22000,157,15,2,0,2,1,1,1,1,3.0,6,1,5\\n170.0,55.0,47.0,19,18000,138,15,2,0,2,1,1,0,0,1.0,6,1,1\\n163.0,55.0,45.0,20,29900,550,15,2,0,2,1,1,0,0,5.0,6,1,1\\n150.0,46.0,43.0,20,20900,300,15,2,0,4,0,1,0,0,1.0,6,1,6\\n160.0,50.0,45.0,19,11000,680,15,2,0,3,1,1,1,1,3.0,6,1,4\\n160.0,50.0,45.0,19,14000,680,15,2,0,3,1,1,1,1,3.0,6,1,4\\n160.0,50.0,45.0,19,14000,680,15,2,0,3,1,1,1,1,3.0,6,1,4\\n160.0,63.0,59.0,23,15000,135,15,2,0,2,1,1,0,0,3.0,6,1,4\\n177.0,59.0,55.0,18,29900,630,15,2,0,2,1,1,0,0,1.0,6,1,1\\n158.0,51.0,45.0,20,24900,150,15,2,0,1,1,1,0,0,2.0,6,1,1\\n159.0,53.0,49.0,19,13000,626,15,2,0,3,1,1,1,1,1.0,6,1,3\\n162.0,57.0,50.0,21,29900,656,15,2,0,1,1,1,1,1,1.0,6,1,3\\n165.0,68.0,64.0,24,20000,302,15,2,0,2,0,1,0,0,2.0,6,1,7\\n160.0,65.0,50.0,25,42000,138,15,2,0,2,1,1,0,0,1.0,6,2,3\\n160.0,49.0,47.0,22,39900,120,15,2,0,3,0,1,0,0,1.0,6,1,2\\n165.0,68.0,54.0,24,49000,712,15,2,0,2,1,1,1,1,1.0,6,1,6\\n165.0,68.0,54.0,24,22000,712,15,2,0,2,1,1,1,1,1.0,6,1,5\\n164.0,62.0,56.0,23,18000,617,15,2,0,2,0,1,0,0,1.0,6,1,1\\n167.0,53.0,50.0,19,24900,701,15,2,0,2,0,0,1,0,2.0,6,1,1\\n165.0,60.0,56.0,22,35000,449,15,2,0,4,0,1,0,0,2.0,6,1,6\\n163.0,50.0,45.0,18,42000,138,15,2,0,2,1,1,0,0,1.0,6,2,1\\n164.0,60.0,45.0,22,24900,0,15,2,0,1,0,1,1,0,4.0,6,1,5\\n164.0,60.0,45.0,22,13000,0,15,2,0,1,0,1,1,0,4.0,6,1,3\\n164.0,60.0,45.0,22,50000,0,15,2,0,1,0,1,1,0,4.0,6,1,6\\n164.0,60.0,45.0,22,29900,0,15,2,0,1,0,1,1,0,4.0,6,1,1\\n163.0,63.0,57.0,23,67000,442,15,2,0,2,1,1,1,1,1.0,6,1,2\\n157.0,42.0,40.0,17,29900,501,15,2,0,2,0,1,0,0,1.0,6,1,3\\n161.0,64.0,57.0,24,22000,706,15,2,0,4,1,1,1,1,1.0,6,1,5\\n170.0,51.0,49.0,17,29900,143,15,2,0,2,0,1,1,0,1.0,6,1,3\\n160.0,65.0,50.0,25,42000,138,15,2,0,2,1,1,0,0,1.0,6,2,3\\n164.0,50.0,45.0,18,22000,422,15,2,0,2,0,1,0,0,1.0,6,1,1\\n160.0,60.0,45.0,23,29000,252,15,2,0,1,1,1,0,0,1.0,6,1,6\\n158.0,53.0,47.0,21,22000,122,15,2,0,3,1,1,1,1,1.0,6,1,1\\n150.0,50.0,38.0,22,20900,621,15,2,0,3,1,1,1,1,1.0,6,1,6\\n170.0,77.0,70.0,26,24900,151,15,2,0,2,1,0,1,0,5.0,6,1,5\\n160.0,49.0,45.0,19,21000,138,15,2,0,3,0,1,0,0,1.0,6,1,1\\n165.0,69.0,65.0,25,35000,0,15,2,0,2,1,1,1,1,4.0,6,1,5\\n166.0,58.0,51.0,21,14500,612,15,2,0,3,1,1,0,0,1.0,6,1,1\\n168.0,70.0,58.0,24,29900,611,15,2,0,4,1,1,0,0,4.0,6,1,1\\n165.0,55.0,51.0,19,58000,135,15,2,0,3,1,1,1,1,1.0,6,1,6\\n164.0,54.0,43.0,20,29900,110,15,2,0,4,1,1,1,1,1.0,6,1,3\\n164.0,54.0,43.0,20,21000,110,15,2,0,4,1,1,1,1,1.0,6,1,3\\n160.0,60.5,50.0,21,29900,138,15,2,0,2,1,1,0,0,3.0,6,1,3\\n166.0,52.0,47.0,18,29900,502,15,2,0,1,0,1,0,0,1.0,6,1,3\\n163.0,57.0,50.0,21,24900,403,15,2,0,1,1,0,0,0,1.0,6,1,1\\n171.0,47.0,44.0,15,29900,157,15,2,0,2,1,1,0,0,1.0,6,1,1\\n166.0,58.0,50.0,21,29000,441,15,2,0,3,1,1,0,0,1.0,6,1,6\\n172.0,90.0,64.0,30,22000,134,15,1,0,2,1,1,0,0,1.0,6,1,1\\n165.0,71.0,65.0,26,39900,689,15,2,0,2,1,1,1,1,5.0,6,1,2\\n163.0,58.0,48.0,21,29900,606,15,2,0,2,1,1,1,1,1.0,6,1,3\\n156.0,61.0,61.0,26,19900,423,15,2,0,3,1,1,1,1,3.0,6,1,1\\n163.0,54.0,50.0,20,24900,560,15,2,0,1,1,1,0,0,1.0,6,1,1\\n167.7,53.7,50.0,19,29900,423,15,2,0,2,1,1,0,0,1.0,6,1,1\\n164.0,78.0,50.0,29,21000,406,15,2,0,2,1,1,1,1,1.0,6,1,3\\n162.0,56.0,56.0,22,14500,641,15,2,0,1,1,1,0,0,1.0,6,1,1\\n163.0,54.0,50.0,20,24900,480,15,2,0,2,1,1,1,1,1.0,6,1,1\\n160.0,48.0,42.0,18,0,601,15,2,0,1,1,1,1,1,1.0,6,0,5\\n160.0,48.0,42.0,18,24900,601,15,2,0,1,1,1,1,1,1.0,6,1,1\\n161.0,49.0,42.0,18,22000,790,15,2,0,2,1,0,1,0,1.0,6,1,1\\n161.0,49.0,42.0,18,22000,790,15,2,0,2,1,0,1,0,1.0,6,1,5\\n157.0,47.0,43.0,19,24900,604,15,2,0,1,1,1,1,1,1.0,6,1,5\\n157.0,47.0,43.0,19,22000,604,15,2,0,1,1,1,1,1,1.0,6,1,5\\n163.0,57.0,50.0,21,24900,403,15,2,0,1,1,0,0,0,1.0,6,1,1\\n169.0,58.0,54.0,20,19900,138,15,2,0,3,0,0,1,0,1.0,6,1,1\\n167.0,58.0,53.0,20,19900,110,15,2,0,3,1,1,1,1,1.0,6,1,1\\n162.0,52.0,50.0,19,22000,210,15,2,0,2,1,1,1,1,1.0,6,1,1\\n155.0,61.5,44.0,22,0,156,15,2,0,3,1,1,0,0,1.0,6,0,2\\n159.0,48.0,44.0,18,14500,142,15,2,0,3,1,1,1,1,1.0,6,1,1\\n152.0,50.0,40.0,22,18000,301,15,2,0,1,0,1,1,0,1.0,6,1,1\\n160.0,58.0,54.0,25,29900,143,15,2,0,3,1,1,1,1,2.0,6,1,1\\n169.0,60.0,48.0,21,39800,137,15,2,0,1,1,1,1,1,1.0,6,2,1\\n165.0,59.0,52.0,21,29900,415,15,2,0,4,1,1,0,0,2.0,6,1,1\\n158.0,52.0,48.0,20,29000,133,15,1,0,3,1,1,0,0,5.0,6,1,6\\n163.0,63.0,57.0,23,27000,442,15,2,0,2,1,1,1,1,1.0,6,1,1\\n158.0,54.0,48.0,21,59000,616,15,2,0,2,0,1,0,0,1.0,6,1,2\\n160.0,53.0,50.0,20,29900,150,15,2,0,2,0,1,0,0,1.0,6,1,1\\n162.0,50.0,46.0,19,39900,314,15,2,0,3,0,1,0,0,1.0,6,1,2\\n165.0,53.0,48.0,19,24900,420,15,2,0,3,0,1,1,0,1.0,6,1,5\\n165.0,53.0,48.0,19,19900,420,15,2,0,3,0,1,1,0,1.0,6,1,1\\n164.0,60.0,49.0,22,15000,132,15,2,0,1,1,1,1,1,3.0,6,1,4\\n175.0,53.0,51.0,17,29900,402,15,2,0,2,0,1,0,0,1.0,6,1,3\\n165.0,58.0,54.0,21,24900,137,15,2,0,3,1,1,1,1,1.0,6,1,1\\n153.0,46.0,44.0,19,14500,133,15,2,0,4,1,1,1,1,1.0,6,1,1\\n153.0,46.0,44.0,19,14500,133,15,2,0,4,1,1,1,1,1.0,6,1,1\\n162.0,50.0,45.0,19,19900,404,15,2,0,2,1,1,1,1,1.0,6,1,1\\n168.0,52.0,48.0,18,19900,502,15,2,0,2,1,1,1,1,1.0,6,1,1\\n165.0,47.0,45.0,17,19900,402,15,2,0,2,1,1,1,1,5.0,6,1,1\\n165.0,58.0,54.0,21,29000,137,15,2,0,3,1,1,1,1,1.0,6,1,6\\n170.0,56.0,53.0,21,15000,0,15,2,0,3,1,0,0,0,1.0,6,1,4\\n157.0,54.0,50.0,21,14500,670,15,2,0,2,1,1,0,0,1.0,6,1,4\\n157.0,54.0,50.0,21,29900,670,15,2,0,2,1,1,0,0,1.0,6,1,1\\n157.0,54.0,50.0,21,24900,670,15,2,0,2,1,1,0,0,1.0,6,1,5\\n160.0,58.0,52.0,22,15000,560,15,2,0,3,1,1,0,0,3.0,6,1,4\\n165.0,53.0,48.0,19,48000,420,15,2,0,3,0,1,1,0,1.0,6,1,1\\n161.0,58.0,52.0,22,39900,430,15,2,0,2,1,1,0,0,1.0,6,1,2\\n165.0,49.0,45.0,17,19900,425,15,2,0,2,0,1,1,0,1.0,6,1,1\\n162.0,55.0,52.0,20,14500,641,15,2,0,4,1,1,0,0,1.0,6,1,1\\n167.0,51.0,47.0,18,29000,133,15,2,0,2,1,1,0,0,1.0,6,1,6\\n169.0,60.0,48.0,21,19900,137,15,2,0,1,1,1,1,1,1.0,6,1,1\\n158.0,54.0,48.0,21,29900,614,15,2,0,2,1,1,0,0,3.0,6,1,3\\n165.0,68.0,64.0,25,15000,138,15,2,0,4,1,0,0,0,1.0,6,1,4\\n166.0,53.0,48.0,19,22000,712,15,2,0,2,1,1,1,1,1.0,6,1,1\\n160.0,50.0,46.0,19,18000,232,15,2,0,1,1,1,0,0,5.0,6,1,5\\n160.0,50.0,46.0,19,27000,232,15,2,0,1,1,1,0,0,5.0,6,1,5\\n154.0,55.0,45.0,23,15000,550,15,2,0,4,1,1,1,1,2.0,6,1,4\\n154.0,55.0,45.0,23,14000,550,15,2,0,4,1,1,1,1,2.0,6,1,4\\n158.2,44.2,44.0,17,27000,232,15,2,0,2,1,1,0,0,5.0,6,1,5\\n172.0,58.0,54.0,19,29000,135,15,2,0,2,1,1,1,1,1.0,6,1,6\\n164.0,60.0,45.0,22,29900,0,15,2,0,1,0,1,1,0,4.0,6,1,3\\n164.0,60.0,45.0,22,24900,0,15,2,0,1,0,1,1,0,4.0,6,1,5\\n164.0,60.0,45.0,22,13000,0,15,2,0,1,0,1,1,0,4.0,6,1,3\\n172.0,58.0,54.0,19,29000,135,15,2,0,2,1,1,1,1,1.0,6,1,6\\n164.0,61.5,47.0,22,24900,132,15,2,0,2,0,1,0,0,1.0,6,1,1\\n165.0,65.0,53.0,23,14000,137,15,2,0,4,1,1,0,0,5.0,6,1,4\\n165.0,65.0,53.0,23,15000,137,15,2,0,4,1,1,0,0,5.0,6,1,4\\n162.0,62.0,56.0,23,22000,681,15,2,0,2,1,1,1,1,1.0,6,1,1\\n162.0,62.0,56.0,23,29000,681,15,2,0,2,1,1,1,1,1.0,6,1,6\\n170.0,60.0,48.0,20,29900,411,15,2,0,4,0,1,0,0,2.0,6,1,1\\n155.0,52.0,47.0,21,14500,447,15,2,0,1,0,0,1,0,1.0,6,1,1\\n165.0,49.0,45.0,17,22000,425,15,2,0,2,0,1,1,0,1.0,6,1,5\\n154.0,48.0,40.0,20,29000,150,15,2,0,3,1,1,0,0,1.0,6,1,6\\n174.0,72.0,66.0,23,22000,604,15,1,0,2,0,0,1,0,1.0,6,1,1\\n163.0,40.0,40.0,15,29900,137,15,2,0,2,0,1,1,0,1.0,6,1,1\\n163.0,40.0,40.0,15,24900,137,15,2,0,2,0,1,1,0,1.0,6,1,1\\n169.0,60.0,48.0,21,19900,137,15,2,0,1,1,1,1,1,1.0,6,1,1\\n163.0,63.0,59.0,22,14000,380,15,2,0,4,1,1,1,1,1.0,6,1,4\\n153.0,56.0,52.0,23,29000,561,15,2,0,4,1,0,0,0,1.0,6,1,6\\n165.0,63.0,59.0,23,27000,137,15,2,0,2,1,1,0,0,1.0,6,1,1\\n157.0,54.0,50.0,21,29900,670,15,2,0,2,1,1,0,0,1.0,6,1,3\\n157.0,54.0,50.0,21,14500,670,15,2,0,2,1,1,0,0,1.0,6,1,4\\n165.0,67.0,50.0,24,29900,130,15,2,0,2,0,1,1,0,4.0,6,1,7\\n164.0,44.5,42.0,16,22000,138,15,2,0,3,0,0,1,0,1.0,6,1,1\\n170.0,68.0,65.0,21,12900,136,15,2,0,2,1,0,1,0,5.0,8,1,5\\n160.0,54.0,44.0,21,12900,463,15,2,0,3,1,1,1,1,1.0,8,1,5\\n158.0,52.0,51.0,21,12900,604,15,2,0,4,1,1,0,0,1.0,8,1,1\\n170.0,60.0,52.0,20,19500,121,15,2,0,1,1,1,0,0,3.0,8,1,1\\n161.0,56.0,52.0,21,12900,606,15,2,0,1,1,0,0,0,1.0,8,1,5\\n165.0,55.0,59.0,22,12900,650,15,2,0,1,1,1,1,1,3.0,8,1,1\\n165.0,56.0,50.0,20,12900,158,15,2,0,2,0,1,0,0,5.0,8,1,5\\n168.0,92.0,90.0,29,13000,702,15,2,0,3,1,1,0,0,5.0,8,1,4\\n164.0,46.0,45.0,17,59000,151,15,2,0,2,0,1,0,0,1.0,8,1,2\\n160.0,49.0,45.0,19,27000,153,15,2,0,3,1,1,0,0,1.0,8,1,1\\n178.0,80.0,68.0,25,19500,136,15,1,0,2,1,1,1,1,3.0,8,1,3\\n160.0,58.0,51.0,22,19500,130,15,2,0,1,1,1,1,1,1.0,8,1,1\\n160.0,45.0,40.0,17,19500,135,15,2,0,2,1,1,1,1,1.0,8,1,1\\n160.0,45.0,40.0,17,19500,135,15,2,0,2,1,1,1,1,1.0,8,1,1\\n160.0,45.0,40.0,17,19500,135,15,2,0,2,1,1,1,1,1.0,8,1,1\\n165.0,54.0,47.0,19,12900,560,15,2,0,1,1,1,0,0,1.0,8,1,5\\n158.0,60.0,55.0,24,19500,463,15,2,0,3,1,1,0,0,3.0,8,1,1\\n158.0,50.0,45.0,20,12900,134,15,2,1,2,1,0,1,0,3.0,8,1,5\\n164.0,60.0,45.0,22,12900,0,15,2,0,1,0,1,1,0,4.0,8,1,5\\n164.0,60.0,45.0,22,19500,0,15,2,0,1,0,1,1,0,4.0,8,1,3\\n164.0,60.0,45.0,22,13000,0,15,2,0,1,0,1,1,0,4.0,8,1,3\\n160.0,50.0,45.0,19,19900,230,15,2,0,1,1,0,0,0,1.0,8,1,1\\n160.0,50.0,45.0,19,19900,230,15,2,0,1,1,0,0,0,1.0,8,1,1\\n160.0,50.0,45.0,19,19900,230,15,2,0,1,1,0,0,0,1.0,8,1,1\\n161.0,60.0,54.0,23,19900,430,15,2,0,2,1,1,1,1,1.0,8,1,1\\n161.0,60.0,54.0,23,19900,430,15,2,0,2,1,1,1,1,1.0,8,1,1\\n165.0,70.0,50.0,25,12900,142,15,2,0,2,1,1,1,1,1.0,8,1,1\\n161.0,60.0,54.0,23,12900,430,15,2,0,2,1,1,1,1,1.0,8,1,5\\n170.0,55.0,50.0,19,12900,570,15,2,0,2,1,1,0,0,1.0,8,1,5\\n160.0,65.0,50.0,25,14000,136,15,2,0,1,0,1,0,0,1.0,8,1,4\\n160.0,56.0,48.0,21,12900,614,15,2,0,2,1,1,1,1,1.0,8,1,5\\n175.0,65.0,57.0,21,12900,151,15,1,0,2,0,0,1,0,1.0,8,1,5\\n160.0,50.0,47.0,19,19500,325,15,2,0,2,0,1,1,0,1.0,8,1,3\\n160.0,50.0,47.0,19,12900,325,15,2,0,2,0,1,1,0,1.0,8,1,1\\n167.0,54.0,48.0,19,19500,609,15,2,0,2,0,1,0,0,1.0,8,1,3\\n160.0,50.0,45.0,19,12900,300,15,2,0,2,1,0,1,0,1.0,8,1,5\\n162.0,56.0,45.0,21,12900,134,15,2,0,2,1,1,1,1,1.0,8,1,1\\n164.0,54.0,49.0,20,12900,471,15,2,0,2,1,1,1,1,1.0,8,1,5\\n160.0,58.0,50.0,22,19500,660,15,2,0,2,1,1,0,0,1.0,8,1,3\\n168.0,67.0,55.0,23,12900,133,15,2,0,3,1,1,1,1,1.0,8,1,5\\n161.0,60.0,54.0,23,12900,430,15,2,0,2,1,1,1,1,1.0,8,1,5\\n161.0,60.0,54.0,23,35000,430,15,2,0,2,1,1,1,1,1.0,8,1,6\\n162.0,61.0,52.0,23,0,135,15,2,0,2,0,0,1,0,1.0,8,0,5\\n172.0,60.0,55.0,20,19900,134,15,2,0,4,1,1,1,1,1.0,8,1,1\\n168.0,65.0,52.0,23,12900,156,15,2,0,2,1,1,1,1,2.0,8,1,5\\n167.0,50.0,45.0,17,12900,500,15,2,0,2,1,0,1,0,1.0,8,1,5\\n170.0,65.0,55.0,22,19500,404,15,2,0,3,1,0,0,0,1.0,8,1,2\\n170.0,65.0,55.0,22,12900,404,15,2,0,3,1,0,0,0,1.0,8,1,5\\n161.0,47.0,45.0,18,12900,611,15,2,0,2,1,0,1,0,1.0,8,1,5\\n175.0,65.0,68.0,21,12900,613,15,1,0,2,0,1,0,0,5.0,8,1,5\\n169.0,50.0,46.0,17,19500,137,15,2,0,2,1,1,1,1,1.0,8,1,1\\n158.0,53.0,48.0,21,19500,621,15,2,0,1,1,1,1,1,1.0,8,1,3\\n159.0,45.0,41.0,17,14500,411,15,2,0,2,1,1,0,0,1.0,8,1,1\\n157.0,46.8,45.0,18,19500,110,15,2,0,2,1,1,0,0,3.0,8,1,3\\n155.0,52.0,48.0,21,27000,131,15,2,0,2,0,1,0,0,1.0,8,1,1\\n168.0,74.0,68.0,26,12900,361,15,1,0,2,1,1,0,0,3.0,8,1,5\\n157.0,46.0,43.0,18,12900,609,15,2,0,3,1,1,1,1,1.0,8,1,1\\n163.0,65.0,55.0,24,12900,325,15,1,0,2,1,0,1,0,3.0,8,1,5\\n161.0,48.0,43.0,18,12900,402,15,2,0,1,0,1,0,0,1.0,8,1,5\\n159.0,45.0,41.0,17,19500,411,15,2,0,2,1,1,0,0,1.0,8,1,3\\n158.0,50.0,45.0,20,12900,609,15,2,0,2,1,1,1,1,1.0,8,1,5\\n156.0,44.0,40.0,18,12900,461,15,2,0,2,1,1,1,1,1.0,8,1,5\\n167.0,63.0,52.0,22,12900,614,15,2,0,4,1,1,1,1,1.0,8,1,5\\n180.0,76.0,65.0,23,12900,645,15,2,0,3,1,1,0,0,3.0,8,1,5\\n180.0,76.0,65.0,23,12900,645,15,2,0,3,1,1,0,0,3.0,8,1,5\\n157.0,51.0,45.0,20,12900,402,15,2,0,2,1,1,1,1,1.0,8,1,5\\n163.0,53.0,45.0,19,59000,380,15,2,0,2,1,1,1,1,1.0,8,1,2\\n159.0,57.0,48.0,22,12900,440,15,2,0,2,0,1,1,0,5.0,8,1,5\\n160.0,45.0,40.0,17,12900,137,15,2,0,2,1,1,1,1,1.0,8,1,5\\n160.0,70.0,48.0,27,12900,157,15,2,0,2,1,1,0,0,1.0,8,1,5\\n160.0,70.0,48.0,27,59000,157,15,2,0,2,1,1,0,0,1.0,8,1,2\\n160.0,70.0,48.0,27,13000,157,15,2,0,2,1,1,0,0,1.0,8,1,4\\n170.0,62.0,55.0,21,12900,138,15,2,0,2,0,1,1,0,1.0,8,1,5\\n155.0,49.0,45.0,20,12900,421,15,2,0,2,1,1,1,1,1.0,8,1,5\\n164.0,65.0,54.0,24,59000,150,15,2,0,2,1,1,1,1,3.0,8,1,2\\n161.0,49.0,5.0,18,19500,302,15,2,0,2,1,1,0,0,3.0,8,1,3\\n160.0,57.0,53.0,22,12900,330,15,2,0,2,1,1,1,1,5.0,8,1,5\\n162.0,60.0,48.0,22,12900,613,15,2,0,2,1,1,1,1,1.0,8,1,5\\n168.0,65.0,61.0,21,12900,156,15,2,0,2,1,0,1,0,1.0,8,1,5\\n160.0,57.0,54.0,22,12900,712,15,2,0,2,1,1,0,0,1.0,8,1,5\\n158.0,51.0,43.0,20,12900,407,15,2,0,2,1,1,1,1,1.0,8,1,5\\n158.0,51.0,43.0,20,27000,407,15,2,0,2,1,1,1,1,1.0,8,1,5\\n165.0,65.0,52.0,23,12900,305,15,1,0,3,0,1,0,0,1.0,8,1,5\\n168.0,60.0,45.0,21,12900,157,15,2,0,2,1,1,1,1,1.0,8,1,1\\n162.0,95.0,89.0,36,22000,210,15,2,0,2,1,1,1,1,1.0,8,1,1\\n169.2,67.0,55.0,23,12900,650,15,2,0,2,1,1,1,1,1.0,8,1,5\\n158.0,58.0,45.0,23,12900,437,15,2,0,2,1,1,1,1,1.0,8,1,5\\n160.0,53.0,49.0,20,19500,130,15,2,0,2,0,1,0,0,1.0,8,1,1\\n173.0,55.0,52.0,18,12900,339,15,2,0,2,1,1,1,1,1.0,8,1,5\\n158.0,58.0,48.0,23,29800,122,15,2,0,2,1,1,1,1,1.0,8,1,3\\n168.0,75.0,73.0,27,19500,701,15,2,0,1,1,1,0,0,1.0,8,1,3\\n158.0,54.0,45.0,21,12900,542,15,2,0,2,1,1,1,1,1.0,8,1,5\\n163.0,63.0,57.0,23,59000,442,15,2,0,2,1,1,1,1,1.0,8,1,2\\n180.0,70.0,67.0,21,12900,305,15,1,0,2,0,0,1,0,1.0,8,1,1\\n156.0,56.5,45.0,23,12900,137,15,2,0,2,1,1,1,1,1.0,8,1,5\\n165.0,70.0,45.0,25,12900,703,15,2,0,2,1,1,1,1,1.0,8,1,5\\n165.7,60.0,49.0,21,19500,706,15,2,0,2,1,1,0,0,1.0,8,1,3\\n157.0,49.0,45.0,19,12900,641,15,2,0,2,1,1,1,1,1.0,8,1,1\\n164.0,54.0,47.0,20,12900,411,15,2,0,4,1,1,1,1,2.0,8,1,5\\n163.0,55.0,45.0,20,12900,614,15,2,0,2,1,1,1,1,1.0,8,1,5\\n162.0,49.0,45.0,18,12900,702,15,2,0,2,1,1,0,0,1.0,8,1,5\\n163.0,55.0,45.0,20,12900,614,15,2,0,2,1,1,1,1,1.0,8,1,5\\n162.0,49.0,45.0,18,12900,702,15,2,0,2,1,1,0,0,1.0,8,1,5\\n166.0,80.0,76.0,25,39900,140,15,2,0,3,1,0,0,0,1.0,8,1,1\\n166.0,80.0,76.0,25,12900,140,15,2,0,3,1,0,0,0,1.0,8,1,5\\n175.0,68.0,62.0,22,12900,680,15,1,0,2,1,0,1,0,5.0,8,1,5\\n164.0,53.0,50.0,19,12900,151,15,2,0,2,1,1,1,1,1.0,8,1,5\\n164.0,48.0,45.0,17,12900,137,15,2,0,3,1,0,1,0,1.0,8,1,5\\n164.0,48.0,45.0,17,9900,137,15,2,0,3,1,0,1,0,1.0,8,1,3\\n163.0,57.0,55.0,22,13000,645,15,1,0,1,1,1,0,0,3.0,8,1,4\\n155.0,52.0,47.0,21,19500,402,15,2,0,2,0,1,0,0,1.0,8,1,3\\n160.0,54.0,52.0,21,12900,136,15,2,0,1,1,1,1,1,1.0,8,1,5\\n170.0,88.0,60.0,30,22000,302,15,2,0,3,1,1,0,0,1.0,8,1,5\\n171.0,88.0,65.0,30,12900,134,15,1,0,2,1,1,1,1,1.0,8,1,5\\n161.0,48.0,43.0,18,12900,402,15,2,0,1,0,1,0,0,1.0,8,1,5\\n164.0,57.0,50.0,21,12900,608,15,2,0,2,1,1,1,1,3.0,8,1,5\\n165.0,56.0,50.0,20,12900,158,15,2,0,2,0,1,0,0,5.0,8,1,5\\n162.0,56.0,50.0,21,12900,140,15,2,0,2,1,1,0,0,1.0,8,1,1\\n165.0,59.0,55.0,21,12900,302,15,2,0,2,1,1,0,0,1.0,8,1,5\\n157.0,51.0,45.0,20,12900,609,15,2,0,2,0,1,0,0,1.0,8,1,5\\n161.0,60.0,54.0,23,35000,430,15,2,0,2,1,1,1,1,1.0,8,1,6\\n165.0,59.0,55.0,21,12900,302,15,2,0,2,1,1,0,0,1.0,8,1,5\\n160.0,43.0,43.0,16,12900,320,15,2,0,3,0,0,1,0,1.0,8,1,5\\n160.0,53.0,45.0,20,19500,151,15,2,0,1,1,1,1,1,1.0,8,1,3\\n165.0,65.0,45.0,23,9900,413,15,2,0,2,1,1,1,1,2.0,8,1,3\\n162.0,47.0,45.0,17,14500,667,15,2,0,2,1,1,1,1,1.0,8,1,1\\n162.0,47.0,45.0,17,14500,667,15,2,0,2,1,1,1,1,1.0,8,1,1\\n158.0,45.0,40.0,18,19500,702,15,2,0,2,1,1,0,0,1.0,8,1,3\\n158.0,45.0,40.0,18,19500,702,15,2,0,2,1,1,0,0,1.0,8,1,3\\n158.0,50.0,45.0,20,12900,503,15,2,0,2,1,1,1,1,2.0,8,1,5\\n163.0,53.0,48.0,19,12900,135,15,2,0,2,0,1,1,0,1.0,8,1,5\\n156.0,48.0,43.0,19,39900,134,15,2,0,2,1,1,0,0,1.0,8,1,2\\n162.0,54.0,50.0,20,19500,712,15,2,0,2,1,1,0,0,5.0,8,1,2\\n174.0,61.0,60.0,20,0,604,15,1,0,2,0,0,1,0,1.0,8,0,5\\n158.0,67.0,64.0,27,39900,151,15,2,0,2,1,0,0,0,1.0,8,1,1\\n158.0,60.0,56.0,25,20000,156,15,2,0,2,1,1,0,0,1.0,8,1,6\\n162.0,60.0,52.0,22,12900,611,15,2,0,3,1,1,1,1,1.0,8,1,5\\n169.0,55.0,50.0,19,12900,302,15,2,0,2,1,1,1,1,1.0,8,1,5\\n162.0,50.0,45.0,19,27000,142,15,2,0,3,1,1,0,0,1.0,8,1,5\\n154.0,56.0,52.0,23,29900,411,15,2,0,3,0,1,1,0,1.0,7,1,1\\n163.0,72.0,65.0,27,19900,604,15,2,0,3,1,0,0,0,2.0,7,1,1\\n167.0,63.0,59.0,23,29900,150,15,2,0,4,1,1,0,0,1.0,7,1,3\\n161.0,73.0,69.0,27,39000,711,15,2,0,1,1,1,0,0,1.0,7,1,2\\n161.0,73.0,69.0,27,39900,711,15,2,0,1,1,1,0,0,1.0,7,1,1\\n160.0,58.0,50.0,22,18000,158,15,2,0,4,1,0,1,0,1.0,7,1,1\\n167.0,63.0,55.0,22,19900,151,15,2,0,1,0,1,1,0,1.0,7,1,1\\n168.0,63.0,53.0,22,39900,151,15,2,0,1,1,1,0,0,1.0,7,1,2\\n168.0,63.0,53.0,22,27000,151,15,2,0,1,1,1,0,0,1.0,7,1,5\\n160.0,58.0,51.0,22,19900,130,15,2,0,1,1,1,1,1,1.0,7,1,1\\n173.0,56.0,47.0,18,22000,440,15,2,0,2,1,1,0,0,1.0,7,1,1\\n166.0,60.0,55.0,21,29000,130,15,2,0,3,1,1,0,0,1.0,7,1,6\\n164.5,55.0,48.0,20,19900,682,15,2,0,2,1,1,1,1,5.0,7,1,1\\n169.0,58.0,50.0,21,19900,791,15,2,0,4,1,1,1,1,1.0,7,1,1\\n167.0,53.0,50.0,18,39900,601,15,2,0,4,1,0,0,0,2.0,7,1,2\\n165.0,63.0,59.0,23,22000,137,15,2,0,2,1,1,0,0,1.0,7,1,1\\n168.0,60.0,50.0,21,24900,400,15,2,0,2,0,1,1,0,1.0,7,1,1\\n169.0,44.0,42.0,15,0,301,15,2,0,3,1,1,0,0,5.0,7,0,3\\n165.0,52.0,48.0,19,27000,139,15,2,0,1,1,0,1,0,1.0,7,1,1\\n166.6,55.0,51.0,20,24900,120,15,2,0,4,1,1,1,1,1.0,7,1,1\\n158.0,52.0,47.0,20,39900,139,15,2,0,3,1,1,0,0,1.0,7,1,2\\n159.0,59.5,48.0,24,27000,423,15,2,0,3,1,1,1,1,2.0,7,1,3\\n160.0,49.0,48.0,19,29000,712,15,2,0,2,0,1,1,0,5.0,7,1,6\\n160.0,49.0,48.0,19,24900,712,15,2,0,2,0,1,1,0,5.0,7,1,5\\n158.5,57.0,50.0,22,14500,330,15,2,0,1,0,1,1,0,1.0,7,1,4\\n160.0,55.0,48.0,21,29000,683,15,2,1,2,1,0,0,0,3.0,7,1,6\\n156.0,56.0,47.0,23,49000,138,15,2,0,3,1,1,0,0,1.0,7,1,6\\n156.0,53.0,51.0,21,29900,501,15,2,0,2,1,1,0,0,3.0,7,1,3\\n163.0,63.0,50.0,23,29900,121,15,2,0,2,1,1,0,0,3.0,7,1,7\\n163.0,63.0,50.0,23,64000,121,15,2,0,2,1,1,0,0,3.0,7,1,6\\n160.0,58.0,48.0,22,24900,704,15,2,0,1,1,0,1,0,1.0,7,1,1\\n163.0,68.0,64.0,24,19900,220,15,2,0,4,1,1,1,1,1.0,7,1,1\\n165.0,64.0,60.0,23,27000,120,15,1,0,2,1,1,0,0,1.0,7,1,3\\n163.0,53.0,49.0,19,15000,137,15,2,0,3,1,1,0,0,1.0,7,1,4\\n173.0,60.0,50.0,20,22000,757,15,2,0,2,0,1,1,0,1.0,7,1,1\\n157.0,54.0,50.0,21,29900,670,15,2,0,2,1,1,0,0,1.0,7,1,3\\n157.0,54.0,50.0,21,14500,670,15,2,0,2,1,1,0,0,1.0,7,1,4\\n157.0,54.0,50.0,21,24900,670,15,2,0,2,1,1,0,0,1.0,7,1,5\\n167.0,62.0,55.0,22,29900,406,15,2,0,2,1,1,0,0,1.0,7,1,1\\n178.0,70.0,72.0,22,35900,422,15,1,0,2,1,0,0,0,3.0,7,1,2\\n165.0,49.0,47.0,17,29900,135,15,2,0,1,1,1,0,0,1.0,7,1,3\\n159.0,58.0,45.0,22,29900,327,15,2,0,4,1,1,1,1,1.0,7,1,3\\n'"
            ],
            "application/vnd.google.colaboratory.intrinsic+json": {
              "type": "string"
            }
          },
          "metadata": {},
          "execution_count": 44
        }
      ]
    },
    {
      "cell_type": "code",
      "source": [
        "col_name = pd.read_csv(\"/content/drive/MyDrive/Colab Notebooks/new project/col_name6.csv\", encoding = \"cp949\")\n",
        "col_name"
      ],
      "metadata": {
        "colab": {
          "base_uri": "https://localhost:8080/",
          "height": 424
        },
        "id": "VnDEp7kvHTg-",
        "outputId": "4888ccba-47be-479b-b663-ab2b7cb0d273"
      },
      "execution_count": null,
      "outputs": [
        {
          "output_type": "execute_result",
          "data": {
            "text/plain": [
              "     Unnamed: 0 colnames.X_train.\n",
              "0             1            height\n",
              "1             2            weight\n",
              "2             3         want_diet\n",
              "3             4               bmi\n",
              "4             5           p_price\n",
              "..          ...               ...\n",
              "218         219       p_created_8\n",
              "219         220      p_quantity_0\n",
              "220         221      p_quantity_1\n",
              "221         222      p_quantity_2\n",
              "222         223      p_quantity_3\n",
              "\n",
              "[223 rows x 2 columns]"
            ],
            "text/html": [
              "\n",
              "  <div id=\"df-f16ac9ba-6347-45eb-a9b3-7bf96494b959\">\n",
              "    <div class=\"colab-df-container\">\n",
              "      <div>\n",
              "<style scoped>\n",
              "    .dataframe tbody tr th:only-of-type {\n",
              "        vertical-align: middle;\n",
              "    }\n",
              "\n",
              "    .dataframe tbody tr th {\n",
              "        vertical-align: top;\n",
              "    }\n",
              "\n",
              "    .dataframe thead th {\n",
              "        text-align: right;\n",
              "    }\n",
              "</style>\n",
              "<table border=\"1\" class=\"dataframe\">\n",
              "  <thead>\n",
              "    <tr style=\"text-align: right;\">\n",
              "      <th></th>\n",
              "      <th>Unnamed: 0</th>\n",
              "      <th>colnames.X_train.</th>\n",
              "    </tr>\n",
              "  </thead>\n",
              "  <tbody>\n",
              "    <tr>\n",
              "      <th>0</th>\n",
              "      <td>1</td>\n",
              "      <td>height</td>\n",
              "    </tr>\n",
              "    <tr>\n",
              "      <th>1</th>\n",
              "      <td>2</td>\n",
              "      <td>weight</td>\n",
              "    </tr>\n",
              "    <tr>\n",
              "      <th>2</th>\n",
              "      <td>3</td>\n",
              "      <td>want_diet</td>\n",
              "    </tr>\n",
              "    <tr>\n",
              "      <th>3</th>\n",
              "      <td>4</td>\n",
              "      <td>bmi</td>\n",
              "    </tr>\n",
              "    <tr>\n",
              "      <th>4</th>\n",
              "      <td>5</td>\n",
              "      <td>p_price</td>\n",
              "    </tr>\n",
              "    <tr>\n",
              "      <th>...</th>\n",
              "      <td>...</td>\n",
              "      <td>...</td>\n",
              "    </tr>\n",
              "    <tr>\n",
              "      <th>218</th>\n",
              "      <td>219</td>\n",
              "      <td>p_created_8</td>\n",
              "    </tr>\n",
              "    <tr>\n",
              "      <th>219</th>\n",
              "      <td>220</td>\n",
              "      <td>p_quantity_0</td>\n",
              "    </tr>\n",
              "    <tr>\n",
              "      <th>220</th>\n",
              "      <td>221</td>\n",
              "      <td>p_quantity_1</td>\n",
              "    </tr>\n",
              "    <tr>\n",
              "      <th>221</th>\n",
              "      <td>222</td>\n",
              "      <td>p_quantity_2</td>\n",
              "    </tr>\n",
              "    <tr>\n",
              "      <th>222</th>\n",
              "      <td>223</td>\n",
              "      <td>p_quantity_3</td>\n",
              "    </tr>\n",
              "  </tbody>\n",
              "</table>\n",
              "<p>223 rows × 2 columns</p>\n",
              "</div>\n",
              "      <button class=\"colab-df-convert\" onclick=\"convertToInteractive('df-f16ac9ba-6347-45eb-a9b3-7bf96494b959')\"\n",
              "              title=\"Convert this dataframe to an interactive table.\"\n",
              "              style=\"display:none;\">\n",
              "        \n",
              "  <svg xmlns=\"http://www.w3.org/2000/svg\" height=\"24px\"viewBox=\"0 0 24 24\"\n",
              "       width=\"24px\">\n",
              "    <path d=\"M0 0h24v24H0V0z\" fill=\"none\"/>\n",
              "    <path d=\"M18.56 5.44l.94 2.06.94-2.06 2.06-.94-2.06-.94-.94-2.06-.94 2.06-2.06.94zm-11 1L8.5 8.5l.94-2.06 2.06-.94-2.06-.94L8.5 2.5l-.94 2.06-2.06.94zm10 10l.94 2.06.94-2.06 2.06-.94-2.06-.94-.94-2.06-.94 2.06-2.06.94z\"/><path d=\"M17.41 7.96l-1.37-1.37c-.4-.4-.92-.59-1.43-.59-.52 0-1.04.2-1.43.59L10.3 9.45l-7.72 7.72c-.78.78-.78 2.05 0 2.83L4 21.41c.39.39.9.59 1.41.59.51 0 1.02-.2 1.41-.59l7.78-7.78 2.81-2.81c.8-.78.8-2.07 0-2.86zM5.41 20L4 18.59l7.72-7.72 1.47 1.35L5.41 20z\"/>\n",
              "  </svg>\n",
              "      </button>\n",
              "      \n",
              "  <style>\n",
              "    .colab-df-container {\n",
              "      display:flex;\n",
              "      flex-wrap:wrap;\n",
              "      gap: 12px;\n",
              "    }\n",
              "\n",
              "    .colab-df-convert {\n",
              "      background-color: #E8F0FE;\n",
              "      border: none;\n",
              "      border-radius: 50%;\n",
              "      cursor: pointer;\n",
              "      display: none;\n",
              "      fill: #1967D2;\n",
              "      height: 32px;\n",
              "      padding: 0 0 0 0;\n",
              "      width: 32px;\n",
              "    }\n",
              "\n",
              "    .colab-df-convert:hover {\n",
              "      background-color: #E2EBFA;\n",
              "      box-shadow: 0px 1px 2px rgba(60, 64, 67, 0.3), 0px 1px 3px 1px rgba(60, 64, 67, 0.15);\n",
              "      fill: #174EA6;\n",
              "    }\n",
              "\n",
              "    [theme=dark] .colab-df-convert {\n",
              "      background-color: #3B4455;\n",
              "      fill: #D2E3FC;\n",
              "    }\n",
              "\n",
              "    [theme=dark] .colab-df-convert:hover {\n",
              "      background-color: #434B5C;\n",
              "      box-shadow: 0px 1px 3px 1px rgba(0, 0, 0, 0.15);\n",
              "      filter: drop-shadow(0px 1px 2px rgba(0, 0, 0, 0.3));\n",
              "      fill: #FFFFFF;\n",
              "    }\n",
              "  </style>\n",
              "\n",
              "      <script>\n",
              "        const buttonEl =\n",
              "          document.querySelector('#df-f16ac9ba-6347-45eb-a9b3-7bf96494b959 button.colab-df-convert');\n",
              "        buttonEl.style.display =\n",
              "          google.colab.kernel.accessAllowed ? 'block' : 'none';\n",
              "\n",
              "        async function convertToInteractive(key) {\n",
              "          const element = document.querySelector('#df-f16ac9ba-6347-45eb-a9b3-7bf96494b959');\n",
              "          const dataTable =\n",
              "            await google.colab.kernel.invokeFunction('convertToInteractive',\n",
              "                                                     [key], {});\n",
              "          if (!dataTable) return;\n",
              "\n",
              "          const docLinkHtml = 'Like what you see? Visit the ' +\n",
              "            '<a target=\"_blank\" href=https://colab.research.google.com/notebooks/data_table.ipynb>data table notebook</a>'\n",
              "            + ' to learn more about interactive tables.';\n",
              "          element.innerHTML = '';\n",
              "          dataTable['output_type'] = 'display_data';\n",
              "          await google.colab.output.renderOutput(dataTable, element);\n",
              "          const docLink = document.createElement('div');\n",
              "          docLink.innerHTML = docLinkHtml;\n",
              "          element.appendChild(docLink);\n",
              "        }\n",
              "      </script>\n",
              "    </div>\n",
              "  </div>\n",
              "  "
            ]
          },
          "metadata": {},
          "execution_count": 46
        }
      ]
    },
    {
      "cell_type": "code",
      "source": [
        "ct.fit(X)\n",
        "X_train = ct.transform(X_train)\n",
        "X_test = ct.transform(X_test)"
      ],
      "metadata": {
        "id": "ncNlNyubK57V",
        "colab": {
          "base_uri": "https://localhost:8080/"
        },
        "outputId": "35ad208c-eea9-41c4-ff92-7346870acc4a"
      },
      "execution_count": null,
      "outputs": [
        {
          "output_type": "stream",
          "name": "stderr",
          "text": [
            "/usr/local/lib/python3.9/dist-packages/sklearn/preprocessing/_encoders.py:868: FutureWarning: `sparse` was renamed to `sparse_output` in version 1.2 and will be removed in 1.4. `sparse_output` is ignored unless you leave `sparse` to its default value.\n",
            "  warnings.warn(\n"
          ]
        }
      ]
    },
    {
      "cell_type": "code",
      "source": [
        "from imblearn.over_sampling import SMOTE #synthetic minority over-sampling technique\n",
        "from collections import Counter\n",
        "\n",
        "X_train_over, Y_train_over = SMOTE(random_state = 0).fit_resample(X_train, Y_train)\n",
        "\n",
        "print(\"original data %s\" % Counter(Y))\n",
        "print(\"original train data %s\" % Counter(Y_train))\n",
        "print(\"over train data %s\" % Counter(Y_train_over))"
      ],
      "metadata": {
        "colab": {
          "base_uri": "https://localhost:8080/"
        },
        "id": "xir6bSkNLChv",
        "outputId": "8870aa10-2c32-4385-d439-5143b09e0ac4"
      },
      "execution_count": null,
      "outputs": [
        {
          "output_type": "stream",
          "name": "stdout",
          "text": [
            "original data Counter({1: 452, 5: 402, 3: 251, 6: 130, 2: 97, 4: 83, 7: 9})\n",
            "original train data Counter({1: 317, 5: 280, 3: 169, 6: 95, 2: 76, 4: 53, 7: 6})\n",
            "over train data Counter({2: 317, 6: 317, 1: 317, 3: 317, 5: 317, 4: 317, 7: 317})\n"
          ]
        }
      ]
    },
    {
      "cell_type": "code",
      "source": [
        "X_train, Y_train = X_train_over, Y_train_over"
      ],
      "metadata": {
        "id": "a14xF0IgLKvg"
      },
      "execution_count": null,
      "outputs": []
    },
    {
      "cell_type": "code",
      "source": [
        "from sklearn.linear_model import LogisticRegression\n",
        "logit = LogisticRegression(C = 1, random_state = 0)\n",
        "\n",
        "logit.fit(X_train, Y_train)\n",
        "Y_pred = logit.predict(X_test)\n",
        "\n",
        "print(\"R2 : {:.3f}\" .format(logit.score(X_train, Y_train)))\n",
        "\n",
        "from sklearn.metrics import classification_report\n",
        "print(classification_report(Y_test, Y_pred))\n",
        "print(logit.intercept_)\n",
        "print(logit.coef_)   "
      ],
      "metadata": {
        "colab": {
          "base_uri": "https://localhost:8080/"
        },
        "id": "gI6sDx9rLY-B",
        "outputId": "86f836b3-e54d-42d7-9e64-195dddf7fadc"
      },
      "execution_count": null,
      "outputs": [
        {
          "output_type": "stream",
          "name": "stdout",
          "text": [
            "R2 : 0.752\n",
            "              precision    recall  f1-score   support\n",
            "\n",
            "           1       0.39      0.26      0.31       135\n",
            "           2       0.22      0.43      0.29        21\n",
            "           3       0.40      0.29      0.34        82\n",
            "           4       0.38      0.63      0.48        30\n",
            "           5       0.46      0.49      0.47       122\n",
            "           6       0.34      0.46      0.39        35\n",
            "           7       0.00      0.00      0.00         3\n",
            "\n",
            "    accuracy                           0.38       428\n",
            "   macro avg       0.31      0.37      0.33       428\n",
            "weighted avg       0.40      0.38      0.38       428\n",
            "\n",
            "[ 1.52447519 -0.49156398  1.13112361 -1.03848984  1.20218412 -0.47157565\n",
            " -1.85615345]\n",
            "[[-0.09118201 -0.26110293  0.30101297 ... -1.22133644  1.1521554\n",
            "   0.3562575 ]\n",
            " [ 0.58901422 -0.12198444 -0.5102492  ...  0.39796013 -0.39428918\n",
            "  -0.13323784]\n",
            " [ 0.45516927 -0.48651624 -0.6940332  ... -0.87671292  0.9174846\n",
            "  -0.62112065]\n",
            " ...\n",
            " [-0.25117821  0.67026801 -0.42039291 ... -0.04384486 -0.12435912\n",
            "   0.94053625]\n",
            " [-0.59934385  0.38894798  0.29328565 ...  0.12728691 -1.447157\n",
            "  -0.39247297]\n",
            " [ 0.60528015 -0.21413015  0.29398839 ... -0.28927008 -0.0973485\n",
            "  -0.1492814 ]]\n"
          ]
        },
        {
          "output_type": "stream",
          "name": "stderr",
          "text": [
            "/usr/local/lib/python3.9/dist-packages/sklearn/linear_model/_logistic.py:458: ConvergenceWarning: lbfgs failed to converge (status=1):\n",
            "STOP: TOTAL NO. of ITERATIONS REACHED LIMIT.\n",
            "\n",
            "Increase the number of iterations (max_iter) or scale the data as shown in:\n",
            "    https://scikit-learn.org/stable/modules/preprocessing.html\n",
            "Please also refer to the documentation for alternative solver options:\n",
            "    https://scikit-learn.org/stable/modules/linear_model.html#logistic-regression\n",
            "  n_iter_i = _check_optimize_result(\n"
          ]
        }
      ]
    },
    {
      "cell_type": "code",
      "source": [
        "!pip install statsmodels\n",
        "!pip install scikit-learn"
      ],
      "metadata": {
        "colab": {
          "base_uri": "https://localhost:8080/"
        },
        "id": "GylJLjvWnHBC",
        "outputId": "30135d70-7c31-4ef6-d1ea-ebdb4258cb8d"
      },
      "execution_count": null,
      "outputs": [
        {
          "output_type": "stream",
          "name": "stdout",
          "text": [
            "Looking in indexes: https://pypi.org/simple, https://us-python.pkg.dev/colab-wheels/public/simple/\n",
            "Requirement already satisfied: statsmodels in /usr/local/lib/python3.9/dist-packages (0.13.5)\n",
            "Requirement already satisfied: scipy>=1.3 in /usr/local/lib/python3.9/dist-packages (from statsmodels) (1.10.1)\n",
            "Requirement already satisfied: patsy>=0.5.2 in /usr/local/lib/python3.9/dist-packages (from statsmodels) (0.5.3)\n",
            "Requirement already satisfied: packaging>=21.3 in /usr/local/lib/python3.9/dist-packages (from statsmodels) (23.0)\n",
            "Requirement already satisfied: pandas>=0.25 in /usr/local/lib/python3.9/dist-packages (from statsmodels) (1.4.4)\n",
            "Requirement already satisfied: numpy>=1.17 in /usr/local/lib/python3.9/dist-packages (from statsmodels) (1.22.4)\n",
            "Requirement already satisfied: pytz>=2020.1 in /usr/local/lib/python3.9/dist-packages (from pandas>=0.25->statsmodels) (2022.7.1)\n",
            "Requirement already satisfied: python-dateutil>=2.8.1 in /usr/local/lib/python3.9/dist-packages (from pandas>=0.25->statsmodels) (2.8.2)\n",
            "Requirement already satisfied: six in /usr/local/lib/python3.9/dist-packages (from patsy>=0.5.2->statsmodels) (1.15.0)\n",
            "Looking in indexes: https://pypi.org/simple, https://us-python.pkg.dev/colab-wheels/public/simple/\n",
            "Requirement already satisfied: scikit-learn in /usr/local/lib/python3.9/dist-packages (1.2.2)\n",
            "Requirement already satisfied: joblib>=1.1.1 in /usr/local/lib/python3.9/dist-packages (from scikit-learn) (1.1.1)\n",
            "Requirement already satisfied: threadpoolctl>=2.0.0 in /usr/local/lib/python3.9/dist-packages (from scikit-learn) (3.1.0)\n",
            "Requirement already satisfied: numpy>=1.17.3 in /usr/local/lib/python3.9/dist-packages (from scikit-learn) (1.22.4)\n",
            "Requirement already satisfied: scipy>=1.3.2 in /usr/local/lib/python3.9/dist-packages (from scikit-learn) (1.10.1)\n"
          ]
        }
      ]
    },
    {
      "cell_type": "code",
      "source": [
        "from sklearn.metrics import accuracy_score"
      ],
      "metadata": {
        "id": "8hQiKFvytJN9"
      },
      "execution_count": null,
      "outputs": []
    },
    {
      "cell_type": "code",
      "source": [
        "model2 = LogisticRegression(multi_class='multinomial', solver='lbfgs')"
      ],
      "metadata": {
        "id": "JCXML_YutVZj"
      },
      "execution_count": null,
      "outputs": []
    },
    {
      "cell_type": "code",
      "source": [
        "model2.fit(X_train, Y_train)"
      ],
      "metadata": {
        "colab": {
          "base_uri": "https://localhost:8080/",
          "height": 222
        },
        "id": "bnn6ng3ItaXt",
        "outputId": "89bc965b-7f0b-4f7c-aead-2fe7638be3aa"
      },
      "execution_count": null,
      "outputs": [
        {
          "output_type": "stream",
          "name": "stderr",
          "text": [
            "/usr/local/lib/python3.9/dist-packages/sklearn/linear_model/_logistic.py:458: ConvergenceWarning: lbfgs failed to converge (status=1):\n",
            "STOP: TOTAL NO. of ITERATIONS REACHED LIMIT.\n",
            "\n",
            "Increase the number of iterations (max_iter) or scale the data as shown in:\n",
            "    https://scikit-learn.org/stable/modules/preprocessing.html\n",
            "Please also refer to the documentation for alternative solver options:\n",
            "    https://scikit-learn.org/stable/modules/linear_model.html#logistic-regression\n",
            "  n_iter_i = _check_optimize_result(\n"
          ]
        },
        {
          "output_type": "execute_result",
          "data": {
            "text/plain": [
              "LogisticRegression(multi_class='multinomial')"
            ],
            "text/html": [
              "<style>#sk-container-id-1 {color: black;background-color: white;}#sk-container-id-1 pre{padding: 0;}#sk-container-id-1 div.sk-toggleable {background-color: white;}#sk-container-id-1 label.sk-toggleable__label {cursor: pointer;display: block;width: 100%;margin-bottom: 0;padding: 0.3em;box-sizing: border-box;text-align: center;}#sk-container-id-1 label.sk-toggleable__label-arrow:before {content: \"▸\";float: left;margin-right: 0.25em;color: #696969;}#sk-container-id-1 label.sk-toggleable__label-arrow:hover:before {color: black;}#sk-container-id-1 div.sk-estimator:hover label.sk-toggleable__label-arrow:before {color: black;}#sk-container-id-1 div.sk-toggleable__content {max-height: 0;max-width: 0;overflow: hidden;text-align: left;background-color: #f0f8ff;}#sk-container-id-1 div.sk-toggleable__content pre {margin: 0.2em;color: black;border-radius: 0.25em;background-color: #f0f8ff;}#sk-container-id-1 input.sk-toggleable__control:checked~div.sk-toggleable__content {max-height: 200px;max-width: 100%;overflow: auto;}#sk-container-id-1 input.sk-toggleable__control:checked~label.sk-toggleable__label-arrow:before {content: \"▾\";}#sk-container-id-1 div.sk-estimator input.sk-toggleable__control:checked~label.sk-toggleable__label {background-color: #d4ebff;}#sk-container-id-1 div.sk-label input.sk-toggleable__control:checked~label.sk-toggleable__label {background-color: #d4ebff;}#sk-container-id-1 input.sk-hidden--visually {border: 0;clip: rect(1px 1px 1px 1px);clip: rect(1px, 1px, 1px, 1px);height: 1px;margin: -1px;overflow: hidden;padding: 0;position: absolute;width: 1px;}#sk-container-id-1 div.sk-estimator {font-family: monospace;background-color: #f0f8ff;border: 1px dotted black;border-radius: 0.25em;box-sizing: border-box;margin-bottom: 0.5em;}#sk-container-id-1 div.sk-estimator:hover {background-color: #d4ebff;}#sk-container-id-1 div.sk-parallel-item::after {content: \"\";width: 100%;border-bottom: 1px solid gray;flex-grow: 1;}#sk-container-id-1 div.sk-label:hover label.sk-toggleable__label {background-color: #d4ebff;}#sk-container-id-1 div.sk-serial::before {content: \"\";position: absolute;border-left: 1px solid gray;box-sizing: border-box;top: 0;bottom: 0;left: 50%;z-index: 0;}#sk-container-id-1 div.sk-serial {display: flex;flex-direction: column;align-items: center;background-color: white;padding-right: 0.2em;padding-left: 0.2em;position: relative;}#sk-container-id-1 div.sk-item {position: relative;z-index: 1;}#sk-container-id-1 div.sk-parallel {display: flex;align-items: stretch;justify-content: center;background-color: white;position: relative;}#sk-container-id-1 div.sk-item::before, #sk-container-id-1 div.sk-parallel-item::before {content: \"\";position: absolute;border-left: 1px solid gray;box-sizing: border-box;top: 0;bottom: 0;left: 50%;z-index: -1;}#sk-container-id-1 div.sk-parallel-item {display: flex;flex-direction: column;z-index: 1;position: relative;background-color: white;}#sk-container-id-1 div.sk-parallel-item:first-child::after {align-self: flex-end;width: 50%;}#sk-container-id-1 div.sk-parallel-item:last-child::after {align-self: flex-start;width: 50%;}#sk-container-id-1 div.sk-parallel-item:only-child::after {width: 0;}#sk-container-id-1 div.sk-dashed-wrapped {border: 1px dashed gray;margin: 0 0.4em 0.5em 0.4em;box-sizing: border-box;padding-bottom: 0.4em;background-color: white;}#sk-container-id-1 div.sk-label label {font-family: monospace;font-weight: bold;display: inline-block;line-height: 1.2em;}#sk-container-id-1 div.sk-label-container {text-align: center;}#sk-container-id-1 div.sk-container {/* jupyter's `normalize.less` sets `[hidden] { display: none; }` but bootstrap.min.css set `[hidden] { display: none !important; }` so we also need the `!important` here to be able to override the default hidden behavior on the sphinx rendered scikit-learn.org. See: https://github.com/scikit-learn/scikit-learn/issues/21755 */display: inline-block !important;position: relative;}#sk-container-id-1 div.sk-text-repr-fallback {display: none;}</style><div id=\"sk-container-id-1\" class=\"sk-top-container\"><div class=\"sk-text-repr-fallback\"><pre>LogisticRegression(multi_class=&#x27;multinomial&#x27;)</pre><b>In a Jupyter environment, please rerun this cell to show the HTML representation or trust the notebook. <br />On GitHub, the HTML representation is unable to render, please try loading this page with nbviewer.org.</b></div><div class=\"sk-container\" hidden><div class=\"sk-item\"><div class=\"sk-estimator sk-toggleable\"><input class=\"sk-toggleable__control sk-hidden--visually\" id=\"sk-estimator-id-1\" type=\"checkbox\" checked><label for=\"sk-estimator-id-1\" class=\"sk-toggleable__label sk-toggleable__label-arrow\">LogisticRegression</label><div class=\"sk-toggleable__content\"><pre>LogisticRegression(multi_class=&#x27;multinomial&#x27;)</pre></div></div></div></div></div>"
            ]
          },
          "metadata": {},
          "execution_count": 54
        }
      ]
    },
    {
      "cell_type": "code",
      "source": [
        "y_pred = model2.predict(X_test)\n",
        "accuracy = accuracy_score(Y_test, y_pred)\n",
        "print(\"Accuracy:\", accuracy)"
      ],
      "metadata": {
        "colab": {
          "base_uri": "https://localhost:8080/"
        },
        "id": "KTqVVtKBtghr",
        "outputId": "057dce68-70e9-4d8c-c324-e77271f085c9"
      },
      "execution_count": null,
      "outputs": [
        {
          "output_type": "stream",
          "name": "stdout",
          "text": [
            "Accuracy: 0.3808411214953271\n"
          ]
        }
      ]
    },
    {
      "cell_type": "code",
      "source": [
        "print(\"R2 : {:.3f}\" .format(model2.score(X_train, Y_train)))\n",
        "\n",
        "from sklearn.metrics import classification_report\n",
        "#print(classification_report(Y_test, Y_pred))\n",
        "print(model2.intercept_)\n",
        "print(model2.coef_)   "
      ],
      "metadata": {
        "colab": {
          "base_uri": "https://localhost:8080/"
        },
        "id": "1LI8SO1Qtnpj",
        "outputId": "f2268d10-9cdb-41cf-a4dd-2fb6dd818c66"
      },
      "execution_count": null,
      "outputs": [
        {
          "output_type": "stream",
          "name": "stdout",
          "text": [
            "R2 : 0.752\n",
            "[ 1.52447519 -0.49156398  1.13112361 -1.03848984  1.20218412 -0.47157565\n",
            " -1.85615345]\n",
            "[[-0.09118201 -0.26110293  0.30101297 ... -1.22133644  1.1521554\n",
            "   0.3562575 ]\n",
            " [ 0.58901422 -0.12198444 -0.5102492  ...  0.39796013 -0.39428918\n",
            "  -0.13323784]\n",
            " [ 0.45516927 -0.48651624 -0.6940332  ... -0.87671292  0.9174846\n",
            "  -0.62112065]\n",
            " ...\n",
            " [-0.25117821  0.67026801 -0.42039291 ... -0.04384486 -0.12435912\n",
            "   0.94053625]\n",
            " [-0.59934385  0.38894798  0.29328565 ...  0.12728691 -1.447157\n",
            "  -0.39247297]\n",
            " [ 0.60528015 -0.21413015  0.29398839 ... -0.28927008 -0.0973485\n",
            "  -0.1492814 ]]\n"
          ]
        }
      ]
    },
    {
      "cell_type": "code",
      "source": [
        "coefficient2 = model2.coef_"
      ],
      "metadata": {
        "id": "0fMPIgrMt9a6"
      },
      "execution_count": null,
      "outputs": []
    },
    {
      "cell_type": "code",
      "source": [
        "transposed_array2 = np.transpose(pd.DataFrame(coefficient2))"
      ],
      "metadata": {
        "id": "N4tAGa6HuC4s"
      },
      "execution_count": null,
      "outputs": []
    },
    {
      "cell_type": "code",
      "source": [
        "transposed_array2"
      ],
      "metadata": {
        "colab": {
          "base_uri": "https://localhost:8080/",
          "height": 424
        },
        "id": "AzWqqFHCuHRA",
        "outputId": "2784c769-0695-4ad2-cb50-7b7a58c54ca9"
      },
      "execution_count": null,
      "outputs": [
        {
          "output_type": "execute_result",
          "data": {
            "text/plain": [
              "            0         1         2         3         4         5         6\n",
              "0   -0.091182  0.589014  0.455169 -0.707760 -0.251178 -0.599344  0.605280\n",
              "1   -0.261103 -0.121984 -0.486516  0.024518  0.670268  0.388948 -0.214130\n",
              "2    0.301013 -0.510249 -0.694033  0.736388 -0.420393  0.293286  0.293988\n",
              "3   -0.004276  0.817091  0.913682 -0.084397 -1.337597 -0.526900  0.222397\n",
              "4    0.371117  1.168206  0.574274 -4.038458 -0.785109  1.070140  1.639831\n",
              "..        ...       ...       ...       ...       ...       ...       ...\n",
              "218 -0.363868  0.440245  1.179243 -1.247943  0.046556 -0.077978  0.023746\n",
              "219  0.216709 -0.055318  0.958523 -2.275321 -0.364514  1.531910 -0.011991\n",
              "220 -1.221336  0.397960 -0.876713  1.905917 -0.043845  0.127287 -0.289270\n",
              "221  1.152155 -0.394289  0.917485 -0.006486 -0.124359 -1.447157 -0.097348\n",
              "222  0.356257 -0.133238 -0.621121 -0.000681  0.940536 -0.392473 -0.149281\n",
              "\n",
              "[223 rows x 7 columns]"
            ],
            "text/html": [
              "\n",
              "  <div id=\"df-a4c8cb90-16a5-4cbf-8b14-a7999a1b2eec\">\n",
              "    <div class=\"colab-df-container\">\n",
              "      <div>\n",
              "<style scoped>\n",
              "    .dataframe tbody tr th:only-of-type {\n",
              "        vertical-align: middle;\n",
              "    }\n",
              "\n",
              "    .dataframe tbody tr th {\n",
              "        vertical-align: top;\n",
              "    }\n",
              "\n",
              "    .dataframe thead th {\n",
              "        text-align: right;\n",
              "    }\n",
              "</style>\n",
              "<table border=\"1\" class=\"dataframe\">\n",
              "  <thead>\n",
              "    <tr style=\"text-align: right;\">\n",
              "      <th></th>\n",
              "      <th>0</th>\n",
              "      <th>1</th>\n",
              "      <th>2</th>\n",
              "      <th>3</th>\n",
              "      <th>4</th>\n",
              "      <th>5</th>\n",
              "      <th>6</th>\n",
              "    </tr>\n",
              "  </thead>\n",
              "  <tbody>\n",
              "    <tr>\n",
              "      <th>0</th>\n",
              "      <td>-0.091182</td>\n",
              "      <td>0.589014</td>\n",
              "      <td>0.455169</td>\n",
              "      <td>-0.707760</td>\n",
              "      <td>-0.251178</td>\n",
              "      <td>-0.599344</td>\n",
              "      <td>0.605280</td>\n",
              "    </tr>\n",
              "    <tr>\n",
              "      <th>1</th>\n",
              "      <td>-0.261103</td>\n",
              "      <td>-0.121984</td>\n",
              "      <td>-0.486516</td>\n",
              "      <td>0.024518</td>\n",
              "      <td>0.670268</td>\n",
              "      <td>0.388948</td>\n",
              "      <td>-0.214130</td>\n",
              "    </tr>\n",
              "    <tr>\n",
              "      <th>2</th>\n",
              "      <td>0.301013</td>\n",
              "      <td>-0.510249</td>\n",
              "      <td>-0.694033</td>\n",
              "      <td>0.736388</td>\n",
              "      <td>-0.420393</td>\n",
              "      <td>0.293286</td>\n",
              "      <td>0.293988</td>\n",
              "    </tr>\n",
              "    <tr>\n",
              "      <th>3</th>\n",
              "      <td>-0.004276</td>\n",
              "      <td>0.817091</td>\n",
              "      <td>0.913682</td>\n",
              "      <td>-0.084397</td>\n",
              "      <td>-1.337597</td>\n",
              "      <td>-0.526900</td>\n",
              "      <td>0.222397</td>\n",
              "    </tr>\n",
              "    <tr>\n",
              "      <th>4</th>\n",
              "      <td>0.371117</td>\n",
              "      <td>1.168206</td>\n",
              "      <td>0.574274</td>\n",
              "      <td>-4.038458</td>\n",
              "      <td>-0.785109</td>\n",
              "      <td>1.070140</td>\n",
              "      <td>1.639831</td>\n",
              "    </tr>\n",
              "    <tr>\n",
              "      <th>...</th>\n",
              "      <td>...</td>\n",
              "      <td>...</td>\n",
              "      <td>...</td>\n",
              "      <td>...</td>\n",
              "      <td>...</td>\n",
              "      <td>...</td>\n",
              "      <td>...</td>\n",
              "    </tr>\n",
              "    <tr>\n",
              "      <th>218</th>\n",
              "      <td>-0.363868</td>\n",
              "      <td>0.440245</td>\n",
              "      <td>1.179243</td>\n",
              "      <td>-1.247943</td>\n",
              "      <td>0.046556</td>\n",
              "      <td>-0.077978</td>\n",
              "      <td>0.023746</td>\n",
              "    </tr>\n",
              "    <tr>\n",
              "      <th>219</th>\n",
              "      <td>0.216709</td>\n",
              "      <td>-0.055318</td>\n",
              "      <td>0.958523</td>\n",
              "      <td>-2.275321</td>\n",
              "      <td>-0.364514</td>\n",
              "      <td>1.531910</td>\n",
              "      <td>-0.011991</td>\n",
              "    </tr>\n",
              "    <tr>\n",
              "      <th>220</th>\n",
              "      <td>-1.221336</td>\n",
              "      <td>0.397960</td>\n",
              "      <td>-0.876713</td>\n",
              "      <td>1.905917</td>\n",
              "      <td>-0.043845</td>\n",
              "      <td>0.127287</td>\n",
              "      <td>-0.289270</td>\n",
              "    </tr>\n",
              "    <tr>\n",
              "      <th>221</th>\n",
              "      <td>1.152155</td>\n",
              "      <td>-0.394289</td>\n",
              "      <td>0.917485</td>\n",
              "      <td>-0.006486</td>\n",
              "      <td>-0.124359</td>\n",
              "      <td>-1.447157</td>\n",
              "      <td>-0.097348</td>\n",
              "    </tr>\n",
              "    <tr>\n",
              "      <th>222</th>\n",
              "      <td>0.356257</td>\n",
              "      <td>-0.133238</td>\n",
              "      <td>-0.621121</td>\n",
              "      <td>-0.000681</td>\n",
              "      <td>0.940536</td>\n",
              "      <td>-0.392473</td>\n",
              "      <td>-0.149281</td>\n",
              "    </tr>\n",
              "  </tbody>\n",
              "</table>\n",
              "<p>223 rows × 7 columns</p>\n",
              "</div>\n",
              "      <button class=\"colab-df-convert\" onclick=\"convertToInteractive('df-a4c8cb90-16a5-4cbf-8b14-a7999a1b2eec')\"\n",
              "              title=\"Convert this dataframe to an interactive table.\"\n",
              "              style=\"display:none;\">\n",
              "        \n",
              "  <svg xmlns=\"http://www.w3.org/2000/svg\" height=\"24px\"viewBox=\"0 0 24 24\"\n",
              "       width=\"24px\">\n",
              "    <path d=\"M0 0h24v24H0V0z\" fill=\"none\"/>\n",
              "    <path d=\"M18.56 5.44l.94 2.06.94-2.06 2.06-.94-2.06-.94-.94-2.06-.94 2.06-2.06.94zm-11 1L8.5 8.5l.94-2.06 2.06-.94-2.06-.94L8.5 2.5l-.94 2.06-2.06.94zm10 10l.94 2.06.94-2.06 2.06-.94-2.06-.94-.94-2.06-.94 2.06-2.06.94z\"/><path d=\"M17.41 7.96l-1.37-1.37c-.4-.4-.92-.59-1.43-.59-.52 0-1.04.2-1.43.59L10.3 9.45l-7.72 7.72c-.78.78-.78 2.05 0 2.83L4 21.41c.39.39.9.59 1.41.59.51 0 1.02-.2 1.41-.59l7.78-7.78 2.81-2.81c.8-.78.8-2.07 0-2.86zM5.41 20L4 18.59l7.72-7.72 1.47 1.35L5.41 20z\"/>\n",
              "  </svg>\n",
              "      </button>\n",
              "      \n",
              "  <style>\n",
              "    .colab-df-container {\n",
              "      display:flex;\n",
              "      flex-wrap:wrap;\n",
              "      gap: 12px;\n",
              "    }\n",
              "\n",
              "    .colab-df-convert {\n",
              "      background-color: #E8F0FE;\n",
              "      border: none;\n",
              "      border-radius: 50%;\n",
              "      cursor: pointer;\n",
              "      display: none;\n",
              "      fill: #1967D2;\n",
              "      height: 32px;\n",
              "      padding: 0 0 0 0;\n",
              "      width: 32px;\n",
              "    }\n",
              "\n",
              "    .colab-df-convert:hover {\n",
              "      background-color: #E2EBFA;\n",
              "      box-shadow: 0px 1px 2px rgba(60, 64, 67, 0.3), 0px 1px 3px 1px rgba(60, 64, 67, 0.15);\n",
              "      fill: #174EA6;\n",
              "    }\n",
              "\n",
              "    [theme=dark] .colab-df-convert {\n",
              "      background-color: #3B4455;\n",
              "      fill: #D2E3FC;\n",
              "    }\n",
              "\n",
              "    [theme=dark] .colab-df-convert:hover {\n",
              "      background-color: #434B5C;\n",
              "      box-shadow: 0px 1px 3px 1px rgba(0, 0, 0, 0.15);\n",
              "      filter: drop-shadow(0px 1px 2px rgba(0, 0, 0, 0.3));\n",
              "      fill: #FFFFFF;\n",
              "    }\n",
              "  </style>\n",
              "\n",
              "      <script>\n",
              "        const buttonEl =\n",
              "          document.querySelector('#df-a4c8cb90-16a5-4cbf-8b14-a7999a1b2eec button.colab-df-convert');\n",
              "        buttonEl.style.display =\n",
              "          google.colab.kernel.accessAllowed ? 'block' : 'none';\n",
              "\n",
              "        async function convertToInteractive(key) {\n",
              "          const element = document.querySelector('#df-a4c8cb90-16a5-4cbf-8b14-a7999a1b2eec');\n",
              "          const dataTable =\n",
              "            await google.colab.kernel.invokeFunction('convertToInteractive',\n",
              "                                                     [key], {});\n",
              "          if (!dataTable) return;\n",
              "\n",
              "          const docLinkHtml = 'Like what you see? Visit the ' +\n",
              "            '<a target=\"_blank\" href=https://colab.research.google.com/notebooks/data_table.ipynb>data table notebook</a>'\n",
              "            + ' to learn more about interactive tables.';\n",
              "          element.innerHTML = '';\n",
              "          dataTable['output_type'] = 'display_data';\n",
              "          await google.colab.output.renderOutput(dataTable, element);\n",
              "          const docLink = document.createElement('div');\n",
              "          docLink.innerHTML = docLinkHtml;\n",
              "          element.appendChild(docLink);\n",
              "        }\n",
              "      </script>\n",
              "    </div>\n",
              "  </div>\n",
              "  "
            ]
          },
          "metadata": {},
          "execution_count": 65
        }
      ]
    },
    {
      "cell_type": "code",
      "source": [
        "transposed_array2[7] = col_name[\"colnames.X_train.\"]"
      ],
      "metadata": {
        "id": "m0Hm9HvuuSJN"
      },
      "execution_count": null,
      "outputs": []
    },
    {
      "cell_type": "code",
      "source": [
        "transposed_array2"
      ],
      "metadata": {
        "colab": {
          "base_uri": "https://localhost:8080/",
          "height": 424
        },
        "id": "oaeoQXSdN2FX",
        "outputId": "7bf7a0cd-54dd-494e-e940-745f83ec45aa"
      },
      "execution_count": null,
      "outputs": [
        {
          "output_type": "execute_result",
          "data": {
            "text/plain": [
              "            0         1         2         3         4         5         6  \\\n",
              "0   -0.091182  0.589014  0.455169 -0.707760 -0.251178 -0.599344  0.605280   \n",
              "1   -0.261103 -0.121984 -0.486516  0.024518  0.670268  0.388948 -0.214130   \n",
              "2    0.301013 -0.510249 -0.694033  0.736388 -0.420393  0.293286  0.293988   \n",
              "3   -0.004276  0.817091  0.913682 -0.084397 -1.337597 -0.526900  0.222397   \n",
              "4    0.371117  1.168206  0.574274 -4.038458 -0.785109  1.070140  1.639831   \n",
              "..        ...       ...       ...       ...       ...       ...       ...   \n",
              "218 -0.363868  0.440245  1.179243 -1.247943  0.046556 -0.077978  0.023746   \n",
              "219  0.216709 -0.055318  0.958523 -2.275321 -0.364514  1.531910 -0.011991   \n",
              "220 -1.221336  0.397960 -0.876713  1.905917 -0.043845  0.127287 -0.289270   \n",
              "221  1.152155 -0.394289  0.917485 -0.006486 -0.124359 -1.447157 -0.097348   \n",
              "222  0.356257 -0.133238 -0.621121 -0.000681  0.940536 -0.392473 -0.149281   \n",
              "\n",
              "                7  \n",
              "0          height  \n",
              "1          weight  \n",
              "2       want_diet  \n",
              "3             bmi  \n",
              "4         p_price  \n",
              "..            ...  \n",
              "218   p_created_8  \n",
              "219  p_quantity_0  \n",
              "220  p_quantity_1  \n",
              "221  p_quantity_2  \n",
              "222  p_quantity_3  \n",
              "\n",
              "[223 rows x 8 columns]"
            ],
            "text/html": [
              "\n",
              "  <div id=\"df-ebe06b6c-1db5-4241-9683-343e4a24b546\">\n",
              "    <div class=\"colab-df-container\">\n",
              "      <div>\n",
              "<style scoped>\n",
              "    .dataframe tbody tr th:only-of-type {\n",
              "        vertical-align: middle;\n",
              "    }\n",
              "\n",
              "    .dataframe tbody tr th {\n",
              "        vertical-align: top;\n",
              "    }\n",
              "\n",
              "    .dataframe thead th {\n",
              "        text-align: right;\n",
              "    }\n",
              "</style>\n",
              "<table border=\"1\" class=\"dataframe\">\n",
              "  <thead>\n",
              "    <tr style=\"text-align: right;\">\n",
              "      <th></th>\n",
              "      <th>0</th>\n",
              "      <th>1</th>\n",
              "      <th>2</th>\n",
              "      <th>3</th>\n",
              "      <th>4</th>\n",
              "      <th>5</th>\n",
              "      <th>6</th>\n",
              "      <th>7</th>\n",
              "    </tr>\n",
              "  </thead>\n",
              "  <tbody>\n",
              "    <tr>\n",
              "      <th>0</th>\n",
              "      <td>-0.091182</td>\n",
              "      <td>0.589014</td>\n",
              "      <td>0.455169</td>\n",
              "      <td>-0.707760</td>\n",
              "      <td>-0.251178</td>\n",
              "      <td>-0.599344</td>\n",
              "      <td>0.605280</td>\n",
              "      <td>height</td>\n",
              "    </tr>\n",
              "    <tr>\n",
              "      <th>1</th>\n",
              "      <td>-0.261103</td>\n",
              "      <td>-0.121984</td>\n",
              "      <td>-0.486516</td>\n",
              "      <td>0.024518</td>\n",
              "      <td>0.670268</td>\n",
              "      <td>0.388948</td>\n",
              "      <td>-0.214130</td>\n",
              "      <td>weight</td>\n",
              "    </tr>\n",
              "    <tr>\n",
              "      <th>2</th>\n",
              "      <td>0.301013</td>\n",
              "      <td>-0.510249</td>\n",
              "      <td>-0.694033</td>\n",
              "      <td>0.736388</td>\n",
              "      <td>-0.420393</td>\n",
              "      <td>0.293286</td>\n",
              "      <td>0.293988</td>\n",
              "      <td>want_diet</td>\n",
              "    </tr>\n",
              "    <tr>\n",
              "      <th>3</th>\n",
              "      <td>-0.004276</td>\n",
              "      <td>0.817091</td>\n",
              "      <td>0.913682</td>\n",
              "      <td>-0.084397</td>\n",
              "      <td>-1.337597</td>\n",
              "      <td>-0.526900</td>\n",
              "      <td>0.222397</td>\n",
              "      <td>bmi</td>\n",
              "    </tr>\n",
              "    <tr>\n",
              "      <th>4</th>\n",
              "      <td>0.371117</td>\n",
              "      <td>1.168206</td>\n",
              "      <td>0.574274</td>\n",
              "      <td>-4.038458</td>\n",
              "      <td>-0.785109</td>\n",
              "      <td>1.070140</td>\n",
              "      <td>1.639831</td>\n",
              "      <td>p_price</td>\n",
              "    </tr>\n",
              "    <tr>\n",
              "      <th>...</th>\n",
              "      <td>...</td>\n",
              "      <td>...</td>\n",
              "      <td>...</td>\n",
              "      <td>...</td>\n",
              "      <td>...</td>\n",
              "      <td>...</td>\n",
              "      <td>...</td>\n",
              "      <td>...</td>\n",
              "    </tr>\n",
              "    <tr>\n",
              "      <th>218</th>\n",
              "      <td>-0.363868</td>\n",
              "      <td>0.440245</td>\n",
              "      <td>1.179243</td>\n",
              "      <td>-1.247943</td>\n",
              "      <td>0.046556</td>\n",
              "      <td>-0.077978</td>\n",
              "      <td>0.023746</td>\n",
              "      <td>p_created_8</td>\n",
              "    </tr>\n",
              "    <tr>\n",
              "      <th>219</th>\n",
              "      <td>0.216709</td>\n",
              "      <td>-0.055318</td>\n",
              "      <td>0.958523</td>\n",
              "      <td>-2.275321</td>\n",
              "      <td>-0.364514</td>\n",
              "      <td>1.531910</td>\n",
              "      <td>-0.011991</td>\n",
              "      <td>p_quantity_0</td>\n",
              "    </tr>\n",
              "    <tr>\n",
              "      <th>220</th>\n",
              "      <td>-1.221336</td>\n",
              "      <td>0.397960</td>\n",
              "      <td>-0.876713</td>\n",
              "      <td>1.905917</td>\n",
              "      <td>-0.043845</td>\n",
              "      <td>0.127287</td>\n",
              "      <td>-0.289270</td>\n",
              "      <td>p_quantity_1</td>\n",
              "    </tr>\n",
              "    <tr>\n",
              "      <th>221</th>\n",
              "      <td>1.152155</td>\n",
              "      <td>-0.394289</td>\n",
              "      <td>0.917485</td>\n",
              "      <td>-0.006486</td>\n",
              "      <td>-0.124359</td>\n",
              "      <td>-1.447157</td>\n",
              "      <td>-0.097348</td>\n",
              "      <td>p_quantity_2</td>\n",
              "    </tr>\n",
              "    <tr>\n",
              "      <th>222</th>\n",
              "      <td>0.356257</td>\n",
              "      <td>-0.133238</td>\n",
              "      <td>-0.621121</td>\n",
              "      <td>-0.000681</td>\n",
              "      <td>0.940536</td>\n",
              "      <td>-0.392473</td>\n",
              "      <td>-0.149281</td>\n",
              "      <td>p_quantity_3</td>\n",
              "    </tr>\n",
              "  </tbody>\n",
              "</table>\n",
              "<p>223 rows × 8 columns</p>\n",
              "</div>\n",
              "      <button class=\"colab-df-convert\" onclick=\"convertToInteractive('df-ebe06b6c-1db5-4241-9683-343e4a24b546')\"\n",
              "              title=\"Convert this dataframe to an interactive table.\"\n",
              "              style=\"display:none;\">\n",
              "        \n",
              "  <svg xmlns=\"http://www.w3.org/2000/svg\" height=\"24px\"viewBox=\"0 0 24 24\"\n",
              "       width=\"24px\">\n",
              "    <path d=\"M0 0h24v24H0V0z\" fill=\"none\"/>\n",
              "    <path d=\"M18.56 5.44l.94 2.06.94-2.06 2.06-.94-2.06-.94-.94-2.06-.94 2.06-2.06.94zm-11 1L8.5 8.5l.94-2.06 2.06-.94-2.06-.94L8.5 2.5l-.94 2.06-2.06.94zm10 10l.94 2.06.94-2.06 2.06-.94-2.06-.94-.94-2.06-.94 2.06-2.06.94z\"/><path d=\"M17.41 7.96l-1.37-1.37c-.4-.4-.92-.59-1.43-.59-.52 0-1.04.2-1.43.59L10.3 9.45l-7.72 7.72c-.78.78-.78 2.05 0 2.83L4 21.41c.39.39.9.59 1.41.59.51 0 1.02-.2 1.41-.59l7.78-7.78 2.81-2.81c.8-.78.8-2.07 0-2.86zM5.41 20L4 18.59l7.72-7.72 1.47 1.35L5.41 20z\"/>\n",
              "  </svg>\n",
              "      </button>\n",
              "      \n",
              "  <style>\n",
              "    .colab-df-container {\n",
              "      display:flex;\n",
              "      flex-wrap:wrap;\n",
              "      gap: 12px;\n",
              "    }\n",
              "\n",
              "    .colab-df-convert {\n",
              "      background-color: #E8F0FE;\n",
              "      border: none;\n",
              "      border-radius: 50%;\n",
              "      cursor: pointer;\n",
              "      display: none;\n",
              "      fill: #1967D2;\n",
              "      height: 32px;\n",
              "      padding: 0 0 0 0;\n",
              "      width: 32px;\n",
              "    }\n",
              "\n",
              "    .colab-df-convert:hover {\n",
              "      background-color: #E2EBFA;\n",
              "      box-shadow: 0px 1px 2px rgba(60, 64, 67, 0.3), 0px 1px 3px 1px rgba(60, 64, 67, 0.15);\n",
              "      fill: #174EA6;\n",
              "    }\n",
              "\n",
              "    [theme=dark] .colab-df-convert {\n",
              "      background-color: #3B4455;\n",
              "      fill: #D2E3FC;\n",
              "    }\n",
              "\n",
              "    [theme=dark] .colab-df-convert:hover {\n",
              "      background-color: #434B5C;\n",
              "      box-shadow: 0px 1px 3px 1px rgba(0, 0, 0, 0.15);\n",
              "      filter: drop-shadow(0px 1px 2px rgba(0, 0, 0, 0.3));\n",
              "      fill: #FFFFFF;\n",
              "    }\n",
              "  </style>\n",
              "\n",
              "      <script>\n",
              "        const buttonEl =\n",
              "          document.querySelector('#df-ebe06b6c-1db5-4241-9683-343e4a24b546 button.colab-df-convert');\n",
              "        buttonEl.style.display =\n",
              "          google.colab.kernel.accessAllowed ? 'block' : 'none';\n",
              "\n",
              "        async function convertToInteractive(key) {\n",
              "          const element = document.querySelector('#df-ebe06b6c-1db5-4241-9683-343e4a24b546');\n",
              "          const dataTable =\n",
              "            await google.colab.kernel.invokeFunction('convertToInteractive',\n",
              "                                                     [key], {});\n",
              "          if (!dataTable) return;\n",
              "\n",
              "          const docLinkHtml = 'Like what you see? Visit the ' +\n",
              "            '<a target=\"_blank\" href=https://colab.research.google.com/notebooks/data_table.ipynb>data table notebook</a>'\n",
              "            + ' to learn more about interactive tables.';\n",
              "          element.innerHTML = '';\n",
              "          dataTable['output_type'] = 'display_data';\n",
              "          await google.colab.output.renderOutput(dataTable, element);\n",
              "          const docLink = document.createElement('div');\n",
              "          docLink.innerHTML = docLinkHtml;\n",
              "          element.appendChild(docLink);\n",
              "        }\n",
              "      </script>\n",
              "    </div>\n",
              "  </div>\n",
              "  "
            ]
          },
          "metadata": {},
          "execution_count": 67
        }
      ]
    },
    {
      "cell_type": "code",
      "source": [
        "transposed_array[4] = col_name[\"colnames.X_train.\"]"
      ],
      "metadata": {
        "id": "TXnLAHgfN8S4"
      },
      "execution_count": null,
      "outputs": []
    },
    {
      "cell_type": "code",
      "source": [
        "transposed_array2"
      ],
      "metadata": {
        "id": "wwIly5UUN_uj",
        "outputId": "1317916a-60df-42cc-9bb7-b069f531eff7",
        "colab": {
          "base_uri": "https://localhost:8080/",
          "height": 424
        }
      },
      "execution_count": null,
      "outputs": [
        {
          "output_type": "execute_result",
          "data": {
            "text/plain": [
              "            0         1         2         3         4         5         6  \\\n",
              "0   -0.091182  0.589014  0.455169 -0.707760 -0.251178 -0.599344  0.605280   \n",
              "1   -0.261103 -0.121984 -0.486516  0.024518  0.670268  0.388948 -0.214130   \n",
              "2    0.301013 -0.510249 -0.694033  0.736388 -0.420393  0.293286  0.293988   \n",
              "3   -0.004276  0.817091  0.913682 -0.084397 -1.337597 -0.526900  0.222397   \n",
              "4    0.371117  1.168206  0.574274 -4.038458 -0.785109  1.070140  1.639831   \n",
              "..        ...       ...       ...       ...       ...       ...       ...   \n",
              "218 -0.363868  0.440245  1.179243 -1.247943  0.046556 -0.077978  0.023746   \n",
              "219  0.216709 -0.055318  0.958523 -2.275321 -0.364514  1.531910 -0.011991   \n",
              "220 -1.221336  0.397960 -0.876713  1.905917 -0.043845  0.127287 -0.289270   \n",
              "221  1.152155 -0.394289  0.917485 -0.006486 -0.124359 -1.447157 -0.097348   \n",
              "222  0.356257 -0.133238 -0.621121 -0.000681  0.940536 -0.392473 -0.149281   \n",
              "\n",
              "                7  \n",
              "0          height  \n",
              "1          weight  \n",
              "2       want_diet  \n",
              "3             bmi  \n",
              "4         p_price  \n",
              "..            ...  \n",
              "218   p_created_8  \n",
              "219  p_quantity_0  \n",
              "220  p_quantity_1  \n",
              "221  p_quantity_2  \n",
              "222  p_quantity_3  \n",
              "\n",
              "[223 rows x 8 columns]"
            ],
            "text/html": [
              "\n",
              "  <div id=\"df-06eccc28-0ae9-4ceb-b147-091cda25ca4c\">\n",
              "    <div class=\"colab-df-container\">\n",
              "      <div>\n",
              "<style scoped>\n",
              "    .dataframe tbody tr th:only-of-type {\n",
              "        vertical-align: middle;\n",
              "    }\n",
              "\n",
              "    .dataframe tbody tr th {\n",
              "        vertical-align: top;\n",
              "    }\n",
              "\n",
              "    .dataframe thead th {\n",
              "        text-align: right;\n",
              "    }\n",
              "</style>\n",
              "<table border=\"1\" class=\"dataframe\">\n",
              "  <thead>\n",
              "    <tr style=\"text-align: right;\">\n",
              "      <th></th>\n",
              "      <th>0</th>\n",
              "      <th>1</th>\n",
              "      <th>2</th>\n",
              "      <th>3</th>\n",
              "      <th>4</th>\n",
              "      <th>5</th>\n",
              "      <th>6</th>\n",
              "      <th>7</th>\n",
              "    </tr>\n",
              "  </thead>\n",
              "  <tbody>\n",
              "    <tr>\n",
              "      <th>0</th>\n",
              "      <td>-0.091182</td>\n",
              "      <td>0.589014</td>\n",
              "      <td>0.455169</td>\n",
              "      <td>-0.707760</td>\n",
              "      <td>-0.251178</td>\n",
              "      <td>-0.599344</td>\n",
              "      <td>0.605280</td>\n",
              "      <td>height</td>\n",
              "    </tr>\n",
              "    <tr>\n",
              "      <th>1</th>\n",
              "      <td>-0.261103</td>\n",
              "      <td>-0.121984</td>\n",
              "      <td>-0.486516</td>\n",
              "      <td>0.024518</td>\n",
              "      <td>0.670268</td>\n",
              "      <td>0.388948</td>\n",
              "      <td>-0.214130</td>\n",
              "      <td>weight</td>\n",
              "    </tr>\n",
              "    <tr>\n",
              "      <th>2</th>\n",
              "      <td>0.301013</td>\n",
              "      <td>-0.510249</td>\n",
              "      <td>-0.694033</td>\n",
              "      <td>0.736388</td>\n",
              "      <td>-0.420393</td>\n",
              "      <td>0.293286</td>\n",
              "      <td>0.293988</td>\n",
              "      <td>want_diet</td>\n",
              "    </tr>\n",
              "    <tr>\n",
              "      <th>3</th>\n",
              "      <td>-0.004276</td>\n",
              "      <td>0.817091</td>\n",
              "      <td>0.913682</td>\n",
              "      <td>-0.084397</td>\n",
              "      <td>-1.337597</td>\n",
              "      <td>-0.526900</td>\n",
              "      <td>0.222397</td>\n",
              "      <td>bmi</td>\n",
              "    </tr>\n",
              "    <tr>\n",
              "      <th>4</th>\n",
              "      <td>0.371117</td>\n",
              "      <td>1.168206</td>\n",
              "      <td>0.574274</td>\n",
              "      <td>-4.038458</td>\n",
              "      <td>-0.785109</td>\n",
              "      <td>1.070140</td>\n",
              "      <td>1.639831</td>\n",
              "      <td>p_price</td>\n",
              "    </tr>\n",
              "    <tr>\n",
              "      <th>...</th>\n",
              "      <td>...</td>\n",
              "      <td>...</td>\n",
              "      <td>...</td>\n",
              "      <td>...</td>\n",
              "      <td>...</td>\n",
              "      <td>...</td>\n",
              "      <td>...</td>\n",
              "      <td>...</td>\n",
              "    </tr>\n",
              "    <tr>\n",
              "      <th>218</th>\n",
              "      <td>-0.363868</td>\n",
              "      <td>0.440245</td>\n",
              "      <td>1.179243</td>\n",
              "      <td>-1.247943</td>\n",
              "      <td>0.046556</td>\n",
              "      <td>-0.077978</td>\n",
              "      <td>0.023746</td>\n",
              "      <td>p_created_8</td>\n",
              "    </tr>\n",
              "    <tr>\n",
              "      <th>219</th>\n",
              "      <td>0.216709</td>\n",
              "      <td>-0.055318</td>\n",
              "      <td>0.958523</td>\n",
              "      <td>-2.275321</td>\n",
              "      <td>-0.364514</td>\n",
              "      <td>1.531910</td>\n",
              "      <td>-0.011991</td>\n",
              "      <td>p_quantity_0</td>\n",
              "    </tr>\n",
              "    <tr>\n",
              "      <th>220</th>\n",
              "      <td>-1.221336</td>\n",
              "      <td>0.397960</td>\n",
              "      <td>-0.876713</td>\n",
              "      <td>1.905917</td>\n",
              "      <td>-0.043845</td>\n",
              "      <td>0.127287</td>\n",
              "      <td>-0.289270</td>\n",
              "      <td>p_quantity_1</td>\n",
              "    </tr>\n",
              "    <tr>\n",
              "      <th>221</th>\n",
              "      <td>1.152155</td>\n",
              "      <td>-0.394289</td>\n",
              "      <td>0.917485</td>\n",
              "      <td>-0.006486</td>\n",
              "      <td>-0.124359</td>\n",
              "      <td>-1.447157</td>\n",
              "      <td>-0.097348</td>\n",
              "      <td>p_quantity_2</td>\n",
              "    </tr>\n",
              "    <tr>\n",
              "      <th>222</th>\n",
              "      <td>0.356257</td>\n",
              "      <td>-0.133238</td>\n",
              "      <td>-0.621121</td>\n",
              "      <td>-0.000681</td>\n",
              "      <td>0.940536</td>\n",
              "      <td>-0.392473</td>\n",
              "      <td>-0.149281</td>\n",
              "      <td>p_quantity_3</td>\n",
              "    </tr>\n",
              "  </tbody>\n",
              "</table>\n",
              "<p>223 rows × 8 columns</p>\n",
              "</div>\n",
              "      <button class=\"colab-df-convert\" onclick=\"convertToInteractive('df-06eccc28-0ae9-4ceb-b147-091cda25ca4c')\"\n",
              "              title=\"Convert this dataframe to an interactive table.\"\n",
              "              style=\"display:none;\">\n",
              "        \n",
              "  <svg xmlns=\"http://www.w3.org/2000/svg\" height=\"24px\"viewBox=\"0 0 24 24\"\n",
              "       width=\"24px\">\n",
              "    <path d=\"M0 0h24v24H0V0z\" fill=\"none\"/>\n",
              "    <path d=\"M18.56 5.44l.94 2.06.94-2.06 2.06-.94-2.06-.94-.94-2.06-.94 2.06-2.06.94zm-11 1L8.5 8.5l.94-2.06 2.06-.94-2.06-.94L8.5 2.5l-.94 2.06-2.06.94zm10 10l.94 2.06.94-2.06 2.06-.94-2.06-.94-.94-2.06-.94 2.06-2.06.94z\"/><path d=\"M17.41 7.96l-1.37-1.37c-.4-.4-.92-.59-1.43-.59-.52 0-1.04.2-1.43.59L10.3 9.45l-7.72 7.72c-.78.78-.78 2.05 0 2.83L4 21.41c.39.39.9.59 1.41.59.51 0 1.02-.2 1.41-.59l7.78-7.78 2.81-2.81c.8-.78.8-2.07 0-2.86zM5.41 20L4 18.59l7.72-7.72 1.47 1.35L5.41 20z\"/>\n",
              "  </svg>\n",
              "      </button>\n",
              "      \n",
              "  <style>\n",
              "    .colab-df-container {\n",
              "      display:flex;\n",
              "      flex-wrap:wrap;\n",
              "      gap: 12px;\n",
              "    }\n",
              "\n",
              "    .colab-df-convert {\n",
              "      background-color: #E8F0FE;\n",
              "      border: none;\n",
              "      border-radius: 50%;\n",
              "      cursor: pointer;\n",
              "      display: none;\n",
              "      fill: #1967D2;\n",
              "      height: 32px;\n",
              "      padding: 0 0 0 0;\n",
              "      width: 32px;\n",
              "    }\n",
              "\n",
              "    .colab-df-convert:hover {\n",
              "      background-color: #E2EBFA;\n",
              "      box-shadow: 0px 1px 2px rgba(60, 64, 67, 0.3), 0px 1px 3px 1px rgba(60, 64, 67, 0.15);\n",
              "      fill: #174EA6;\n",
              "    }\n",
              "\n",
              "    [theme=dark] .colab-df-convert {\n",
              "      background-color: #3B4455;\n",
              "      fill: #D2E3FC;\n",
              "    }\n",
              "\n",
              "    [theme=dark] .colab-df-convert:hover {\n",
              "      background-color: #434B5C;\n",
              "      box-shadow: 0px 1px 3px 1px rgba(0, 0, 0, 0.15);\n",
              "      filter: drop-shadow(0px 1px 2px rgba(0, 0, 0, 0.3));\n",
              "      fill: #FFFFFF;\n",
              "    }\n",
              "  </style>\n",
              "\n",
              "      <script>\n",
              "        const buttonEl =\n",
              "          document.querySelector('#df-06eccc28-0ae9-4ceb-b147-091cda25ca4c button.colab-df-convert');\n",
              "        buttonEl.style.display =\n",
              "          google.colab.kernel.accessAllowed ? 'block' : 'none';\n",
              "\n",
              "        async function convertToInteractive(key) {\n",
              "          const element = document.querySelector('#df-06eccc28-0ae9-4ceb-b147-091cda25ca4c');\n",
              "          const dataTable =\n",
              "            await google.colab.kernel.invokeFunction('convertToInteractive',\n",
              "                                                     [key], {});\n",
              "          if (!dataTable) return;\n",
              "\n",
              "          const docLinkHtml = 'Like what you see? Visit the ' +\n",
              "            '<a target=\"_blank\" href=https://colab.research.google.com/notebooks/data_table.ipynb>data table notebook</a>'\n",
              "            + ' to learn more about interactive tables.';\n",
              "          element.innerHTML = '';\n",
              "          dataTable['output_type'] = 'display_data';\n",
              "          await google.colab.output.renderOutput(dataTable, element);\n",
              "          const docLink = document.createElement('div');\n",
              "          docLink.innerHTML = docLinkHtml;\n",
              "          element.appendChild(docLink);\n",
              "        }\n",
              "      </script>\n",
              "    </div>\n",
              "  </div>\n",
              "  "
            ]
          },
          "metadata": {},
          "execution_count": 68
        }
      ]
    }
  ]
}